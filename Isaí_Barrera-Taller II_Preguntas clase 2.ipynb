{
  "nbformat": 4,
  "nbformat_minor": 0,
  "metadata": {
    "colab": {
      "name": "Untitled3.ipynb",
      "provenance": []
    },
    "kernelspec": {
      "name": "python3",
      "display_name": "Python 3"
    },
    "language_info": {
      "name": "python"
    }
  },
  "cells": [
    {
      "cell_type": "code",
      "execution_count": null,
      "metadata": {
        "id": "T8eeBT7vUiYW"
      },
      "outputs": [],
      "source": [
        "\"# Preguntas clase 2 - TALLLER II \"\n",
        "   "
      ]
    },
    {
      "cell_type": "markdown",
      "source": [
        "\"## 1 Programa la impresión de una tabla de multiplicar para todos los números entre 1 y 10, usando For-loops\\n\"\n",
        " \"## Rendimiento esperado:\\n\",\n",
        "    \"     1   times  1  =    1\\n\",\n",
        "    \"     1   times  2  =    2\\n\",\n",
        "    \"     ...\\n\",\n",
        "    \"     1   times 10  =   10\\n\",\n",
        "    \"     ...\\n\",\n",
        "    \"    10   times 10  =  100  \""
      ],
      "metadata": {
        "id": "Vpxn7D2WYV8J"
      }
    },
    {
      "cell_type": "code",
      "source": [
        "multiplication_table=int(input(\"Ingrese un número natural:\"))\n",
        "for i in range (1,11):\n",
        "    print(f'{i}*{multiplication_table}={i*multiplication_table}')"
      ],
      "metadata": {
        "colab": {
          "base_uri": "https://localhost:8080/"
        },
        "id": "nHFc87QWU7ki",
        "outputId": "762b0c61-a37a-49ae-cae5-a224052b7dbf"
      },
      "execution_count": 9,
      "outputs": [
        {
          "output_type": "stream",
          "name": "stdout",
          "text": [
            "Ingrese un número natural:7\n",
            "1*7=7\n",
            "2*7=14\n",
            "3*7=21\n",
            "4*7=28\n",
            "5*7=35\n",
            "6*7=42\n",
            "7*7=49\n",
            "8*7=56\n",
            "9*7=63\n",
            "10*7=70\n"
          ]
        }
      ]
    },
    {
      "cell_type": "markdown",
      "source": [
        "\"## 2 Programe un calendario (para todos los meses) para 2020 usando For-loops\\n\","
      ],
      "metadata": {
        "id": "XNbie2sEVC73"
      }
    },
    {
      "cell_type": "code",
      "source": [
        "\"## Rendimiento esperado:\\n\",\n",
        "    \"     January                     \\n\",\n",
        "    \"     Mon Tue Wed Thu Fri Sat Sun  \\n\",\n",
        "    \"              1   2   3   4   5\\n\",\n",
        "    \"      6   7   8   9  10  11  12\\n\",\n",
        "    \"     13  14  15  16  17  18  19\\n\",\n",
        "    \"     20  21  22  23  24  25  26\\n\",\n",
        "    \"     27  28  29  30  31\\n\",\n",
        "    \"     \\n\",\n",
        "    \"     February\\n\",\n",
        "    \"     Mon Tue Wed Thu Fri Sat Sun\\n\",\n",
        "    \"                           1   2\"\n"
      ],
      "metadata": {
        "id": "lLehl6kuVIOD"
      },
      "execution_count": null,
      "outputs": []
    },
    {
      "cell_type": "code",
      "source": [
        "import calendar  # funcion para hacer calendarios\n",
        "calendario= calendar.TextCalendar(calendar.MONDAY) # Primer día de la semana\n",
        "print(calendario.formatyear(2020,3,1,1,4))# funcion formtyear , AÑO, Amplitud entre columnas, número de semanas que queremos por cada fila y número de columnas para meses"
      ],
      "metadata": {
        "colab": {
          "base_uri": "https://localhost:8080/"
        },
        "id": "7TFurRAubTKn",
        "outputId": "3512f847-8791-4ce8-c479-703418421057"
      },
      "execution_count": 11,
      "outputs": [
        {
          "output_type": "stream",
          "name": "stdout",
          "text": [
            "                                                       2020\n",
            "\n",
            "          January                      February                      March                        April\n",
            "Mon Tue Wed Thu Fri Sat Sun  Mon Tue Wed Thu Fri Sat Sun  Mon Tue Wed Thu Fri Sat Sun  Mon Tue Wed Thu Fri Sat Sun\n",
            "          1   2   3   4   5                        1   2                            1            1   2   3   4   5\n",
            "  6   7   8   9  10  11  12    3   4   5   6   7   8   9    2   3   4   5   6   7   8    6   7   8   9  10  11  12\n",
            " 13  14  15  16  17  18  19   10  11  12  13  14  15  16    9  10  11  12  13  14  15   13  14  15  16  17  18  19\n",
            " 20  21  22  23  24  25  26   17  18  19  20  21  22  23   16  17  18  19  20  21  22   20  21  22  23  24  25  26\n",
            " 27  28  29  30  31           24  25  26  27  28  29       23  24  25  26  27  28  29   27  28  29  30\n",
            "                                                           30  31\n",
            "\n",
            "            May                          June                         July                        August\n",
            "Mon Tue Wed Thu Fri Sat Sun  Mon Tue Wed Thu Fri Sat Sun  Mon Tue Wed Thu Fri Sat Sun  Mon Tue Wed Thu Fri Sat Sun\n",
            "                  1   2   3    1   2   3   4   5   6   7            1   2   3   4   5                        1   2\n",
            "  4   5   6   7   8   9  10    8   9  10  11  12  13  14    6   7   8   9  10  11  12    3   4   5   6   7   8   9\n",
            " 11  12  13  14  15  16  17   15  16  17  18  19  20  21   13  14  15  16  17  18  19   10  11  12  13  14  15  16\n",
            " 18  19  20  21  22  23  24   22  23  24  25  26  27  28   20  21  22  23  24  25  26   17  18  19  20  21  22  23\n",
            " 25  26  27  28  29  30  31   29  30                       27  28  29  30  31           24  25  26  27  28  29  30\n",
            "                                                                                        31\n",
            "\n",
            "         September                     October                      November                     December\n",
            "Mon Tue Wed Thu Fri Sat Sun  Mon Tue Wed Thu Fri Sat Sun  Mon Tue Wed Thu Fri Sat Sun  Mon Tue Wed Thu Fri Sat Sun\n",
            "      1   2   3   4   5   6                1   2   3   4                            1        1   2   3   4   5   6\n",
            "  7   8   9  10  11  12  13    5   6   7   8   9  10  11    2   3   4   5   6   7   8    7   8   9  10  11  12  13\n",
            " 14  15  16  17  18  19  20   12  13  14  15  16  17  18    9  10  11  12  13  14  15   14  15  16  17  18  19  20\n",
            " 21  22  23  24  25  26  27   19  20  21  22  23  24  25   16  17  18  19  20  21  22   21  22  23  24  25  26  27\n",
            " 28  29  30                   26  27  28  29  30  31       23  24  25  26  27  28  29   28  29  30  31\n",
            "                                                           30\n",
            "\n"
          ]
        }
      ]
    },
    {
      "cell_type": "markdown",
      "source": [
        "\"## 3 Programe la siguiente regulación fiscal, usando datos ficticios con declaraciones condicionales, use las tres cláusulas (if, elif, else) al menos una vez\\n\",\n",
        "    \"Si el valor del paquete es inferior a 20 no tienes que pagar ningún impuesto de importación\\n\",\n",
        "    \"Si el valor del paquete está entre 20 y 30 pagas 10% de impuesto de importación sobre el valor total\\n\",\n",
        "    \"Si el valor del paquete está entre 30 y 60, paga un impuesto de importación adicional del 7% sobre el valor superior a 30\\n\",\n",
        "    \"Si el valor del paquete es superior a 60, paga un impuesto de importación adicional del 3% sobre el valor superior a 60\\n\",\n",
        "    \"\\n\",\n",
        "    \"Si el valor del paquete es superior a 10 pagas el 20% de IVA sobre la suma total del valor e impuesto de importación\\n\",\n",
        "    \"\\n\",\n",
        "    \"El valor del paquete debe establecerse en una variable y debe probar si su programa funciona para diferentes valores.\\n\",\n",
        "    \"### Salida esperada (ejemplo):\\n\",\n",
        "    \"El valor del paquete fue de 25,00, el impuesto de importación es de 2,50, el IVA es de 5,50, el total es de 33,00.\""
      ],
      "metadata": {
        "id": "5mRQt-_vVNff"
      }
    },
    {
      "cell_type": "code",
      "source": [
        "valor_del_paquete=int(input(\"Ingrese el valor del paquete:\"))\n",
        "# valor del paquete : si es menor a 20  no se tiene que pagar impuesto (0%), vp>10 => 20% IVA\n",
        "# si esta entre 20 y 30 paga 10%, \n",
        "# si esta entre 30 y 60 paga 17%\n",
        "# si es superior a 60 paga 20%\n",
        "while valor_del_paquete:\n",
        "    if (valor_del_paquete >20 ):\n",
        "        print (\"Sí paga impuesto de importación\" ,\n",
        "                \"valor del paquete\" , valor_del_paquete ,\n",
        "                \"El impuesto de importación es 10%\" ,\n",
        "                \"El valor del IVA es\",((valor_del_paquete*10)/100),\n",
        "                \"su valor total es\" ,((valor_del_paquete*10)/100)+valor_del_paquete)\n",
        "        break\n",
        "    if (valor_del_paquete >10 ):\n",
        "        print (\"Iva 10%\" ,\n",
        "                \"El valor del IVA es\",((valor_del_paquete*10)/100),\n",
        "                \"su valor total es\" ,((valor_del_paquete*10)/100)+valor_del_paquete)\n",
        "        break\n",
        "    if (valor_del_paquete <20):\n",
        "        print (\"no paga impuesto de importación\" ,\n",
        "                \"valor del paquete\" , valor_del_paquete ,\n",
        "                \"El impuesto de importación es 0\" ,\n",
        "                \"su valor total es\" , valor_del_paquete)\n",
        "        break\n",
        "    if (valor_del_paquete >=20 and valor_del_paquete<=30):\n",
        "        print (\"Paga el 10% de impuesto de importación\" ,\n",
        "                \"valor del paquete\" ,valor_del_paquete  ,\n",
        "                \"El impuesto de importación es\"  ,((valor_del_paquete*10)/100) ,\n",
        "                \"su valor total es\" ,(((valor_del_paquete*10)/100)+valor_del_paquete))\n",
        "        break\n",
        "    if (valor_del_paquete >=30 and valor_del_paquete <=60):\n",
        "        print (\"Paga el 17% de impuesto de importación(paga un impuesto de importación adicional del 7%)\",\n",
        "                \"valor del paquete\",valor_del_paquete  ,\n",
        "                \"El impuesto de importación es\"  ,((valor_del_paquete*17)/100)  ,\n",
        "                \"su valor total es\" ,(((valor_del_paquete*17)/100)+valor_del_paquete))\n",
        "        break\n",
        "    elif (valor_del_paquete >60):\n",
        "        print (\"Paga el 20% de impuesto de importación(paga un impuesto de importación adicional del 3% sobre el valor superior a 60)\",\n",
        "                \"valor del paquete\" , valor_del_paquete ,\n",
        "                \"El impuesto de importación es\" , ((valor_del_paquete*20)/100) ,\n",
        "                \"su valor total es\" , (((valor_del_paquete*20)/100)+valor_del_paquete))\n",
        "        break"
      ],
      "metadata": {
        "colab": {
          "base_uri": "https://localhost:8080/"
        },
        "id": "lsvbJ1suVXsa",
        "outputId": "16ddbe37-84b6-4409-b502-edeb070a7aef"
      },
      "execution_count": 17,
      "outputs": [
        {
          "output_type": "stream",
          "name": "stdout",
          "text": [
            "Ingrese el valor del paquete:25\n",
            "Sí paga impuesto de importación valor del paquete 25 El impuesto de importación es 0 El valor del IVA es 2.5 su valor total es 27.5\n"
          ]
        }
      ]
    },
    {
      "cell_type": "markdown",
      "source": [
        "\"## 4 Reescribe el siguiente programa reemplazando la declaración condicional con expresiones condicionales\"\n",
        "   ]"
      ],
      "metadata": {
        "id": "A3eXuOHVVmkO"
      }
    },
    {
      "cell_type": "code",
      "source": [
        "    \"a = -1\\n\",\n",
        "    \"if a == 0:\\n\",\n",
        "    \"    result = \\\"= 0\\\"\\n\",\n",
        "    \"elif a>1:\\n\",\n",
        "    \"    result = \\\"> 1\\\"\\n\",\n",
        "    \"else:\\n\",\n",
        "    \"    result = \\\"<= 1\\\"\\n\",\n",
        "    \"print(result)    \"\n",
        "  "
      ],
      "metadata": {
        "id": "GRfvVspKVuoz"
      },
      "execution_count": null,
      "outputs": []
    },
    {
      "cell_type": "code",
      "source": [
        "a = -1\n",
        "if a == 0:\n",
        "    result = \"= 0\"\n",
        "elif a>1:\n",
        "    result = \"> 1\"\n",
        "else:\n",
        "    result = \"<= 1\"\n",
        "print(result)  "
      ],
      "metadata": {
        "colab": {
          "base_uri": "https://localhost:8080/"
        },
        "id": "Mlm2Cke3ikRV",
        "outputId": "ef775144-43a4-4d03-b8fe-2b28eb890436"
      },
      "execution_count": 18,
      "outputs": [
        {
          "output_type": "stream",
          "name": "stdout",
          "text": [
            "<= 1\n"
          ]
        }
      ]
    },
    {
      "cell_type": "code",
      "source": [
        "a =-1\n",
        "result = \"= 0 \"  if a == 0 else \"<= 1\" \n",
        "print(result)"
      ],
      "metadata": {
        "colab": {
          "base_uri": "https://localhost:8080/"
        },
        "id": "HnqRzYUsje-C",
        "outputId": "06ca828e-47d6-495c-f6c6-310e7e59828e"
      },
      "execution_count": 19,
      "outputs": [
        {
          "output_type": "stream",
          "name": "stdout",
          "text": [
            "<= 1\n"
          ]
        }
      ]
    },
    {
      "cell_type": "markdown",
      "source": [
        "[\n",
        "    \"## 5 Reescriba el siguiente programa reemplazando la lista de comprensión con un while-loop\"\n",
        "   ]"
      ],
      "metadata": {
        "id": "bteVG9HTVv23"
      }
    },
    {
      "cell_type": "code",
      "source": [
        "    \"list_1 = [1, 2, 3, 4]\\n\",\n",
        "    \"result  =  [digit ** 2 for digit in list_1 if digit % 2 == 0]\\n\",\n",
        "    \"print(result)\"\n",
        "   "
      ],
      "metadata": {
        "id": "zeu6R_-sVzz-"
      },
      "execution_count": null,
      "outputs": []
    },
    {
      "cell_type": "code",
      "source": [
        "list_1 = [1, 2, 3, 4]\n",
        "result  =  [digit ** 2 for digit in list_1 if digit % 2 == 0]\n",
        "print(result)"
      ],
      "metadata": {
        "colab": {
          "base_uri": "https://localhost:8080/"
        },
        "id": "As8nwv3PjdfD",
        "outputId": "8dd98b4a-aaa2-419c-deff-cff716bf3059"
      },
      "execution_count": 20,
      "outputs": [
        {
          "output_type": "stream",
          "name": "stdout",
          "text": [
            "[4, 16]\n"
          ]
        }
      ]
    },
    {
      "cell_type": "code",
      "source": [
        "list_1 = [1, 2, 3, 4]\n",
        "while list_1 :\n",
        "    result  =  [digit ** 2 for digit in list_1 if digit % 2 == 0]\n",
        "    print(result)\n",
        "    break"
      ],
      "metadata": {
        "colab": {
          "base_uri": "https://localhost:8080/"
        },
        "id": "I3qWNaCejrkX",
        "outputId": "830817d2-9cc3-451b-ed7e-7ee05ed13a2e"
      },
      "execution_count": 21,
      "outputs": [
        {
          "output_type": "stream",
          "name": "stdout",
          "text": [
            "[4, 16]\n"
          ]
        }
      ]
    },
    {
      "cell_type": "markdown",
      "source": [
        "\"## 6 En la clase 1 te mostramos las siguientes afirmaciones:\""
      ],
      "metadata": {
        "id": "PCu4J__zV4oC"
      }
    },
    {
      "cell_type": "code",
      "source": [
        "     \"name\": \"stdout\",\n",
        "     \"output_type\": \"stream\",\n",
        "     \"text\": [\n",
        "      \"True\\n\",\n",
        "      \"False\\n\"\n",
        "\n",
        "    \"a = 1\\n\",\n",
        "    \"b = 1\\n\",\n",
        "    \"print(a is b)\\n\",\n",
        "    \"\\n\",\n",
        "    \"a = 1000\\n\",\n",
        "    \"b = 1000\\n\",\n",
        "    \"print(a is b)\"\n"
      ],
      "metadata": {
        "id": "nyi_RkwyWRxU"
      },
      "execution_count": null,
      "outputs": []
    },
    {
      "cell_type": "code",
      "source": [
        "a = 1\n",
        "b = 1\n",
        "print(a is b)\n",
        "\n",
        "a = 1000\n",
        "b = 1000\n",
        "print(a is b)\n"
      ],
      "metadata": {
        "colab": {
          "base_uri": "https://localhost:8080/"
        },
        "id": "FF_pXAOKkCac",
        "outputId": "5600ee9b-6a8e-4ea4-d16d-c82d3c3b8be6"
      },
      "execution_count": 22,
      "outputs": [
        {
          "output_type": "stream",
          "name": "stdout",
          "text": [
            "True\n",
            "False\n"
          ]
        }
      ]
    },
    {
      "cell_type": "markdown",
      "source": [
        "\"Y, por supuesto, tienes curiosidad por la diferencia. Aprendimos en la clase 1 que los números enteros -5 hasta 255 fueron internados (guardados en disco) cuando comenzó Python, esto significa que los objetos con estos valores ya estaban creados. Ahora deseaamos escribir un programa que nos diga que 256 es de hecho el primer número entero que Python no esta guardado en disco.\\n\",\n",
        "    \"\\n\",\n",
        "    \"Escrbimos el siguiente programa y ahora necsitamos explicar por qué este programa imprimirá \\\"Sorpresa\\\". ¿No debería romperse mientras se procesa el número entero 256, ya que ese número no está guardado internamente?\""
      ],
      "metadata": {
        "id": "zz5hx81DWabu"
      }
    },
    {
      "cell_type": "code",
      "source": [
        "     \"name\": \"stdout\",\n",
        "     \"output_type\": \"stream\",\n",
        "     \"text\": [\n",
        "      \"Surprise\\n\"\n",
        "\n",
        "   \"source\": [\n",
        "    \"for x in range(1000):\\n\",\n",
        "    \"    a = x\\n\",\n",
        "    \"    b = x\\n\",\n",
        "    \"    if not (a is b):\\n\",\n",
        "    \"        print(f\\\"the highest integer {x-1}\\\")\\n\",\n",
        "    \"        break\\n\",\n",
        "    \"else:\\n\",\n",
        "    \"    print(\\\"Surprise\\\")\"\n"
      ],
      "metadata": {
        "id": "W7V5x3QWWd0a"
      },
      "execution_count": null,
      "outputs": []
    },
    {
      "cell_type": "code",
      "source": [
        "for x in range(1000):\n",
        "    a = x\n",
        "    b = x\n",
        "    if not (a is b):\n",
        "        print(f\"the highest integer {x-1}\")\n",
        "        break\n",
        "else:\n",
        "    print(\"Surprise\")"
      ],
      "metadata": {
        "colab": {
          "base_uri": "https://localhost:8080/"
        },
        "id": "lfjmDpDzkphM",
        "outputId": "d440fc5f-e5ea-4133-dc03-d04d58c35bf9"
      },
      "execution_count": 24,
      "outputs": [
        {
          "output_type": "stream",
          "name": "stdout",
          "text": [
            "Surprise\n"
          ]
        }
      ]
    },
    {
      "cell_type": "markdown",
      "source": [
        "Un bucle for establece la variable iteradora en cada valor de una lista, arreglo o cadena proporcionada y repite el código en el cuerpo del bucle for para cada valor de la variable iteradora."
      ],
      "metadata": {
        "id": "WuURKj80k0DK"
      }
    },
    {
      "cell_type": "markdown",
      "source": [
        "\"## 7 Vuelva a escribir la siguiente declaración sin un bucle y solo usando declaraciones condicionales:\""
      ],
      "metadata": {
        "id": "0I4ATstzWlXO"
      }
    },
    {
      "cell_type": "code",
      "source": [
        "    \"i = 1\\n\",\n",
        "    \"while i < 4:\\n\",\n",
        "    \"    print(i)\\n\",\n",
        "    \"    i +=1\""
      ],
      "metadata": {
        "id": "PM_ftubvWp30"
      },
      "execution_count": null,
      "outputs": []
    },
    {
      "cell_type": "code",
      "source": [
        "i = 1\n",
        "while i < 4:\n",
        "    print(i)\n",
        "    i +=1"
      ],
      "metadata": {
        "colab": {
          "base_uri": "https://localhost:8080/"
        },
        "id": "mKA2bSk7ka_H",
        "outputId": "00d609a6-15d7-49f2-c62c-eddc2b192e51"
      },
      "execution_count": 23,
      "outputs": [
        {
          "output_type": "stream",
          "name": "stdout",
          "text": [
            "1\n",
            "2\n",
            "3\n"
          ]
        }
      ]
    }
  ]
}