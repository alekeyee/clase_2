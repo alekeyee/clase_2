{
  "cells": [
    {
      "cell_type": "markdown",
      "source": [
        "# **Universidad Central del Ecuador**\n",
        "## **Facultad de Ciencias Económicas**\n",
        "## **Carrera de Estadística**\n",
        "## **Curso de Python - Clase 2**\n",
        "\n",
        "### **Nombre:** Caiza Ramírez Nicole"
      ],
      "metadata": {
        "id": "x4D3bQE6eoJe"
      }
    },
    {
      "cell_type": "markdown",
      "metadata": {
        "id": "pV3lOYeqTeDi"
      },
      "source": [
        "## **PREGUNTAS**"
      ]
    },
    {
      "cell_type": "markdown",
      "metadata": {
        "id": "dRu_TSAITeFI"
      },
      "source": [
        "## **1.** Programa la impresión de una tabla de multiplicar para todos los números entre 1 y 10, usando For-loops\n",
        "## _Rendimiento esperado:_\n",
        "     1   times  1  =    1\n",
        "     1   times  2  =    2\n",
        "     ...\n",
        "     1   times 10  =   10\n",
        "     ...\n",
        "    10   times 10  =  100  "
      ]
    },
    {
      "cell_type": "code",
      "source": [
        "# Creamos las tablas de multiplicar de 0 a 11  de una en una\n",
        "for num1 in range(0, 11, 1):\n",
        "  # Imprimimos el el nombre de la tabla de multiplicar que corresponde\n",
        "  print(\"Tabla de multiplicar del\", num1)\n",
        "  # Hasta 11 para que vaya de 0-10\n",
        "  for num2 in range(11):\n",
        "    # Imprimimos la tablita de cada tabla\n",
        "    print(num1, \"X\", num2, \"=\", num1*num2)\n",
        "    "
      ],
      "metadata": {
        "colab": {
          "base_uri": "https://localhost:8080/"
        },
        "id": "ZYhaCDB4JWe4",
        "outputId": "f956161a-f7d5-4b05-8531-117ecabdaabb"
      },
      "execution_count": null,
      "outputs": [
        {
          "output_type": "stream",
          "name": "stdout",
          "text": [
            "Tabla de multiplicar del 0\n",
            "0 X 0 = 0\n",
            "0 X 1 = 0\n",
            "0 X 2 = 0\n",
            "0 X 3 = 0\n",
            "0 X 4 = 0\n",
            "0 X 5 = 0\n",
            "0 X 6 = 0\n",
            "0 X 7 = 0\n",
            "0 X 8 = 0\n",
            "0 X 9 = 0\n",
            "0 X 10 = 0\n",
            "Tabla de multiplicar del 1\n",
            "1 X 0 = 0\n",
            "1 X 1 = 1\n",
            "1 X 2 = 2\n",
            "1 X 3 = 3\n",
            "1 X 4 = 4\n",
            "1 X 5 = 5\n",
            "1 X 6 = 6\n",
            "1 X 7 = 7\n",
            "1 X 8 = 8\n",
            "1 X 9 = 9\n",
            "1 X 10 = 10\n",
            "Tabla de multiplicar del 2\n",
            "2 X 0 = 0\n",
            "2 X 1 = 2\n",
            "2 X 2 = 4\n",
            "2 X 3 = 6\n",
            "2 X 4 = 8\n",
            "2 X 5 = 10\n",
            "2 X 6 = 12\n",
            "2 X 7 = 14\n",
            "2 X 8 = 16\n",
            "2 X 9 = 18\n",
            "2 X 10 = 20\n",
            "Tabla de multiplicar del 3\n",
            "3 X 0 = 0\n",
            "3 X 1 = 3\n",
            "3 X 2 = 6\n",
            "3 X 3 = 9\n",
            "3 X 4 = 12\n",
            "3 X 5 = 15\n",
            "3 X 6 = 18\n",
            "3 X 7 = 21\n",
            "3 X 8 = 24\n",
            "3 X 9 = 27\n",
            "3 X 10 = 30\n",
            "Tabla de multiplicar del 4\n",
            "4 X 0 = 0\n",
            "4 X 1 = 4\n",
            "4 X 2 = 8\n",
            "4 X 3 = 12\n",
            "4 X 4 = 16\n",
            "4 X 5 = 20\n",
            "4 X 6 = 24\n",
            "4 X 7 = 28\n",
            "4 X 8 = 32\n",
            "4 X 9 = 36\n",
            "4 X 10 = 40\n",
            "Tabla de multiplicar del 5\n",
            "5 X 0 = 0\n",
            "5 X 1 = 5\n",
            "5 X 2 = 10\n",
            "5 X 3 = 15\n",
            "5 X 4 = 20\n",
            "5 X 5 = 25\n",
            "5 X 6 = 30\n",
            "5 X 7 = 35\n",
            "5 X 8 = 40\n",
            "5 X 9 = 45\n",
            "5 X 10 = 50\n",
            "Tabla de multiplicar del 6\n",
            "6 X 0 = 0\n",
            "6 X 1 = 6\n",
            "6 X 2 = 12\n",
            "6 X 3 = 18\n",
            "6 X 4 = 24\n",
            "6 X 5 = 30\n",
            "6 X 6 = 36\n",
            "6 X 7 = 42\n",
            "6 X 8 = 48\n",
            "6 X 9 = 54\n",
            "6 X 10 = 60\n",
            "Tabla de multiplicar del 7\n",
            "7 X 0 = 0\n",
            "7 X 1 = 7\n",
            "7 X 2 = 14\n",
            "7 X 3 = 21\n",
            "7 X 4 = 28\n",
            "7 X 5 = 35\n",
            "7 X 6 = 42\n",
            "7 X 7 = 49\n",
            "7 X 8 = 56\n",
            "7 X 9 = 63\n",
            "7 X 10 = 70\n",
            "Tabla de multiplicar del 8\n",
            "8 X 0 = 0\n",
            "8 X 1 = 8\n",
            "8 X 2 = 16\n",
            "8 X 3 = 24\n",
            "8 X 4 = 32\n",
            "8 X 5 = 40\n",
            "8 X 6 = 48\n",
            "8 X 7 = 56\n",
            "8 X 8 = 64\n",
            "8 X 9 = 72\n",
            "8 X 10 = 80\n",
            "Tabla de multiplicar del 9\n",
            "9 X 0 = 0\n",
            "9 X 1 = 9\n",
            "9 X 2 = 18\n",
            "9 X 3 = 27\n",
            "9 X 4 = 36\n",
            "9 X 5 = 45\n",
            "9 X 6 = 54\n",
            "9 X 7 = 63\n",
            "9 X 8 = 72\n",
            "9 X 9 = 81\n",
            "9 X 10 = 90\n",
            "Tabla de multiplicar del 10\n",
            "10 X 0 = 0\n",
            "10 X 1 = 10\n",
            "10 X 2 = 20\n",
            "10 X 3 = 30\n",
            "10 X 4 = 40\n",
            "10 X 5 = 50\n",
            "10 X 6 = 60\n",
            "10 X 7 = 70\n",
            "10 X 8 = 80\n",
            "10 X 9 = 90\n",
            "10 X 10 = 100\n"
          ]
        }
      ]
    },
    {
      "cell_type": "markdown",
      "metadata": {
        "id": "Zu9V7WQnTeFN"
      },
      "source": [
        "## **2.** Programe un calendario (para todos los meses) para 2020 usando For-loops\n",
        "## _Rendimiento esperado:_\n",
        "     January                     \n",
        "     Mon Tue Wed Thu Fri Sat Sun  \n",
        "              1   2   3   4   5\n",
        "      6   7   8   9  10  11  12\n",
        "     13  14  15  16  17  18  19\n",
        "     20  21  22  23  24  25  26\n",
        "     27  28  29  30  31\n",
        "     \n",
        "     February\n",
        "     Mon Tue Wed Thu Fri Sat Sun\n",
        "                           1   2"
      ]
    },
    {
      "cell_type": "markdown",
      "source": [
        "**Forma 1:** Utilizando una librería"
      ],
      "metadata": {
        "id": "WZW57SBdH4xr"
      }
    },
    {
      "cell_type": "code",
      "source": [
        "# Importamos la librería calendar\n",
        "import calendar\n",
        "\n",
        "# calendar.Monday menciona que el calendario empezará el día lunes\n",
        "calendario = calendar.TextCalendar(calendar.MONDAY)\n",
        "\n",
        "# Ejecución de prueba para el primer mes del calendario\n",
        "calendario.prmonth(2020, 1)\n",
        "\n",
        "# Impresión del calendario anual\n",
        "print(calendario.formatyear(2020, 1, 1, 3))\n",
        "## 2020 (año), 2(ancho de la columna de cada mes), 1(semana por cada linea), 3(espacio entre cada columna de mes)\n"
      ],
      "metadata": {
        "colab": {
          "base_uri": "https://localhost:8080/"
        },
        "id": "XOnCrg6dzZDA",
        "outputId": "2ebce731-f3a9-46a5-f8d7-3857e2a1f65f"
      },
      "execution_count": null,
      "outputs": [
        {
          "output_type": "stream",
          "name": "stdout",
          "text": [
            "    January 2020\n",
            "Mo Tu We Th Fr Sa Su\n",
            "       1  2  3  4  5\n",
            " 6  7  8  9 10 11 12\n",
            "13 14 15 16 17 18 19\n",
            "20 21 22 23 24 25 26\n",
            "27 28 29 30 31\n",
            "                               2020\n",
            "\n",
            "      January                February                March\n",
            "Mo Tu We Th Fr Sa Su   Mo Tu We Th Fr Sa Su   Mo Tu We Th Fr Sa Su\n",
            "       1  2  3  4  5                   1  2                      1\n",
            " 6  7  8  9 10 11 12    3  4  5  6  7  8  9    2  3  4  5  6  7  8\n",
            "13 14 15 16 17 18 19   10 11 12 13 14 15 16    9 10 11 12 13 14 15\n",
            "20 21 22 23 24 25 26   17 18 19 20 21 22 23   16 17 18 19 20 21 22\n",
            "27 28 29 30 31         24 25 26 27 28 29      23 24 25 26 27 28 29\n",
            "                                              30 31\n",
            "\n",
            "       April                   May                    June\n",
            "Mo Tu We Th Fr Sa Su   Mo Tu We Th Fr Sa Su   Mo Tu We Th Fr Sa Su\n",
            "       1  2  3  4  5                1  2  3    1  2  3  4  5  6  7\n",
            " 6  7  8  9 10 11 12    4  5  6  7  8  9 10    8  9 10 11 12 13 14\n",
            "13 14 15 16 17 18 19   11 12 13 14 15 16 17   15 16 17 18 19 20 21\n",
            "20 21 22 23 24 25 26   18 19 20 21 22 23 24   22 23 24 25 26 27 28\n",
            "27 28 29 30            25 26 27 28 29 30 31   29 30\n",
            "\n",
            "        July                  August               September\n",
            "Mo Tu We Th Fr Sa Su   Mo Tu We Th Fr Sa Su   Mo Tu We Th Fr Sa Su\n",
            "       1  2  3  4  5                   1  2       1  2  3  4  5  6\n",
            " 6  7  8  9 10 11 12    3  4  5  6  7  8  9    7  8  9 10 11 12 13\n",
            "13 14 15 16 17 18 19   10 11 12 13 14 15 16   14 15 16 17 18 19 20\n",
            "20 21 22 23 24 25 26   17 18 19 20 21 22 23   21 22 23 24 25 26 27\n",
            "27 28 29 30 31         24 25 26 27 28 29 30   28 29 30\n",
            "                       31\n",
            "\n",
            "      October                November               December\n",
            "Mo Tu We Th Fr Sa Su   Mo Tu We Th Fr Sa Su   Mo Tu We Th Fr Sa Su\n",
            "          1  2  3  4                      1       1  2  3  4  5  6\n",
            " 5  6  7  8  9 10 11    2  3  4  5  6  7  8    7  8  9 10 11 12 13\n",
            "12 13 14 15 16 17 18    9 10 11 12 13 14 15   14 15 16 17 18 19 20\n",
            "19 20 21 22 23 24 25   16 17 18 19 20 21 22   21 22 23 24 25 26 27\n",
            "26 27 28 29 30 31      23 24 25 26 27 28 29   28 29 30 31\n",
            "                       30\n",
            "\n"
          ]
        }
      ]
    },
    {
      "cell_type": "markdown",
      "source": [
        "**Forma 2:** Utilizando For-Loops"
      ],
      "metadata": {
        "id": "PA0IDSXeIB0i"
      }
    },
    {
      "cell_type": "code",
      "source": [
        "## la función \"calendar\" implementa clases para trabajar con fechas para gestionar valores orientados en año / mes / día\n",
        "\n",
        "# Importamos la librería calendar\n",
        "import calendar\n",
        "\n",
        "# Permite el ingresar el año que deseamos\n",
        "año = int(input(\"Año:\"))\n",
        "\n",
        "for i in range(1, 13, 1):\n",
        "  # Impresión del calendario anual que ingresamos\n",
        "  print(calendar.month(año, i))\n"
      ],
      "metadata": {
        "colab": {
          "base_uri": "https://localhost:8080/"
        },
        "id": "6NXbIZxlIMNG",
        "outputId": "68b2daae-c4d5-4886-92fb-d40a4acd56d2"
      },
      "execution_count": null,
      "outputs": [
        {
          "output_type": "stream",
          "name": "stdout",
          "text": [
            "Año:2020\n",
            "    January 2020\n",
            "Mo Tu We Th Fr Sa Su\n",
            "       1  2  3  4  5\n",
            " 6  7  8  9 10 11 12\n",
            "13 14 15 16 17 18 19\n",
            "20 21 22 23 24 25 26\n",
            "27 28 29 30 31\n",
            "\n",
            "   February 2020\n",
            "Mo Tu We Th Fr Sa Su\n",
            "                1  2\n",
            " 3  4  5  6  7  8  9\n",
            "10 11 12 13 14 15 16\n",
            "17 18 19 20 21 22 23\n",
            "24 25 26 27 28 29\n",
            "\n",
            "     March 2020\n",
            "Mo Tu We Th Fr Sa Su\n",
            "                   1\n",
            " 2  3  4  5  6  7  8\n",
            " 9 10 11 12 13 14 15\n",
            "16 17 18 19 20 21 22\n",
            "23 24 25 26 27 28 29\n",
            "30 31\n",
            "\n",
            "     April 2020\n",
            "Mo Tu We Th Fr Sa Su\n",
            "       1  2  3  4  5\n",
            " 6  7  8  9 10 11 12\n",
            "13 14 15 16 17 18 19\n",
            "20 21 22 23 24 25 26\n",
            "27 28 29 30\n",
            "\n",
            "      May 2020\n",
            "Mo Tu We Th Fr Sa Su\n",
            "             1  2  3\n",
            " 4  5  6  7  8  9 10\n",
            "11 12 13 14 15 16 17\n",
            "18 19 20 21 22 23 24\n",
            "25 26 27 28 29 30 31\n",
            "\n",
            "     June 2020\n",
            "Mo Tu We Th Fr Sa Su\n",
            " 1  2  3  4  5  6  7\n",
            " 8  9 10 11 12 13 14\n",
            "15 16 17 18 19 20 21\n",
            "22 23 24 25 26 27 28\n",
            "29 30\n",
            "\n",
            "     July 2020\n",
            "Mo Tu We Th Fr Sa Su\n",
            "       1  2  3  4  5\n",
            " 6  7  8  9 10 11 12\n",
            "13 14 15 16 17 18 19\n",
            "20 21 22 23 24 25 26\n",
            "27 28 29 30 31\n",
            "\n",
            "    August 2020\n",
            "Mo Tu We Th Fr Sa Su\n",
            "                1  2\n",
            " 3  4  5  6  7  8  9\n",
            "10 11 12 13 14 15 16\n",
            "17 18 19 20 21 22 23\n",
            "24 25 26 27 28 29 30\n",
            "31\n",
            "\n",
            "   September 2020\n",
            "Mo Tu We Th Fr Sa Su\n",
            "    1  2  3  4  5  6\n",
            " 7  8  9 10 11 12 13\n",
            "14 15 16 17 18 19 20\n",
            "21 22 23 24 25 26 27\n",
            "28 29 30\n",
            "\n",
            "    October 2020\n",
            "Mo Tu We Th Fr Sa Su\n",
            "          1  2  3  4\n",
            " 5  6  7  8  9 10 11\n",
            "12 13 14 15 16 17 18\n",
            "19 20 21 22 23 24 25\n",
            "26 27 28 29 30 31\n",
            "\n",
            "   November 2020\n",
            "Mo Tu We Th Fr Sa Su\n",
            "                   1\n",
            " 2  3  4  5  6  7  8\n",
            " 9 10 11 12 13 14 15\n",
            "16 17 18 19 20 21 22\n",
            "23 24 25 26 27 28 29\n",
            "30\n",
            "\n",
            "   December 2020\n",
            "Mo Tu We Th Fr Sa Su\n",
            "    1  2  3  4  5  6\n",
            " 7  8  9 10 11 12 13\n",
            "14 15 16 17 18 19 20\n",
            "21 22 23 24 25 26 27\n",
            "28 29 30 31\n",
            "\n"
          ]
        }
      ]
    },
    {
      "cell_type": "markdown",
      "metadata": {
        "id": "_OJQYNCMTeFW"
      },
      "source": [
        "## **3.** Programe la siguiente regulación fiscal, usando datos ficticios con declaraciones condicionales, use las tres cláusulas (if, elif, else) al menos una vez\n",
        "## Si el valor del paquete es inferior a 20 no tienes que pagar ningún impuesto de importación\n",
        "Si el valor del paquete está entre 20 y 30 pagas 10% de impuesto de importación sobre el valor total.\n",
        "\n",
        "Si el valor del paquete está entre 30 y 60, paga un impuesto de importación adicional del 7% sobre el valor superior a 30\n",
        "\n",
        "Si el valor del paquete es superior a 60, paga un impuesto de importación adicional del 3% sobre el valor superior a 60\n",
        "\n",
        "Si el valor del paquete es superior a 10 pagas el 20% de IVA sobre la suma total del valor e impuesto de importación\n",
        "\n",
        "El valor del paquete debe establecerse en una variable y debe probar si su programa funciona para diferentes valores.\n",
        "\n",
        "### Salida esperada (ejemplo):\n",
        "El valor del paquete fue de 25,00, el impuesto de importación es de 2,50, el IVA es de 5,50, el total es de 33,00."
      ]
    },
    {
      "cell_type": "code",
      "source": [
        "# Ingreso del valor del paquete\n",
        "valor = int(input(\"Ingrese el valor del paquete \"))\n",
        "\n",
        "# Si es que el valor es inferior a 10 no tiene que pagar ningún impuesto.\n",
        "if valor < 10:\n",
        "    print(\"El valor del paquete fue de\",valor, \"no tiene que pagar ningún tipo de impuesto. Su total es de\",valor)\n",
        "\n",
        "# Si el valor del paquete es superior a 10 pagas el 20% de IVA sobre la suma total del valor e impuesto de importación\n",
        "# Si es inferior a 20 no paga impuiesto de importación\n",
        "elif valor >= 10 and valor < 20:\n",
        "    IVA = (valor * 0.2)\n",
        "    Total = round(valor + IVA, 2)\n",
        "    print(\"El valor del paquete fue de\",valor, \"no tiene que pagar impuesto de importación, si embargo el valor del IVA es de\", IVA,\". Su total es de\",Total)\n",
        "\n",
        "# Si es que el valor del paquete está entre 20 y 30 pagas 10% de impuesto de importación sobre el valor total.\n",
        "elif valor >= 20 and valor <= 30:\n",
        "    Impuesto = valor * 0.10\n",
        "    IVA = round(valor * 0.2 + Impuesto * 0.2, 2)\n",
        "    Total = round(valor + Impuesto + IVA, 2)\n",
        "    print(\"El valor del paquete fue de\", valor, \", el impuesto de importación es de\", Impuesto, \"y el IVA correspondiente es\", IVA, \". Su total es de\", Total )\n",
        "\n",
        "# Si el valor del paquete está entre 30 y 60, paga un impuesto de importación adicional del 7% \n",
        "elif valor >= 30 and valor <= 60:\n",
        "    Impuesto = valor * 0.07\n",
        "    IVA = round(valor * 0.2 + Impuesto * 0.2, 2)\n",
        "    Total = round(valor + Impuesto + IVA, 2)\n",
        "    print(\"El valor del paquete fue de\", valor, \", el impuesto de importación es de\", Impuesto, \"y el IVA correspondiente es\", IVA, \". Su total es de\", Total )\n",
        "\n",
        "# Si el valor del paquete es superior a 60, paga un impuesto de importación adicional del 3%\n",
        "elif valor > 60:\n",
        "     Impuesto = valor * 0.03\n",
        "     IVA = round(valor * 0.2 + Impuesto * 0.2, 2)\n",
        "     Total = round(valor + Impuesto + IVA, 2)\n",
        "     print(\"El valor del paquete fue de\", valor, \", el impuesto de importación es de\", Impuesto, \"y el IVA correspondiente es\", IVA, \". Su total es de\", Total )\n",
        "\n"
      ],
      "metadata": {
        "colab": {
          "base_uri": "https://localhost:8080/"
        },
        "id": "LzgybX2aRu4R",
        "outputId": "f41725be-73c7-446e-e47c-81e2d0b2a75a"
      },
      "execution_count": null,
      "outputs": [
        {
          "output_type": "stream",
          "name": "stdout",
          "text": [
            "Ingrese el valor del paquete 25\n",
            "El valor del paquete fue de 25 , el impuesto de importación es de 2.5 y el IVA correspondiente es 5.5 . Su total es de 33.0\n"
          ]
        }
      ]
    },
    {
      "cell_type": "markdown",
      "metadata": {
        "id": "vht8_cGoTeFZ"
      },
      "source": [
        "## **4.** Reescribe el siguiente programa reemplazando la declaración condicional con expresiones condicionales"
      ]
    },
    {
      "cell_type": "code",
      "execution_count": null,
      "metadata": {
        "id": "c3FHDmKeTeFc",
        "colab": {
          "base_uri": "https://localhost:8080/"
        },
        "outputId": "82b56dd8-c952-4a96-98f1-66a99bcff260"
      },
      "outputs": [
        {
          "output_type": "stream",
          "name": "stdout",
          "text": [
            "<= 1\n"
          ]
        }
      ],
      "source": [
        "a = -1\n",
        "if a == 0:\n",
        "    result = \"= 0\"\n",
        "elif a>1:\n",
        "    result = \"> 1\"\n",
        "else:\n",
        "    result = \"<= 1\"\n",
        "print(result)    "
      ]
    },
    {
      "cell_type": "code",
      "source": [
        "a = -1\n",
        "\n",
        "result = \"= 0\" if a == 0 else \"<= 1\"\n",
        "print(result)"
      ],
      "metadata": {
        "colab": {
          "base_uri": "https://localhost:8080/"
        },
        "id": "X-6WbElXXQWZ",
        "outputId": "91b7ff34-746b-4427-bdbc-2627bcecc838"
      },
      "execution_count": null,
      "outputs": [
        {
          "output_type": "stream",
          "name": "stdout",
          "text": [
            "<= 1\n"
          ]
        }
      ]
    },
    {
      "cell_type": "markdown",
      "metadata": {
        "id": "XRRObnuOTeFf"
      },
      "source": [
        "## **5.** Reescriba el siguiente programa reemplazando la lista de comprensión con un while-loop"
      ]
    },
    {
      "cell_type": "code",
      "execution_count": null,
      "metadata": {
        "id": "VvgkmqGmTeFh",
        "colab": {
          "base_uri": "https://localhost:8080/"
        },
        "outputId": "0e852dbe-795d-4091-dae4-6bc74cd992af"
      },
      "outputs": [
        {
          "output_type": "stream",
          "name": "stdout",
          "text": [
            "[4, 16]\n"
          ]
        }
      ],
      "source": [
        "list_1 = [1, 2, 3, 4]\n",
        "result  =  [digit ** 2 for digit in list_1 if digit % 2 == 0]\n",
        "print(result)"
      ]
    },
    {
      "cell_type": "code",
      "source": [
        "list_1 = [1, 2, 3, 4]\n",
        "while list_1:\n",
        "  result = [digit ** 2 for digit in list_1  if digit % 2 == 0]\n",
        "  print(result)\n",
        "  break"
      ],
      "metadata": {
        "colab": {
          "base_uri": "https://localhost:8080/"
        },
        "id": "qY-SzKgAYlZm",
        "outputId": "a78253aa-09c3-4a88-bc4d-bedfced85750"
      },
      "execution_count": null,
      "outputs": [
        {
          "output_type": "stream",
          "name": "stdout",
          "text": [
            "[4, 16]\n"
          ]
        }
      ]
    },
    {
      "cell_type": "markdown",
      "metadata": {
        "id": "wohw319TTeFj"
      },
      "source": [
        "## **6.** En la clase 1 te mostramos las siguientes afirmaciones:"
      ]
    },
    {
      "cell_type": "code",
      "execution_count": null,
      "metadata": {
        "id": "czkNkI3cTeFn",
        "outputId": "cf524e1b-8c9b-44ea-b7d6-dd244f48efd8",
        "colab": {
          "base_uri": "https://localhost:8080/"
        }
      },
      "outputs": [
        {
          "output_type": "stream",
          "name": "stdout",
          "text": [
            "True\n",
            "False\n"
          ]
        }
      ],
      "source": [
        "a = 1\n",
        "b = 1\n",
        "print(a is b)\n",
        "\n",
        "a = 1000\n",
        "b = 1000\n",
        "print(a is b)"
      ]
    },
    {
      "cell_type": "markdown",
      "metadata": {
        "id": "sq4opFt8TeFp"
      },
      "source": [
        "Y, por supuesto, tienes curiosidad por la diferencia. Aprendimos en la clase 1 que los números enteros -5 hasta 255 fueron internados (guardados en disco) cuando comenzó Python, esto significa que los objetos con estos valores ya estaban creados. Ahora deseaamos escribir un programa que nos diga que 256 es de hecho el primer número entero que Python no esta guardado en disco.\n",
        "\n",
        "Escrbimos el siguiente programa y ahora necsitamos explicar por qué este programa imprimirá \"Sorpresa\". ¿No debería romperse mientras se procesa el número entero 256, ya que ese número no está guardado internamente?"
      ]
    },
    {
      "cell_type": "code",
      "execution_count": null,
      "metadata": {
        "id": "fl7afOm_TeFr",
        "outputId": "98472bca-0273-4429-95b8-76151b4e8d8a",
        "colab": {
          "base_uri": "https://localhost:8080/"
        }
      },
      "outputs": [
        {
          "output_type": "stream",
          "name": "stdout",
          "text": [
            "Surprise\n"
          ]
        }
      ],
      "source": [
        "for x in range(1000):\n",
        "    a = x\n",
        "    b = x\n",
        "    if not (a is b):\n",
        "        print(f\"the highest integer {x-1}\")\n",
        "        break\n",
        "else:\n",
        "    print(\"Surprise\")"
      ]
    },
    {
      "cell_type": "markdown",
      "source": [
        "_Cuando usamos un **for** se crea un bucle y el código ejecuta la cantidad de veces que que le indica, sin embargo al llegar al 256 como los números fueron itinerados entre -5 y 255 supongo que debe deternerse ya que llegó a su límite._"
      ],
      "metadata": {
        "id": "pnzkjEsHZTi-"
      }
    },
    {
      "cell_type": "markdown",
      "metadata": {
        "id": "lyBJM-kOTeFu"
      },
      "source": [
        "## **7.** Vuelva a escribir la siguiente declaración sin un bucle y solo usando declaraciones condicionales:"
      ]
    },
    {
      "cell_type": "code",
      "execution_count": null,
      "metadata": {
        "id": "gelQXeTsTeFw",
        "colab": {
          "base_uri": "https://localhost:8080/"
        },
        "outputId": "271f1601-0ff8-447a-dd81-e98835d5fccd"
      },
      "outputs": [
        {
          "output_type": "stream",
          "name": "stdout",
          "text": [
            "1\n",
            "2\n",
            "3\n"
          ]
        }
      ],
      "source": [
        "i = 1\n",
        "while i < 4:\n",
        "    print(i)\n",
        "    i +=1"
      ]
    },
    {
      "cell_type": "code",
      "source": [
        "i = 1\n",
        "if i < 4:\n",
        "  print(i)\n",
        "  print(i + 1)\n",
        "  print(i + 2)\n",
        "\n"
      ],
      "metadata": {
        "colab": {
          "base_uri": "https://localhost:8080/"
        },
        "id": "TIB0cMFnZ-t6",
        "outputId": "d0d798cb-0025-4c30-d864-08d06c2ff176"
      },
      "execution_count": null,
      "outputs": [
        {
          "output_type": "stream",
          "name": "stdout",
          "text": [
            "1\n",
            "2\n",
            "3\n"
          ]
        }
      ]
    }
  ],
  "metadata": {
    "kernelspec": {
      "display_name": "Python 3",
      "language": "python",
      "name": "python3"
    },
    "language_info": {
      "codemirror_mode": {
        "name": "ipython",
        "version": 3
      },
      "file_extension": ".py",
      "mimetype": "text/x-python",
      "name": "python",
      "nbconvert_exporter": "python",
      "pygments_lexer": "ipython3",
      "version": "3.8.5"
    },
    "colab": {
      "name": "Caiza_Nicole_Clase2.ipynb",
      "provenance": [],
      "collapsed_sections": []
    }
  },
  "nbformat": 4,
  "nbformat_minor": 0
}