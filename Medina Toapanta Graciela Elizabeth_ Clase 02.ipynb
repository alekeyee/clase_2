{
 "cells": [
  {
   "cell_type": "markdown",
   "id": "de06d18e",
   "metadata": {},
   "source": [
    "# UNIVERSIDAD CENTRAL DEL ECUADOR"
   ]
  },
  {
   "cell_type": "markdown",
   "id": "682fc3a1",
   "metadata": {},
   "source": [
    "## Datos Personales\n",
    "### Nombre: Medina Toapanta Graciela Elizabeth\n",
    "### Curso: Programación en Python\n",
    "### Fecha: 29/07/2022"
   ]
  },
  {
   "cell_type": "markdown",
   "id": "6c889197",
   "metadata": {},
   "source": [
    "## Actividades de la Clase 02"
   ]
  },
  {
   "cell_type": "markdown",
   "id": "6a96f21c",
   "metadata": {},
   "source": [
    "## 1 Programa la impresión de una tabla de multiplicar para todos los números entre 1 y 10, usando For-loops\n",
    "## Rendimiento esperado:\n",
    "     1   times  1  =    1\n",
    "     1   times  2  =    2\n",
    "     ...\n",
    "     1   times 10  =   10\n",
    "     ...\n",
    "    10   times 10  =  100  "
   ]
  },
  {
   "cell_type": "code",
   "execution_count": 2,
   "id": "6f069afb",
   "metadata": {},
   "outputs": [
    {
     "name": "stdout",
     "output_type": "stream",
     "text": [
      "Ingrese un número entero:10\n",
      "1*10=10\n",
      "2*10=20\n",
      "3*10=30\n",
      "4*10=40\n",
      "5*10=50\n",
      "6*10=60\n",
      "7*10=70\n",
      "8*10=80\n",
      "9*10=90\n",
      "10*10=100\n"
     ]
    }
   ],
   "source": [
    "tabla_de_multiplicar=int(input(\"Ingrese un número entero:\"))\n",
    "for i in range (1,11):\n",
    "    print(f'{i}*{tabla_de_multiplicar}={i*tabla_de_multiplicar}')"
   ]
  },
  {
   "cell_type": "markdown",
   "id": "6beca4b7",
   "metadata": {},
   "source": [
    "## 2 Programe un calendario (para todos los meses) para 2020 usando For-loops\n",
    "## Rendimiento esperado:\n",
    "     January                     \n",
    "     Mon Tue Wed Thu Fri Sat Sun  \n",
    "              1   2   3   4   5\n",
    "      6   7   8   9  10  11  12\n",
    "     13  14  15  16  17  18  19\n",
    "     20  21  22  23  24  25  26\n",
    "     27  28  29  30  31\n",
    "     \n",
    "     February\n",
    "     Mon Tue Wed Thu Fri Sat Sun\n",
    "                           1   2"
   ]
  },
  {
   "cell_type": "code",
   "execution_count": 3,
   "id": "d904db60",
   "metadata": {},
   "outputs": [
    {
     "name": "stdout",
     "output_type": "stream",
     "text": [
      "                              2020\n",
      "\n",
      "      January               February               March\n",
      "Su Mo Tu We Th Fr Sa  Su Mo Tu We Th Fr Sa  Su Mo Tu We Th Fr Sa\n",
      "          1  2  3  4                     1   1  2  3  4  5  6  7\n",
      " 5  6  7  8  9 10 11   2  3  4  5  6  7  8   8  9 10 11 12 13 14\n",
      "12 13 14 15 16 17 18   9 10 11 12 13 14 15  15 16 17 18 19 20 21\n",
      "19 20 21 22 23 24 25  16 17 18 19 20 21 22  22 23 24 25 26 27 28\n",
      "26 27 28 29 30 31     23 24 25 26 27 28 29  29 30 31\n",
      "\n",
      "       April                  May                   June\n",
      "Su Mo Tu We Th Fr Sa  Su Mo Tu We Th Fr Sa  Su Mo Tu We Th Fr Sa\n",
      "          1  2  3  4                  1  2      1  2  3  4  5  6\n",
      " 5  6  7  8  9 10 11   3  4  5  6  7  8  9   7  8  9 10 11 12 13\n",
      "12 13 14 15 16 17 18  10 11 12 13 14 15 16  14 15 16 17 18 19 20\n",
      "19 20 21 22 23 24 25  17 18 19 20 21 22 23  21 22 23 24 25 26 27\n",
      "26 27 28 29 30        24 25 26 27 28 29 30  28 29 30\n",
      "                      31\n",
      "\n",
      "        July                 August              September\n",
      "Su Mo Tu We Th Fr Sa  Su Mo Tu We Th Fr Sa  Su Mo Tu We Th Fr Sa\n",
      "          1  2  3  4                     1         1  2  3  4  5\n",
      " 5  6  7  8  9 10 11   2  3  4  5  6  7  8   6  7  8  9 10 11 12\n",
      "12 13 14 15 16 17 18   9 10 11 12 13 14 15  13 14 15 16 17 18 19\n",
      "19 20 21 22 23 24 25  16 17 18 19 20 21 22  20 21 22 23 24 25 26\n",
      "26 27 28 29 30 31     23 24 25 26 27 28 29  27 28 29 30\n",
      "                      30 31\n",
      "\n",
      "      October               November              December\n",
      "Su Mo Tu We Th Fr Sa  Su Mo Tu We Th Fr Sa  Su Mo Tu We Th Fr Sa\n",
      "             1  2  3   1  2  3  4  5  6  7         1  2  3  4  5\n",
      " 4  5  6  7  8  9 10   8  9 10 11 12 13 14   6  7  8  9 10 11 12\n",
      "11 12 13 14 15 16 17  15 16 17 18 19 20 21  13 14 15 16 17 18 19\n",
      "18 19 20 21 22 23 24  22 23 24 25 26 27 28  20 21 22 23 24 25 26\n",
      "25 26 27 28 29 30 31  29 30                 27 28 29 30 31\n",
      "\n"
     ]
    }
   ],
   "source": [
    "import calendar  # funcion que tiene phyton para hacer calendarios\n",
    "calendario= calendar.TextCalendar(calendar.SUNDAY) #indicamos el primer día de la semana\n",
    "print(calendario.formatyear(2020,2,1,1,3))# funcion formtyear , ancho (de la columna), una semana por linea y espacio entre columnas de mes"
   ]
  },
  {
   "cell_type": "markdown",
   "id": "abb2ceeb",
   "metadata": {},
   "source": [
    "## 3 Programe la siguiente regulación fiscal, usando datos ficticios con declaraciones condicionales, use las tres cláusulas (if, elif, else) al menos una vez\n",
    "Si el valor del paquete es inferior a 20 no tienes que pagar ningún impuesto de importación\n",
    "Si el valor del paquete está entre 20 y 30 pagas 10% de impuesto de importación sobre el valor total\n",
    "Si el valor del paquete está entre 30 y 60, paga un impuesto de importación adicional del 7% sobre el valor superior a 30\n",
    "Si el valor del paquete es superior a 60, paga un impuesto de importación adicional del 3% sobre el valor superior a 60\n",
    "\n",
    "Si el valor del paquete es superior a 10 pagas el 20% de IVA sobre la suma total del valor e impuesto de importación\n",
    "\n",
    "El valor del paquete debe establecerse en una variable y debe probar si su programa funciona para diferentes valores.\n",
    "### Salida esperada (ejemplo):\n",
    "El valor del paquete fue de 25,00, el impuesto de importación es de 2,50, el IVA es de 5,50, el total es de 33,00."
   ]
  },
  {
   "cell_type": "code",
   "execution_count": 5,
   "id": "6a6ad631",
   "metadata": {},
   "outputs": [
    {
     "name": "stdout",
     "output_type": "stream",
     "text": [
      "Ingrese el valor del paquete:25\n",
      "Paga el 10% de impuesto de importación valor del paquete 25 El impuesto de importación es 2.5 su valor total es 27.5\n"
     ]
    }
   ],
   "source": [
    "valor_del_paquete=int(input(\"Ingrese el valor del paquete:\"))\n",
    "# valor del paquete : si es inferior a 20  no paga impuesto, si esta entre 20 y 30 paga 10%, si esta entre 30 y 60 paga 17%\n",
    "# si es superior a 60 paga 20%\n",
    "while valor_del_paquete:\n",
    "    if (valor_del_paquete >10 and valor_del_paquete<20):\n",
    "        print (\"no paga impuesto de importación\" ,\n",
    "                \"valor del paquete\" , valor_del_paquete ,\n",
    "                \"El impuesto de importación es 0\" ,\n",
    "                \"El valor del IVA es\",((valor_del_paquete*20)/100),\n",
    "                \"su valor total es\" ,((valor_del_paquete*20)/100)+valor_del_paquete)\n",
    "        break\n",
    "    if (valor_del_paquete <20):\n",
    "        print (\"no paga impuesto de importación\" ,\n",
    "                \"valor del paquete\" , valor_del_paquete ,\n",
    "                \"El impuesto de importación es 0\" ,\n",
    "                \"su valor total es\" , valor_del_paquete)\n",
    "        break\n",
    "    if (valor_del_paquete >=20 and valor_del_paquete<=30):\n",
    "        print (\"Paga el 10% de impuesto de importación\" ,\n",
    "                \"valor del paquete\" ,valor_del_paquete  ,\n",
    "                \"El impuesto de importación es\"  ,((valor_del_paquete*10)/100) ,\n",
    "                \"su valor total es\" ,(((valor_del_paquete*10)/100)+valor_del_paquete))\n",
    "        break\n",
    "    if (valor_del_paquete >=30 and valor_del_paquete <=60):\n",
    "        print (\"Paga el 17% de impuesto de importación(paga un impuesto de importación adicional del 7%)\",\n",
    "                \"valor del paquete\",valor_del_paquete  ,\n",
    "                \"El impuesto de importación es\"  ,((valor_del_paquete*17)/100)  ,\n",
    "                \"su valor total es\" ,(((valor_del_paquete*17)/100)+valor_del_paquete))\n",
    "        break\n",
    "    elif (valor_del_paquete >60):\n",
    "        print (\"Paga el 20% de impuesto de importación(paga un impuesto de importación adicional del 3% sobre el valor superior a 60)\",\n",
    "                \"valor del paquete\" , valor_del_paquete ,\n",
    "                \"El impuesto de importación es\" , ((valor_del_paquete*20)/100) ,\n",
    "                \"su valor total es\" , (((valor_del_paquete*20)/100)+valor_del_paquete))\n",
    "        break\n",
    "        "
   ]
  },
  {
   "cell_type": "markdown",
   "id": "b8d5aec8",
   "metadata": {},
   "source": [
    "## 4 Reescribe el siguiente programa reemplazando la declaración condicional con expresiones condicionales"
   ]
  },
  {
   "cell_type": "code",
   "execution_count": 6,
   "id": "b07f794d",
   "metadata": {},
   "outputs": [
    {
     "name": "stdout",
     "output_type": "stream",
     "text": [
      "<= 1\n"
     ]
    }
   ],
   "source": [
    " a = -1\n",
    "if a == 0:\n",
    "    result = \"= 0\"\n",
    "elif a>1:\n",
    "    result = \"> 1\"\n",
    "else:\n",
    "    result = \"<= 1\"\n",
    "print(result)"
   ]
  },
  {
   "cell_type": "code",
   "execution_count": 7,
   "id": "35b22dd6",
   "metadata": {},
   "outputs": [
    {
     "name": "stdout",
     "output_type": "stream",
     "text": [
      "<= 1 \n"
     ]
    }
   ],
   "source": [
    "a= -1\n",
    "result= \"= 0\" if a==0  else \"<= 1 \"\n",
    "print(result)"
   ]
  },
  {
   "cell_type": "markdown",
   "id": "1a68bbd6",
   "metadata": {},
   "source": [
    "## 5 Reescriba el siguiente programa reemplazando la lista de comprensión con un while-loop"
   ]
  },
  {
   "cell_type": "code",
   "execution_count": 8,
   "id": "f2784247",
   "metadata": {},
   "outputs": [
    {
     "name": "stdout",
     "output_type": "stream",
     "text": [
      "[4, 16]\n"
     ]
    }
   ],
   "source": [
    "list_1 = [1, 2, 3, 4]\n",
    "result  =  [digit ** 2 for digit in list_1 if digit % 2 == 0]\n",
    "print(result)\n"
   ]
  },
  {
   "cell_type": "code",
   "execution_count": 16,
   "id": "30f348fd",
   "metadata": {},
   "outputs": [
    {
     "name": "stdout",
     "output_type": "stream",
     "text": [
      "4\n",
      "16\n"
     ]
    }
   ],
   "source": [
    "list_1= [1,2,3,4]\n",
    "for j in list_1:\n",
    "  while j % 2 ==0:\n",
    "    x= j**2\n",
    "    print (x)\n",
    "    break"
   ]
  },
  {
   "cell_type": "markdown",
   "id": "82e4fe2b",
   "metadata": {},
   "source": [
    "## 6 En la clase 1 te mostramos las siguientes afirmaciones:"
   ]
  },
  {
   "cell_type": "code",
   "execution_count": 11,
   "id": "5a726df9",
   "metadata": {},
   "outputs": [
    {
     "name": "stdout",
     "output_type": "stream",
     "text": [
      "True\n",
      "False\n"
     ]
    }
   ],
   "source": [
    "a = 1\n",
    "b = 1\n",
    "print(a is b)\n",
    "\n",
    "a = 1000\n",
    "b = 1000\n",
    "print(a is b)"
   ]
  },
  {
   "cell_type": "markdown",
   "id": "69334ee1",
   "metadata": {},
   "source": [
    "Y, por supuesto, tienes curiosidad por la diferencia. Aprendimos en la clase 1 que los números enteros -5 hasta 255 fueron internados (guardados en disco) cuando comenzó Python, esto significa que los objetos con estos valores ya estaban creados. Ahora deseaamos escribir un programa que nos diga que 256 es de hecho el primer número entero que Python no esta guardado en disco.\n",
    "\n",
    "Escrbimos el siguiente programa y ahora necsitamos explicar por qué este programa imprimirá \"Sorpresa\". ¿No debería romperse mientras se procesa el número entero 256, ya que ese número no está guardado internamente?"
   ]
  },
  {
   "cell_type": "code",
   "execution_count": 12,
   "id": "f8a6c7d2",
   "metadata": {},
   "outputs": [
    {
     "name": "stdout",
     "output_type": "stream",
     "text": [
      "Surprise\n"
     ]
    }
   ],
   "source": [
    "for x in range(1000):\n",
    "    a = x\n",
    "    b = x\n",
    "    if not (a is b):\n",
    "        print(f\"the highest integer {x-1}\")\n",
    "        break\n",
    "else:\n",
    "    print(\"Surprise\")"
   ]
  },
  {
   "cell_type": "markdown",
   "id": "00df3fc7",
   "metadata": {},
   "source": [
    "Repuesta: For  sirve como contador, entonces no cumple la regla"
   ]
  },
  {
   "cell_type": "markdown",
   "id": "93176426",
   "metadata": {},
   "source": [
    "## 7 Vuelva a escribir la siguiente declaración sin un bucle y solo usando declaraciones condicionales:"
   ]
  },
  {
   "cell_type": "code",
   "execution_count": 13,
   "id": "c21851bf",
   "metadata": {},
   "outputs": [
    {
     "name": "stdout",
     "output_type": "stream",
     "text": [
      "1\n",
      "2\n",
      "3\n"
     ]
    }
   ],
   "source": [
    "i = 1\n",
    "while i < 4:\n",
    "    print(i)\n",
    "    i +=1"
   ]
  },
  {
   "cell_type": "code",
   "execution_count": 14,
   "id": "a10f7143",
   "metadata": {},
   "outputs": [
    {
     "name": "stdout",
     "output_type": "stream",
     "text": [
      "1\n",
      "2\n",
      "3\n"
     ]
    }
   ],
   "source": [
    "i = 1\n",
    "if i < 4:\n",
    "        print(i)\n",
    "        i +=1\n",
    "if i <=4:\n",
    "    print(i)\n",
    "    i +=1\n",
    "if i <= 4:\n",
    "    print(i)\n",
    "    i +=1"
   ]
  }
 ],
 "metadata": {
  "kernelspec": {
   "display_name": "Python 3 (ipykernel)",
   "language": "python",
   "name": "python3"
  },
  "language_info": {
   "codemirror_mode": {
    "name": "ipython",
    "version": 3
   },
   "file_extension": ".py",
   "mimetype": "text/x-python",
   "name": "python",
   "nbconvert_exporter": "python",
   "pygments_lexer": "ipython3",
   "version": "3.9.12"
  }
 },
 "nbformat": 4,
 "nbformat_minor": 5
}
