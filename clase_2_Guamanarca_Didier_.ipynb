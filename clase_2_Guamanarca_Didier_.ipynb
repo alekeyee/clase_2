{
  "cells": [
    {
      "cell_type": "markdown",
      "metadata": {
        "id": "0MKh9gh2MQ9A"
      },
      "source": [
        "# Clase 2\n",
        "## En la clase 1 discutimos datos, operadores y métodos. Esta semana discutiremos algunas otras habilidades esenciales que le dan el poder de implementar sus ideas con Python:\n",
        "* ### Declaraciones condicionales que permiten controlar el flujo de su programa\n",
        "* ### Bucles que permiten reutilizar instrucciones, sin tener que copiarlas"
      ]
    },
    {
      "cell_type": "markdown",
      "metadata": {
        "id": "50XXWre7MQ9U"
      },
      "source": [
        "## De ahora en adelante comenzaremos cada lección con un programa de ejemplo. Los programas de ejemplo le mostrarán las nuevas ideas para esa semana.\n",
        "\n",
        "* ### En los cuadernos estos ejemplos se llamarán programas de ejemplo\n",
        "* ### En el programa de ejemplo de esta semana aprenderemos: Cómo leer y escribir archivos\n",
        "  * #### con comandos elementales como open(), close() y write(), mientras lee con un bucle for\n",
        "  * #### Cómo crear, leer y escribir (en) una base de datos, usamos Sqlite para esta tarea. Sqlite es una biblioteca estándar de Python\n",
        "  * #### Hay otras formas de almacenar y recuperar datos, y algunas las veremos en lecciones posteriores, pero ya hacen posible escribir programas serios"
      ]
    },
    {
      "cell_type": "markdown",
      "metadata": {
        "id": "MBJyhSjSMQ9Z"
      },
      "source": [
        "# Literatura para la semana 2\n",
        "* ## La biblioteca random [https://docs.python.org/3/library/random.html](https://docs.python.org/3/library/random.html)\n",
        "* ## Desde [https://docs.python.org/3/tutorial/index.html](https://docs.python.org/3/tutorial/index.html) capítulo 4 hasta 4.5\n",
        "* ## [https://www.w3schools.com/python/python_while_loops.asp](https://www.w3schools.com/python/python_while_loops.asp)\n",
        "* ## [https://www.pythonforbeginners.com/cheatsheet/python-file-handling](https://www.pythonforbeginners.com/cheatsheet/python-file-handling)\n",
        "* ## Sqlite\n",
        "  * ### [https://docs.python.org/3/library/sqlite3.html](https://docs.python.org/3/library/sqlite3.html), hasta 'Ver también'\n",
        "  * ### [https://www.w3schools.com/sql/default.asp](https://www.w3schools.com/sql/default.asp), esta página y mire la columna de la izquierda y estudie las siguientes declaraciones Select, Where, Insert into, Update, Delete, Create DB, Create Table, Drop Table "
      ]
    },
    {
      "cell_type": "markdown",
      "metadata": {
        "id": "n7ho8S2dMQ9e"
      },
      "source": [
        "# Temas para la clase 2\n",
        "* ## Programa de ejemplo: La programación del juego de adivinanzas contiene todos los temas que tratamos esta semana. Dependiendo de lo que funcione mejor para usted, puede estudiar este ejemplo al principio o al final del material de esta semana. Será discutido en un video separado.\n",
        "* ## Declaraciones condicionales\n",
        "  * ### If\n",
        "  * ### else\n",
        "  * ### elif\n",
        "* ## Bucles\n",
        "  * ### For-loops, para iterar sobre una secuencia (por ejemplo, una colección)\n",
        "  * ### while-loops\n",
        "* ## Atajos\n",
        "  * ### Expresiones condicionales, para reemplazar sentencias condicionales\n",
        "  * ### Comprensiones, para reemplazar for-loops"
      ]
    },
    {
      "cell_type": "markdown",
      "metadata": {
        "id": "YIkQZUt2MQ9i"
      },
      "source": [
        "# Programa de ejemplo: El juego de adivinanzas\n",
        "## Escribiremos un juego que le pida al usuario que adivine un número conocido por la computadora. El programa le dará retroalimentación al usuario, ya sea que el usuario adivinó demasiado, demasiado o exactamente bien. Cuando el usuario acertó, el programa elogia al usuario y se detiene."
      ]
    },
    {
      "cell_type": "code",
      "execution_count": null,
      "metadata": {
        "id": "srWqPuUfMQ9m",
        "outputId": "a39f68fd-0206-449f-c285-6abf4c121941"
      },
      "outputs": [
        {
          "name": "stdout",
          "output_type": "stream",
          "text": [
            "Adivina un numero entre 1 y 100040\n"
          ]
        },
        {
          "ename": "TypeError",
          "evalue": "'>' not supported between instances of 'str' and 'int'",
          "output_type": "error",
          "traceback": [
            "\u001b[1;31m---------------------------------------------------------------------------\u001b[0m",
            "\u001b[1;31mTypeError\u001b[0m                                 Traceback (most recent call last)",
            "\u001b[1;32m<ipython-input-1-fbeee3196b94>\u001b[0m in \u001b[0;36m<module>\u001b[1;34m\u001b[0m\n\u001b[0;32m      8\u001b[0m \u001b[0mguesses\u001b[0m \u001b[1;33m+=\u001b[0m \u001b[1;36m1\u001b[0m\u001b[1;33m\u001b[0m\u001b[1;33m\u001b[0m\u001b[0m\n\u001b[0;32m      9\u001b[0m \u001b[1;32mwhile\u001b[0m \u001b[0mguess\u001b[0m \u001b[1;33m!=\u001b[0m \u001b[0mtarget\u001b[0m\u001b[1;33m:\u001b[0m\u001b[1;33m\u001b[0m\u001b[1;33m\u001b[0m\u001b[0m\n\u001b[1;32m---> 10\u001b[1;33m     \u001b[1;32mif\u001b[0m \u001b[0mguess\u001b[0m \u001b[1;33m>\u001b[0m \u001b[0mtarget\u001b[0m\u001b[1;33m:\u001b[0m\u001b[1;33m\u001b[0m\u001b[1;33m\u001b[0m\u001b[0m\n\u001b[0m\u001b[0;32m     11\u001b[0m         \u001b[0mupper_bound\u001b[0m \u001b[1;33m=\u001b[0m \u001b[0mmin\u001b[0m\u001b[1;33m(\u001b[0m\u001b[0mupper_bound\u001b[0m\u001b[1;33m,\u001b[0m \u001b[0mguess\u001b[0m \u001b[1;33m-\u001b[0m \u001b[1;36m1\u001b[0m\u001b[1;33m)\u001b[0m\u001b[1;33m\u001b[0m\u001b[1;33m\u001b[0m\u001b[0m\n\u001b[0;32m     12\u001b[0m         \u001b[0mguess\u001b[0m \u001b[1;33m=\u001b[0m \u001b[0minput\u001b[0m\u001b[1;33m(\u001b[0m\u001b[1;34mf\"Muy alto, por favor intenta otra vez, un numero entre {lower_bound} y {upper_bound}\"\u001b[0m\u001b[1;33m)\u001b[0m\u001b[1;33m\u001b[0m\u001b[1;33m\u001b[0m\u001b[0m\n",
            "\u001b[1;31mTypeError\u001b[0m: '>' not supported between instances of 'str' and 'int'"
          ]
        }
      ],
      "source": [
        "target = 477\n",
        "lower_bound = 1\n",
        "upper_bound = 1000\n",
        "guesses = 0\n",
        "\n",
        "# LA funcion input nos permite dar un numero al codigo que esta siendo ejecutado\n",
        "guess = input(f\"Adivina un numero entre {lower_bound} y {upper_bound}\")\n",
        "guesses += 1\n",
        "while guess != target:\n",
        "    if guess > target:\n",
        "        upper_bound = min(upper_bound, guess - 1)\n",
        "        guess = input(f\"Muy alto, por favor intenta otra vez, un numero entre {lower_bound} y {upper_bound}\")\n",
        "    else:\n",
        "        lower_bound = max(lower_bound, guess + 1)\n",
        "        guess = input(f\"Muy bajo, por favor intenta otra vez, un numero entre  {lower_bound} and {upper_bound}\")\n",
        "    guesses += 1\n",
        "        \n",
        "print(f\"Bien hecho,solo te tomaron {guesses} intentos.\")    "
      ]
    },
    {
      "cell_type": "markdown",
      "metadata": {
        "id": "Pkt3bYp4MQ9z"
      },
      "source": [
        "### Algo salió mal, al leer el mensaje de error concluiríamos que el objetivo o el intento es una cadena.\n",
        "### Así que ponemos un print statement justo antes de comparar, adivinar y apuntar para ver cuál de los dos es una cadena\n",
        "### Aunque hay algunas formas muy avanzadas de encontrar errores, es bastante común simplemente imprimir valores y tipos"
      ]
    },
    {
      "cell_type": "code",
      "execution_count": null,
      "metadata": {
        "id": "BH4vLZpAMQ93",
        "outputId": "faf09e41-8b9e-43fa-d6b1-5b382300465c"
      },
      "outputs": [
        {
          "name": "stdout",
          "output_type": "stream",
          "text": [
            "Guess a number between 1 and 100070\n",
            "70 <class 'str'>\n",
            "477 <class 'int'>\n"
          ]
        },
        {
          "ename": "TypeError",
          "evalue": "'>' not supported between instances of 'str' and 'int'",
          "output_type": "error",
          "traceback": [
            "\u001b[1;31m---------------------------------------------------------------------------\u001b[0m",
            "\u001b[1;31mTypeError\u001b[0m                                 Traceback (most recent call last)",
            "\u001b[1;32m<ipython-input-2-6068f82543c9>\u001b[0m in \u001b[0;36m<module>\u001b[1;34m\u001b[0m\n\u001b[0;32m     10\u001b[0m     \u001b[0mprint\u001b[0m\u001b[1;33m(\u001b[0m\u001b[0mguess\u001b[0m\u001b[1;33m,\u001b[0m \u001b[0mtype\u001b[0m\u001b[1;33m(\u001b[0m\u001b[0mguess\u001b[0m\u001b[1;33m)\u001b[0m\u001b[1;33m)\u001b[0m\u001b[1;33m\u001b[0m\u001b[1;33m\u001b[0m\u001b[0m\n\u001b[0;32m     11\u001b[0m     \u001b[0mprint\u001b[0m\u001b[1;33m(\u001b[0m\u001b[0mtarget\u001b[0m\u001b[1;33m,\u001b[0m \u001b[0mtype\u001b[0m\u001b[1;33m(\u001b[0m\u001b[0mtarget\u001b[0m\u001b[1;33m)\u001b[0m\u001b[1;33m)\u001b[0m\u001b[1;33m\u001b[0m\u001b[1;33m\u001b[0m\u001b[0m\n\u001b[1;32m---> 12\u001b[1;33m     \u001b[1;32mif\u001b[0m \u001b[0mguess\u001b[0m \u001b[1;33m>\u001b[0m \u001b[0mtarget\u001b[0m\u001b[1;33m:\u001b[0m\u001b[1;33m\u001b[0m\u001b[1;33m\u001b[0m\u001b[0m\n\u001b[0m\u001b[0;32m     13\u001b[0m         \u001b[0mupper_bound\u001b[0m \u001b[1;33m=\u001b[0m \u001b[0mmin\u001b[0m\u001b[1;33m(\u001b[0m\u001b[0mupper_bound\u001b[0m\u001b[1;33m,\u001b[0m \u001b[0mguess\u001b[0m \u001b[1;33m-\u001b[0m \u001b[1;36m1\u001b[0m\u001b[1;33m)\u001b[0m\u001b[1;33m\u001b[0m\u001b[1;33m\u001b[0m\u001b[0m\n\u001b[0;32m     14\u001b[0m         \u001b[0mguess\u001b[0m \u001b[1;33m=\u001b[0m \u001b[0minput\u001b[0m\u001b[1;33m(\u001b[0m\u001b[1;34mf\"You guessed too high, guess a number between {lower_bound} and {upper_bound}\"\u001b[0m\u001b[1;33m)\u001b[0m\u001b[1;33m\u001b[0m\u001b[1;33m\u001b[0m\u001b[0m\n",
            "\u001b[1;31mTypeError\u001b[0m: '>' not supported between instances of 'str' and 'int'"
          ]
        }
      ],
      "source": [
        "target = 477\n",
        "lower_bound = 1\n",
        "upper_bound = 1000\n",
        "guesses = 0\n",
        "\n",
        "# The input functions puts the parameter on the screen and reguesses what is entered by the user \n",
        "guess = input(f\"Guess a number between {lower_bound} and {upper_bound}\")\n",
        "guesses += 1\n",
        "while guess != target:\n",
        "    print(guess, type(guess))\n",
        "    print(target, type(target))\n",
        "    if guess > target:\n",
        "        upper_bound = min(upper_bound, guess - 1)\n",
        "        guess = input(f\"You guessed too high, guess a number between {lower_bound} and {upper_bound}\")\n",
        "    else:\n",
        "        lower_bound = max(lower_bound, guess + 1)\n",
        "        guess = input(f\"You guessed too low, guess a number between {lower_bound} and {upper_bound}\")\n",
        "    guesses += 1\n",
        "        \n",
        "print(f\"Well done it only took you {guesses} guesses.\")    "
      ]
    },
    {
      "cell_type": "markdown",
      "metadata": {
        "id": "7mjHu6pAMQ98"
      },
      "source": [
        "### Al parecer el uso de la funcion intut requiere que nuestro objeto sea un entero."
      ]
    },
    {
      "cell_type": "code",
      "execution_count": null,
      "metadata": {
        "id": "yeWk8mP7MQ-A",
        "outputId": "766782ef-32e0-4a08-874e-3e3ca04d047c"
      },
      "outputs": [
        {
          "name": "stdout",
          "output_type": "stream",
          "text": [
            "Guess a number between 1 and 100070\n",
            "You guessed too low, guess a number between 71 and 1000477\n",
            "Well done it only took you 2 guesses.\n"
          ]
        }
      ],
      "source": [
        "target = 477\n",
        "lower_bound = 1\n",
        "upper_bound = 1000\n",
        "guesses = 0\n",
        "\n",
        "# The input functions puts the parameter on the screen and reguesses what is entered by the user \n",
        "guess = int(input(f\"Guess a number between {lower_bound} and {upper_bound}\"))\n",
        "guesses += 1\n",
        "while guess != target:\n",
        "    # We leave the print statements as comments, maybe we need them more often during testing\n",
        "    # As soon as we are 100% sure about our program we delete these debugging statements\n",
        "    # print(guess, type(guess))\n",
        "    # print(target, type(target))\n",
        "\n",
        "    if guess > target:\n",
        "        upper_bound = min(upper_bound, guess - 1)\n",
        "        guess = int(input(f\"You guessed too high, guess a number between {lower_bound} and {upper_bound}\"))\n",
        "    else:\n",
        "        lower_bound= max(lower_bound, guess + 1)\n",
        "        guess = int(input(f\"You guessed too low, guess a number between {lower_bound} and {upper_bound}\"))\n",
        "    guesses += 1\n",
        "    \n",
        "print (f\"Well done it only took you {guesses} guesses.\")    "
      ]
    },
    {
      "cell_type": "markdown",
      "metadata": {
        "id": "8yBFWRjIMQ-F"
      },
      "source": [
        "### Por supuesto, el juego es un poco aburrido si siempre es el mismo número que tienes que adivinar, entonces, ¿qué tal si usas un número aleatorio?\n",
        "### El módulo random debe importarse y luego podemos usarlo para generar un número entero aleatorio"
      ]
    },
    {
      "cell_type": "code",
      "execution_count": null,
      "metadata": {
        "id": "1HsYJtysMQ-J",
        "colab": {
          "base_uri": "https://localhost:8080/",
          "height": 588
        },
        "outputId": "1f8c1bc9-ce44-4b94-e83c-1bae286f13f1"
      },
      "outputs": [
        {
          "output_type": "stream",
          "name": "stdout",
          "text": [
            "150\n"
          ]
        },
        {
          "output_type": "error",
          "ename": "KeyboardInterrupt",
          "evalue": "ignored",
          "traceback": [
            "\u001b[0;31m---------------------------------------------------------------------------\u001b[0m",
            "\u001b[0;31mKeyboardInterrupt\u001b[0m                         Traceback (most recent call last)",
            "\u001b[0;32m/usr/local/lib/python3.7/dist-packages/ipykernel/kernelbase.py\u001b[0m in \u001b[0;36m_input_request\u001b[0;34m(self, prompt, ident, parent, password)\u001b[0m\n\u001b[1;32m    728\u001b[0m             \u001b[0;32mtry\u001b[0m\u001b[0;34m:\u001b[0m\u001b[0;34m\u001b[0m\u001b[0;34m\u001b[0m\u001b[0m\n\u001b[0;32m--> 729\u001b[0;31m                 \u001b[0mident\u001b[0m\u001b[0;34m,\u001b[0m \u001b[0mreply\u001b[0m \u001b[0;34m=\u001b[0m \u001b[0mself\u001b[0m\u001b[0;34m.\u001b[0m\u001b[0msession\u001b[0m\u001b[0;34m.\u001b[0m\u001b[0mrecv\u001b[0m\u001b[0;34m(\u001b[0m\u001b[0mself\u001b[0m\u001b[0;34m.\u001b[0m\u001b[0mstdin_socket\u001b[0m\u001b[0;34m,\u001b[0m \u001b[0;36m0\u001b[0m\u001b[0;34m)\u001b[0m\u001b[0;34m\u001b[0m\u001b[0;34m\u001b[0m\u001b[0m\n\u001b[0m\u001b[1;32m    730\u001b[0m             \u001b[0;32mexcept\u001b[0m \u001b[0mException\u001b[0m\u001b[0;34m:\u001b[0m\u001b[0;34m\u001b[0m\u001b[0;34m\u001b[0m\u001b[0m\n",
            "\u001b[0;32m/usr/local/lib/python3.7/dist-packages/jupyter_client/session.py\u001b[0m in \u001b[0;36mrecv\u001b[0;34m(self, socket, mode, content, copy)\u001b[0m\n\u001b[1;32m    802\u001b[0m         \u001b[0;32mtry\u001b[0m\u001b[0;34m:\u001b[0m\u001b[0;34m\u001b[0m\u001b[0;34m\u001b[0m\u001b[0m\n\u001b[0;32m--> 803\u001b[0;31m             \u001b[0mmsg_list\u001b[0m \u001b[0;34m=\u001b[0m \u001b[0msocket\u001b[0m\u001b[0;34m.\u001b[0m\u001b[0mrecv_multipart\u001b[0m\u001b[0;34m(\u001b[0m\u001b[0mmode\u001b[0m\u001b[0;34m,\u001b[0m \u001b[0mcopy\u001b[0m\u001b[0;34m=\u001b[0m\u001b[0mcopy\u001b[0m\u001b[0;34m)\u001b[0m\u001b[0;34m\u001b[0m\u001b[0;34m\u001b[0m\u001b[0m\n\u001b[0m\u001b[1;32m    804\u001b[0m         \u001b[0;32mexcept\u001b[0m \u001b[0mzmq\u001b[0m\u001b[0;34m.\u001b[0m\u001b[0mZMQError\u001b[0m \u001b[0;32mas\u001b[0m \u001b[0me\u001b[0m\u001b[0;34m:\u001b[0m\u001b[0;34m\u001b[0m\u001b[0;34m\u001b[0m\u001b[0m\n",
            "\u001b[0;32m/usr/local/lib/python3.7/dist-packages/zmq/sugar/socket.py\u001b[0m in \u001b[0;36mrecv_multipart\u001b[0;34m(self, flags, copy, track)\u001b[0m\n\u001b[1;32m    726\u001b[0m         \"\"\"\n\u001b[0;32m--> 727\u001b[0;31m         \u001b[0mparts\u001b[0m \u001b[0;34m=\u001b[0m \u001b[0;34m[\u001b[0m\u001b[0mself\u001b[0m\u001b[0;34m.\u001b[0m\u001b[0mrecv\u001b[0m\u001b[0;34m(\u001b[0m\u001b[0mflags\u001b[0m\u001b[0;34m,\u001b[0m \u001b[0mcopy\u001b[0m\u001b[0;34m=\u001b[0m\u001b[0mcopy\u001b[0m\u001b[0;34m,\u001b[0m \u001b[0mtrack\u001b[0m\u001b[0;34m=\u001b[0m\u001b[0mtrack\u001b[0m\u001b[0;34m)\u001b[0m\u001b[0;34m]\u001b[0m\u001b[0;34m\u001b[0m\u001b[0;34m\u001b[0m\u001b[0m\n\u001b[0m\u001b[1;32m    728\u001b[0m         \u001b[0;31m# have first part already, only loop while more to receive\u001b[0m\u001b[0;34m\u001b[0m\u001b[0;34m\u001b[0m\u001b[0;34m\u001b[0m\u001b[0m\n",
            "\u001b[0;32mzmq/backend/cython/socket.pyx\u001b[0m in \u001b[0;36mzmq.backend.cython.socket.Socket.recv\u001b[0;34m()\u001b[0m\n",
            "\u001b[0;32mzmq/backend/cython/socket.pyx\u001b[0m in \u001b[0;36mzmq.backend.cython.socket.Socket.recv\u001b[0;34m()\u001b[0m\n",
            "\u001b[0;32mzmq/backend/cython/socket.pyx\u001b[0m in \u001b[0;36mzmq.backend.cython.socket._recv_copy\u001b[0;34m()\u001b[0m\n",
            "\u001b[0;32m/usr/local/lib/python3.7/dist-packages/zmq/backend/cython/checkrc.pxd\u001b[0m in \u001b[0;36mzmq.backend.cython.checkrc._check_rc\u001b[0;34m()\u001b[0m\n",
            "\u001b[0;31mKeyboardInterrupt\u001b[0m: ",
            "\nDuring handling of the above exception, another exception occurred:\n",
            "\u001b[0;31mKeyboardInterrupt\u001b[0m                         Traceback (most recent call last)",
            "\u001b[0;32m<ipython-input-127-94a25908f56b>\u001b[0m in \u001b[0;36m<module>\u001b[0;34m()\u001b[0m\n\u001b[1;32m     12\u001b[0m \u001b[0;34m\u001b[0m\u001b[0m\n\u001b[1;32m     13\u001b[0m \u001b[0;34m\u001b[0m\u001b[0m\n\u001b[0;32m---> 14\u001b[0;31m \u001b[0mguess\u001b[0m \u001b[0;34m=\u001b[0m \u001b[0mint\u001b[0m\u001b[0;34m(\u001b[0m\u001b[0minput\u001b[0m\u001b[0;34m(\u001b[0m\u001b[0;34mf\"Guess a number between {lower_bound} and {upper_bound}\"\u001b[0m\u001b[0;34m)\u001b[0m\u001b[0;34m)\u001b[0m\u001b[0;34m\u001b[0m\u001b[0;34m\u001b[0m\u001b[0m\n\u001b[0m\u001b[1;32m     15\u001b[0m \u001b[0mguesses\u001b[0m \u001b[0;34m+=\u001b[0m \u001b[0;36m1\u001b[0m\u001b[0;34m\u001b[0m\u001b[0;34m\u001b[0m\u001b[0m\n\u001b[1;32m     16\u001b[0m \u001b[0;32mwhile\u001b[0m \u001b[0mguess\u001b[0m \u001b[0;34m!=\u001b[0m \u001b[0mtarget\u001b[0m\u001b[0;34m:\u001b[0m\u001b[0;34m\u001b[0m\u001b[0;34m\u001b[0m\u001b[0m\n",
            "\u001b[0;32m/usr/local/lib/python3.7/dist-packages/ipykernel/kernelbase.py\u001b[0m in \u001b[0;36mraw_input\u001b[0;34m(self, prompt)\u001b[0m\n\u001b[1;32m    702\u001b[0m             \u001b[0mself\u001b[0m\u001b[0;34m.\u001b[0m\u001b[0m_parent_ident\u001b[0m\u001b[0;34m,\u001b[0m\u001b[0;34m\u001b[0m\u001b[0;34m\u001b[0m\u001b[0m\n\u001b[1;32m    703\u001b[0m             \u001b[0mself\u001b[0m\u001b[0;34m.\u001b[0m\u001b[0m_parent_header\u001b[0m\u001b[0;34m,\u001b[0m\u001b[0;34m\u001b[0m\u001b[0;34m\u001b[0m\u001b[0m\n\u001b[0;32m--> 704\u001b[0;31m             \u001b[0mpassword\u001b[0m\u001b[0;34m=\u001b[0m\u001b[0;32mFalse\u001b[0m\u001b[0;34m,\u001b[0m\u001b[0;34m\u001b[0m\u001b[0;34m\u001b[0m\u001b[0m\n\u001b[0m\u001b[1;32m    705\u001b[0m         )\n\u001b[1;32m    706\u001b[0m \u001b[0;34m\u001b[0m\u001b[0m\n",
            "\u001b[0;32m/usr/local/lib/python3.7/dist-packages/ipykernel/kernelbase.py\u001b[0m in \u001b[0;36m_input_request\u001b[0;34m(self, prompt, ident, parent, password)\u001b[0m\n\u001b[1;32m    732\u001b[0m             \u001b[0;32mexcept\u001b[0m \u001b[0mKeyboardInterrupt\u001b[0m\u001b[0;34m:\u001b[0m\u001b[0;34m\u001b[0m\u001b[0;34m\u001b[0m\u001b[0m\n\u001b[1;32m    733\u001b[0m                 \u001b[0;31m# re-raise KeyboardInterrupt, to truncate traceback\u001b[0m\u001b[0;34m\u001b[0m\u001b[0;34m\u001b[0m\u001b[0;34m\u001b[0m\u001b[0m\n\u001b[0;32m--> 734\u001b[0;31m                 \u001b[0;32mraise\u001b[0m \u001b[0mKeyboardInterrupt\u001b[0m\u001b[0;34m\u001b[0m\u001b[0;34m\u001b[0m\u001b[0m\n\u001b[0m\u001b[1;32m    735\u001b[0m             \u001b[0;32melse\u001b[0m\u001b[0;34m:\u001b[0m\u001b[0;34m\u001b[0m\u001b[0;34m\u001b[0m\u001b[0m\n\u001b[1;32m    736\u001b[0m                 \u001b[0;32mbreak\u001b[0m\u001b[0;34m\u001b[0m\u001b[0;34m\u001b[0m\u001b[0m\n",
            "\u001b[0;31mKeyboardInterrupt\u001b[0m: "
          ]
        }
      ],
      "source": [
        "import random\n",
        "# Vemos el seed the random generator.Al usar esto no importa en donde el numero random sera el mismo siempre\n",
        "\n",
        "random.seed(100)\n",
        "target = random.randint(1, 1000)\n",
        "# Vamos a ayudarnos un poco para no tener que intentar mucho timepo\n",
        "print(target)\n",
        "\n",
        "guesses = 0\n",
        "lower_bound = 1\n",
        "upper_bound = 1000\n",
        "\n",
        " \n",
        "guess = int(input(f\"Guess a number between {lower_bound} and {upper_bound}\"))\n",
        "guesses += 1\n",
        "while guess != target:\n",
        "    # print(guess, type(guess))\n",
        "    # print(target, type(target))\n",
        "\n",
        "    if guess > target:\n",
        "        upper_bound = min(upper_bound, guess - 1)\n",
        "        guess = int(input(f\"You guessed too high, guess a number between {lower_bound} and {upper_bound}\"))\n",
        "    else:\n",
        "        lower_bound= max(lower_bound, guess + 1)\n",
        "        guess = int(input(f\"You guessed too low, guess a number between {lower_bound} and {upper_bound}\"))\n",
        "    guesses += 1\n",
        "\n",
        "print (f\"Well done it only took you {guesses} guesses.\")    "
      ]
    },
    {
      "cell_type": "markdown",
      "metadata": {
        "id": "rlVLYjLUMQ-N"
      },
      "source": [
        "###  Sin el random seed"
      ]
    },
    {
      "cell_type": "code",
      "execution_count": null,
      "metadata": {
        "id": "wsypgV2hMQ-P"
      },
      "outputs": [],
      "source": [
        "import random\n",
        "\n",
        "# random.seed(100)\n",
        "target = random.randint(1, 1000)\n",
        "\n",
        "print(target)\n",
        "\n",
        "guesses = 0\n",
        "lower_bound = 1\n",
        "upper_bound = 1000\n",
        "\n",
        "\n",
        "guess = int(input(f\"Guess a number between {lower_bound} and {upper_bound}\"))\n",
        "guesses += 1\n",
        "while guess != target:\n",
        "    # print(guess, type(guess))\n",
        "    # print(target, type(target))\n",
        "\n",
        "    if guess > target:\n",
        "        upper_bound = min(upper_bound, guess - 1)\n",
        "        guess = int(input(f\"You guessed too high, guess a number between {lower_bound} and {upper_bound}\"))\n",
        "    else:\n",
        "        lower_bound= max(lower_bound, guess + 1)\n",
        "        guess = int(input(f\"You guessed too low, guess a number between {lower_bound} and {upper_bound}\"))\n",
        "    guesses += 1\n",
        "\n",
        "print (f\"Well done it only took you {guesses} guesses.\")    "
      ]
    },
    {
      "cell_type": "markdown",
      "metadata": {
        "id": "d499HIMKMQ-S"
      },
      "source": [
        "### Ahora reescribiremos el programa para que un usuario pueda jugar el juego una y otra vez hasta que ingrese -1"
      ]
    },
    {
      "cell_type": "code",
      "execution_count": null,
      "metadata": {
        "id": "1fIECFeAMQ-U",
        "colab": {
          "base_uri": "https://localhost:8080/",
          "height": 745
        },
        "outputId": "2c8d37f1-17ed-40e1-d202-f2f880e216a5"
      },
      "outputs": [
        {
          "name": "stdout",
          "output_type": "stream",
          "text": [
            "471\n",
            "Guess a number between 1 and 1000100\n",
            "You guessed too low, guess a number between 101 and 100040\n",
            "You guessed too low, guess a number between 101 and 100050\n",
            "You guessed too low, guess a number between 101 and 1000900\n",
            "You guessed too high, guess a number between 101 and 8991000000\n",
            "You guessed too high, guess a number between 101 and 899500\n",
            "You guessed too high, guess a number between 101 and 499200\n",
            "You guessed too low, guess a number between 201 and 499100\n",
            "You guessed too low, guess a number between 201 and 499900\n"
          ]
        },
        {
          "output_type": "error",
          "ename": "KeyboardInterrupt",
          "evalue": "ignored",
          "traceback": [
            "\u001b[0;31m---------------------------------------------------------------------------\u001b[0m",
            "\u001b[0;31mKeyboardInterrupt\u001b[0m                         Traceback (most recent call last)",
            "\u001b[0;32m/usr/local/lib/python3.7/dist-packages/ipykernel/kernelbase.py\u001b[0m in \u001b[0;36m_input_request\u001b[0;34m(self, prompt, ident, parent, password)\u001b[0m\n\u001b[1;32m    728\u001b[0m             \u001b[0;32mtry\u001b[0m\u001b[0;34m:\u001b[0m\u001b[0;34m\u001b[0m\u001b[0;34m\u001b[0m\u001b[0m\n\u001b[0;32m--> 729\u001b[0;31m                 \u001b[0mident\u001b[0m\u001b[0;34m,\u001b[0m \u001b[0mreply\u001b[0m \u001b[0;34m=\u001b[0m \u001b[0mself\u001b[0m\u001b[0;34m.\u001b[0m\u001b[0msession\u001b[0m\u001b[0;34m.\u001b[0m\u001b[0mrecv\u001b[0m\u001b[0;34m(\u001b[0m\u001b[0mself\u001b[0m\u001b[0;34m.\u001b[0m\u001b[0mstdin_socket\u001b[0m\u001b[0;34m,\u001b[0m \u001b[0;36m0\u001b[0m\u001b[0;34m)\u001b[0m\u001b[0;34m\u001b[0m\u001b[0;34m\u001b[0m\u001b[0m\n\u001b[0m\u001b[1;32m    730\u001b[0m             \u001b[0;32mexcept\u001b[0m \u001b[0mException\u001b[0m\u001b[0;34m:\u001b[0m\u001b[0;34m\u001b[0m\u001b[0;34m\u001b[0m\u001b[0m\n",
            "\u001b[0;32m/usr/local/lib/python3.7/dist-packages/jupyter_client/session.py\u001b[0m in \u001b[0;36mrecv\u001b[0;34m(self, socket, mode, content, copy)\u001b[0m\n\u001b[1;32m    802\u001b[0m         \u001b[0;32mtry\u001b[0m\u001b[0;34m:\u001b[0m\u001b[0;34m\u001b[0m\u001b[0;34m\u001b[0m\u001b[0m\n\u001b[0;32m--> 803\u001b[0;31m             \u001b[0mmsg_list\u001b[0m \u001b[0;34m=\u001b[0m \u001b[0msocket\u001b[0m\u001b[0;34m.\u001b[0m\u001b[0mrecv_multipart\u001b[0m\u001b[0;34m(\u001b[0m\u001b[0mmode\u001b[0m\u001b[0;34m,\u001b[0m \u001b[0mcopy\u001b[0m\u001b[0;34m=\u001b[0m\u001b[0mcopy\u001b[0m\u001b[0;34m)\u001b[0m\u001b[0;34m\u001b[0m\u001b[0;34m\u001b[0m\u001b[0m\n\u001b[0m\u001b[1;32m    804\u001b[0m         \u001b[0;32mexcept\u001b[0m \u001b[0mzmq\u001b[0m\u001b[0;34m.\u001b[0m\u001b[0mZMQError\u001b[0m \u001b[0;32mas\u001b[0m \u001b[0me\u001b[0m\u001b[0;34m:\u001b[0m\u001b[0;34m\u001b[0m\u001b[0;34m\u001b[0m\u001b[0m\n",
            "\u001b[0;32m/usr/local/lib/python3.7/dist-packages/zmq/sugar/socket.py\u001b[0m in \u001b[0;36mrecv_multipart\u001b[0;34m(self, flags, copy, track)\u001b[0m\n\u001b[1;32m    726\u001b[0m         \"\"\"\n\u001b[0;32m--> 727\u001b[0;31m         \u001b[0mparts\u001b[0m \u001b[0;34m=\u001b[0m \u001b[0;34m[\u001b[0m\u001b[0mself\u001b[0m\u001b[0;34m.\u001b[0m\u001b[0mrecv\u001b[0m\u001b[0;34m(\u001b[0m\u001b[0mflags\u001b[0m\u001b[0;34m,\u001b[0m \u001b[0mcopy\u001b[0m\u001b[0;34m=\u001b[0m\u001b[0mcopy\u001b[0m\u001b[0;34m,\u001b[0m \u001b[0mtrack\u001b[0m\u001b[0;34m=\u001b[0m\u001b[0mtrack\u001b[0m\u001b[0;34m)\u001b[0m\u001b[0;34m]\u001b[0m\u001b[0;34m\u001b[0m\u001b[0;34m\u001b[0m\u001b[0m\n\u001b[0m\u001b[1;32m    728\u001b[0m         \u001b[0;31m# have first part already, only loop while more to receive\u001b[0m\u001b[0;34m\u001b[0m\u001b[0;34m\u001b[0m\u001b[0;34m\u001b[0m\u001b[0m\n",
            "\u001b[0;32mzmq/backend/cython/socket.pyx\u001b[0m in \u001b[0;36mzmq.backend.cython.socket.Socket.recv\u001b[0;34m()\u001b[0m\n",
            "\u001b[0;32mzmq/backend/cython/socket.pyx\u001b[0m in \u001b[0;36mzmq.backend.cython.socket.Socket.recv\u001b[0;34m()\u001b[0m\n",
            "\u001b[0;32mzmq/backend/cython/socket.pyx\u001b[0m in \u001b[0;36mzmq.backend.cython.socket._recv_copy\u001b[0;34m()\u001b[0m\n",
            "\u001b[0;32m/usr/local/lib/python3.7/dist-packages/zmq/backend/cython/checkrc.pxd\u001b[0m in \u001b[0;36mzmq.backend.cython.checkrc._check_rc\u001b[0;34m()\u001b[0m\n",
            "\u001b[0;31mKeyboardInterrupt\u001b[0m: ",
            "\nDuring handling of the above exception, another exception occurred:\n",
            "\u001b[0;31mKeyboardInterrupt\u001b[0m                         Traceback (most recent call last)",
            "\u001b[0;32m<ipython-input-129-86d6278ef3ab>\u001b[0m in \u001b[0;36m<module>\u001b[0;34m()\u001b[0m\n\u001b[1;32m     15\u001b[0m        \u001b[0;32mif\u001b[0m \u001b[0mguess\u001b[0m \u001b[0;34m>\u001b[0m \u001b[0mtarget\u001b[0m\u001b[0;34m:\u001b[0m\u001b[0;34m\u001b[0m\u001b[0;34m\u001b[0m\u001b[0m\n\u001b[1;32m     16\u001b[0m           \u001b[0mupper_bound\u001b[0m \u001b[0;34m=\u001b[0m \u001b[0mmin\u001b[0m\u001b[0;34m(\u001b[0m\u001b[0mupper_bound\u001b[0m\u001b[0;34m,\u001b[0m \u001b[0mguess\u001b[0m \u001b[0;34m-\u001b[0m \u001b[0;36m1\u001b[0m\u001b[0;34m)\u001b[0m\u001b[0;34m\u001b[0m\u001b[0;34m\u001b[0m\u001b[0m\n\u001b[0;32m---> 17\u001b[0;31m           \u001b[0mguess\u001b[0m \u001b[0;34m=\u001b[0m \u001b[0mint\u001b[0m\u001b[0;34m(\u001b[0m\u001b[0minput\u001b[0m\u001b[0;34m(\u001b[0m\u001b[0;34mf\"You guessed too high, guess a number between {lower_bound} and {upper_bound}\"\u001b[0m\u001b[0;34m)\u001b[0m\u001b[0;34m)\u001b[0m\u001b[0;34m\u001b[0m\u001b[0;34m\u001b[0m\u001b[0m\n\u001b[0m\u001b[1;32m     18\u001b[0m        \u001b[0;32melse\u001b[0m\u001b[0;34m:\u001b[0m\u001b[0;34m\u001b[0m\u001b[0;34m\u001b[0m\u001b[0m\n\u001b[1;32m     19\u001b[0m           \u001b[0mlower_bound\u001b[0m\u001b[0;34m=\u001b[0m \u001b[0mmax\u001b[0m\u001b[0;34m(\u001b[0m\u001b[0mlower_bound\u001b[0m\u001b[0;34m,\u001b[0m \u001b[0mguess\u001b[0m \u001b[0;34m+\u001b[0m \u001b[0;36m1\u001b[0m\u001b[0;34m)\u001b[0m\u001b[0;34m\u001b[0m\u001b[0;34m\u001b[0m\u001b[0m\n",
            "\u001b[0;32m/usr/local/lib/python3.7/dist-packages/ipykernel/kernelbase.py\u001b[0m in \u001b[0;36mraw_input\u001b[0;34m(self, prompt)\u001b[0m\n\u001b[1;32m    702\u001b[0m             \u001b[0mself\u001b[0m\u001b[0;34m.\u001b[0m\u001b[0m_parent_ident\u001b[0m\u001b[0;34m,\u001b[0m\u001b[0;34m\u001b[0m\u001b[0;34m\u001b[0m\u001b[0m\n\u001b[1;32m    703\u001b[0m             \u001b[0mself\u001b[0m\u001b[0;34m.\u001b[0m\u001b[0m_parent_header\u001b[0m\u001b[0;34m,\u001b[0m\u001b[0;34m\u001b[0m\u001b[0;34m\u001b[0m\u001b[0m\n\u001b[0;32m--> 704\u001b[0;31m             \u001b[0mpassword\u001b[0m\u001b[0;34m=\u001b[0m\u001b[0;32mFalse\u001b[0m\u001b[0;34m,\u001b[0m\u001b[0;34m\u001b[0m\u001b[0;34m\u001b[0m\u001b[0m\n\u001b[0m\u001b[1;32m    705\u001b[0m         )\n\u001b[1;32m    706\u001b[0m \u001b[0;34m\u001b[0m\u001b[0m\n",
            "\u001b[0;32m/usr/local/lib/python3.7/dist-packages/ipykernel/kernelbase.py\u001b[0m in \u001b[0;36m_input_request\u001b[0;34m(self, prompt, ident, parent, password)\u001b[0m\n\u001b[1;32m    732\u001b[0m             \u001b[0;32mexcept\u001b[0m \u001b[0mKeyboardInterrupt\u001b[0m\u001b[0;34m:\u001b[0m\u001b[0;34m\u001b[0m\u001b[0;34m\u001b[0m\u001b[0m\n\u001b[1;32m    733\u001b[0m                 \u001b[0;31m# re-raise KeyboardInterrupt, to truncate traceback\u001b[0m\u001b[0;34m\u001b[0m\u001b[0;34m\u001b[0m\u001b[0;34m\u001b[0m\u001b[0m\n\u001b[0;32m--> 734\u001b[0;31m                 \u001b[0;32mraise\u001b[0m \u001b[0mKeyboardInterrupt\u001b[0m\u001b[0;34m\u001b[0m\u001b[0;34m\u001b[0m\u001b[0m\n\u001b[0m\u001b[1;32m    735\u001b[0m             \u001b[0;32melse\u001b[0m\u001b[0;34m:\u001b[0m\u001b[0;34m\u001b[0m\u001b[0;34m\u001b[0m\u001b[0m\n\u001b[1;32m    736\u001b[0m                 \u001b[0;32mbreak\u001b[0m\u001b[0;34m\u001b[0m\u001b[0;34m\u001b[0m\u001b[0m\n",
            "\u001b[0;31mKeyboardInterrupt\u001b[0m: "
          ]
        }
      ],
      "source": [
        "  import random\n",
        "guess = 2000\n",
        "while guess != -1:\n",
        "    target = random.randint(1, 1000)\n",
        "    print(target)\n",
        "\n",
        "    guesses = 0\n",
        "    lower_bound = 1\n",
        "    upper_bound = 1000\n",
        "\n",
        "    guess = int(input(f\"Guess a number between {lower_bound} and {upper_bound}\"))\n",
        "    guesses += 1\n",
        "    \n",
        "    while guess != target and guess != -1:\n",
        "         if guess > target:\n",
        "            upper_bound = min(upper_bound, guess - 1)\n",
        "            guess = int(input(f\"You guessed too high, guess a number between {lower_bound} and {upper_bound}\"))\n",
        "         else:\n",
        "            lower_bound= max(lower_bound, guess + 1)\n",
        "            guess = int(input(f\"You guessed too low, guess a number between {lower_bound} and {upper_bound}\"))\n",
        "         guesses += 1\n",
        "    if guess == -1:\n",
        "        break    \n",
        "    print (f\"Well done it only took you {guesses} guesses.\")    \n",
        "\n",
        "print(\"Game ended\")"
      ]
    },
    {
      "cell_type": "markdown",
      "metadata": {
        "id": "5wSolGirMQ-a"
      },
      "source": [
        "### Última variación, queremos comparar participantes, por lo tanto, sacamos números aleatorios, pero los escribimos en un archivo.\n",
        "### Estos números se utilizarán para todos los participantes, para que podamos compararlos"
      ]
    },
    {
      "cell_type": "code",
      "execution_count": null,
      "metadata": {
        "id": "zbsH_iUCMQ-c"
      },
      "outputs": [],
      "source": [
        "import random\n",
        "random.seed(100)\n",
        "random_numbers= open('random_numbers.txt','w')\n",
        "for i in range(5):\n",
        "    target = random.randint(1,1000)\n",
        "    random_numbers.write(target)\n",
        "random_numbers.close()"
      ]
    },
    {
      "cell_type": "markdown",
      "metadata": {
        "id": "lkN3OBJzMQ-e"
      },
      "source": [
        "### El metodo write solo puede escribir cadenas(strings)"
      ]
    },
    {
      "cell_type": "code",
      "execution_count": null,
      "metadata": {
        "id": "xSMbdIADMQ-g"
      },
      "outputs": [],
      "source": [
        "import random\n",
        "random.seed(100)\n",
        "random_numbers = open('random_numbers.txt','w')\n",
        "for i in range(0,5):\n",
        "    target = str(random.randint(0,1000)) + \"\\n\"\n",
        "    random_numbers.write(target)"
      ]
    },
    {
      "cell_type": "code",
      "execution_count": null,
      "metadata": {
        "id": "yOxfaDD2MQ-j"
      },
      "outputs": [],
      "source": [
        "random_numbers = open('random_numbers.txt','r')\n",
        "rounds = 0\n",
        "total_guesses = 0\n",
        "for target in random_numbers:\n",
        "    target = int(target)\n",
        "    print(target)\n",
        "\n",
        "    guesses = 0\n",
        "    lower_bound = 1\n",
        "    upper_bound = 1000\n",
        "\n",
        "    guess = int(input(f\"Guess a number between {lower_bound} and {upper_bound}\"))\n",
        "    guesses += 1\n",
        "    \n",
        "    while guess != target and guess != -1:\n",
        "        if guess > target:\n",
        "            upper_bound = min(upper_bound, guess - 1)\n",
        "            guess = int(input(f\"You guessed too high, guess a number between {lower_bound} and {upper_bound}\"))\n",
        "        else:\n",
        "            lower_bound= max(lower_bound, guess + 1)\n",
        "            guess = int(input(f\"You guessed too low, guess a number between {lower_bound} and {upper_bound}\"))\n",
        "        guesses += 1\n",
        "    if guess == -1:\n",
        "        break\n",
        "    print (f\"Well done it only took you {guesses} {'guesses' if guesses > 1 else 'guess'}.\")\n",
        "    \n",
        "    total_guesses += guesses\n",
        "    rounds += 1\n",
        "print(f\"Game ended, you played {rounds} {'rounds' if rounds > 1 else 'round'} and it took you in total {total_guesses} {'guesses' if total_guesses > 1 else 'guess'}\")\n",
        "# result = 'rounds' if rounds > 1 else 'round' is a shortcut for\n",
        "# if rounds > 1:\n",
        "#     result = 'rounds'\n",
        "# else:\n",
        "#     result = 'round'\n",
        "      \n",
        "random_numbers.close()                             "
      ]
    },
    {
      "cell_type": "markdown",
      "metadata": {
        "id": "df9NQAc0MQ-m"
      },
      "source": [
        "### Podemos usar sqlite database"
      ]
    },
    {
      "cell_type": "code",
      "execution_count": null,
      "metadata": {
        "id": "34pzCfIsMQ-o",
        "outputId": "bc8f10f2-8fce-45cb-f19a-3ba39757f3dd"
      },
      "outputs": [
        {
          "name": "stdout",
          "output_type": "stream",
          "text": [
            "[('1', '149'), ('2', '470'), ('3', '465'), ('4', '974'), ('5', '789')]\n"
          ]
        }
      ],
      "source": [
        "import random\n",
        "random.seed(100)\n",
        "\n",
        "# Here we use a so-called list comprehension, this is a short cut for a for loop in the cell below I will show you\n",
        "# what the for loop would look like that is replaced by the list comprehension\n",
        "random_numbers = [(str(index + 1), str(random.randint(0,1000))) for index in range(5)]\n",
        "print(random_numbers)\n",
        "# This is a short-cut for\n",
        "# random_numbers=[]\n",
        "# for index in range(5):\n",
        "#     random_numbers.append((str(index + 1), str(random.randint(0,1000))))\n",
        "# print(random_numbers)\n",
        "\n",
        "# To use a sqlite3 database you need to import the sqlite3 package\n",
        "import sqlite3\n",
        "\n",
        "# You have to make a connection to the database\n",
        "connection = sqlite3.connect('random numbers.db')\n",
        "\n",
        "# You have to create a cursor object, while with text files you only needed to muse an open function, here you need two functions\n",
        "# the connect function and the cursor function\n",
        "cursor = connection.cursor()\n",
        "\n",
        "# Delete table, I always do this. First I delete the table if it exists and only then I create a table. Creating a table\n",
        "# that already exists always gives errors. In this way avoid that\n",
        "cursor.execute('DROP TABLE IF EXISTS numbers')\n",
        "\n",
        "# Create table, you always have to create tables. While we just could store data in the txt file, you cannot do that \n",
        "# with a database. The data has to be stored in tables inside the database\n",
        "cursor.execute('CREATE TABLE numbers (index_number text, number text)')\n",
        "\n",
        "# fill table with values, the executemany function executes the same statement for all the tuples in the random_numbers list. \n",
        "# The elements inside the tuple replace the question marks\n",
        "cursor.executemany('INSERT INTO numbers VALUES (?, ?)', random_numbers)\n",
        "# This is a short-cut for\n",
        "# for random_number in random_numbers:\n",
        "#     cursor.execute(f'INSERT INTO numbers VALUES ({random_number[0]}, {random_number[1]})')\n",
        "\n",
        "# Save (commit) the changes\n",
        "connection.commit()\n",
        "# Just be sure any changes have been committed or they will be lost.\n",
        "\n",
        "# We can also close the connection if we are done with it.\n",
        "connection.close()"
      ]
    },
    {
      "cell_type": "code",
      "execution_count": null,
      "metadata": {
        "id": "OUKWOVh0MQ-v",
        "outputId": "bf01a8c7-3fe1-46d7-aa87-4779f8fab3e1"
      },
      "outputs": [
        {
          "name": "stdout",
          "output_type": "stream",
          "text": [
            "[('1', '149'), ('2', '470'), ('3', '465'), ('4', '974'), ('5', '789')]\n",
            "[149, 470, 465, 974, 789]\n",
            "149\n",
            "Guess a number between 1 and 1000-1\n",
            "Game ended, you played 0 rounds and it took you in total 0 guesses\n"
          ]
        }
      ],
      "source": [
        "import sqlite3\n",
        "# Make connection\n",
        "#connection = sqlite3.connect(\":memory:\")\n",
        "connection = sqlite3.connect('random numbers.db')\n",
        "# create cursor\n",
        "cursor = connection.cursor()\n",
        "# read table\n",
        "cursor.execute(\"SELECT * FROM numbers\")\n",
        "# Put result in table\n",
        "rows = cursor.fetchall()\n",
        "print (rows)\n",
        "random_numbers = [int(row[1]) for row in rows]\n",
        "print (random_numbers)\n",
        "\n",
        "# We can also close the connection if we are done with it.\n",
        "# Just be sure any changes have been committed or they will be lost.\n",
        "connection.close()\n",
        "\n",
        "rounds = 0\n",
        "total_guesses = 0\n",
        "for target in random_numbers:\n",
        "    target = int(target)\n",
        "    print(target)\n",
        "\n",
        "    guesses = 0\n",
        "    lower_bound = 1\n",
        "    upper_bound = 1000\n",
        "\n",
        "    guess = int(input(f\"Guess a number between {lower_bound} and {upper_bound}\"))\n",
        "    guesses += 1\n",
        "    \n",
        "    while guess != target and guess != -1:\n",
        "        if guess > target:\n",
        "            upper_bound = min(upper_bound, guess - 1)\n",
        "            guess = int(input(f\"You guessed too high, guess a number between {lower_bound} and {upper_bound}\"))\n",
        "        else:\n",
        "            lower_bound= max(lower_bound, guess + 1)\n",
        "            guess = int(input(f\"You guessed too low, guess a number between {lower_bound} and {upper_bound}\"))\n",
        "        guesses += 1\n",
        "    if guess == -1:\n",
        "        break\n",
        "    print (f\"Well done it only took you {guesses} {'guesses' if guesses > 1 else 'guess'}.\")\n",
        "    \n",
        "    total_guesses += guesses\n",
        "    rounds += 1\n",
        "print(f\"Game ended, you played {rounds} rounds and it took you in total {total_guesses} guesses\")\n"
      ]
    },
    {
      "cell_type": "markdown",
      "metadata": {
        "id": "5F-EurCcMQ-y"
      },
      "source": [
        "### Usar una base de datos para almacenar 5 enteros es una exageración, pero si tiene más datos y los datos están relacionados, las bases de datos son una excelente manera. Por ejemplo, un banco podría tener una tabla de clientes y una tabla con cuentas, y como hay una relación entre clientes y cuentas, usar una base de datos es una buena idea."
      ]
    },
    {
      "cell_type": "markdown",
      "metadata": {
        "id": "V_zzl_JFMQ-z"
      },
      "source": [
        "# ¿Qué son los condicionales y qué son los bucles?\n",
        "* ## Los condicionales, dirige el orden de ejecución de los codigos en tu programa. Básicamente, hace que la ejecución de un bloque de código sea condicional, y usted le dice a Python a través de su programa bajo qué condiciones debe ejecutar ese bloque de código.\n",
        "* ## Bucles, repite un bloque de código (un conjunto de instrucciones) una y otra vez hasta que se cumpla una determinada condición, y le dices a Python a través de tu programa cuál es esta condición\n",
        "* ## For-loop, la condición es implícita, básicamente le dices al programa que repita un bloque de código siempre que una secuencia produzca (genere) elementos, y le dices al programa qué secuencia usar\n",
        " \n",
        "* ## while-loop, repite un bloque de código siempre que se cumpla una determinada condición, y le dices a Python a través de tu programa cuál es esta condición"
      ]
    },
    {
      "cell_type": "markdown",
      "metadata": {
        "id": "kn8Tpk5QMQ-1"
      },
      "source": [
        "# Conditionales "
      ]
    },
    {
      "cell_type": "markdown",
      "metadata": {
        "id": "7ryjIAsTMQ-2"
      },
      "source": [
        "## If clause     "
      ]
    },
    {
      "cell_type": "markdown",
      "metadata": {
        "id": "7ILsT-QCMQ-3"
      },
      "source": [
        "### Sintaxis\n",
        "```python\n",
        "if <condicion>:\n",
        "    <statement-1>  # En los bloques de código de Python, las declaraciones if tienen que indentados(sangria)\n",
        "    <statement-2>  # Las declaraciones que se ejecutarán secuencialmente deben indentarse exactamente de la misma manera\n",
        "    ...            # Aunque a Python no le importa, es una buena práctica indentar siempre en múltiplos de 4 espacios\n",
        "                   # El uso de tab no es normalmente utilizado , es considerado como un mal uso pero funciona de todas formas\n",
        "                   # En resumen, siempre vaya a la siguiente línea y tome 4 espacios después de dos puntos en una declaración\n",
        "```\n",
        "### Sintaxis Alternativo\n",
        "```python\n",
        "if <condicion>: <statement-1>; <statement-2>; ... \n",
        "```"
      ]
    },
    {
      "cell_type": "code",
      "execution_count": null,
      "metadata": {
        "colab": {
          "base_uri": "https://localhost:8080/"
        },
        "id": "VRzZHYptMQ-5",
        "outputId": "f9ea8ba0-45c4-43b1-8aa2-f9e803c9a085"
      },
      "outputs": [
        {
          "output_type": "stream",
          "name": "stdout",
          "text": [
            "integer_1 is greater than 1\n"
          ]
        }
      ],
      "source": [
        "integer_1 = 2\n",
        "if integer_1 > 1:\n",
        "    print(\"integer_1 is greater than 1\")"
      ]
    },
    {
      "cell_type": "code",
      "execution_count": null,
      "metadata": {
        "colab": {
          "base_uri": "https://localhost:8080/"
        },
        "id": "gbBqLTGWMQ-8",
        "outputId": "b5829c65-869e-48f6-e165-c07ccab399fa"
      },
      "outputs": [
        {
          "output_type": "stream",
          "name": "stdout",
          "text": [
            "integer_1 is greater than 1\n"
          ]
        }
      ],
      "source": [
        "integer_1 = 2\n",
        "if integer_1 > 1:print(\"integer_1 is greater than 1\")"
      ]
    },
    {
      "cell_type": "markdown",
      "metadata": {
        "id": "vO4VoK6yMQ--"
      },
      "source": [
        "### Else condicional"
      ]
    },
    {
      "cell_type": "markdown",
      "metadata": {
        "id": "8MmT8msaMQ-_"
      },
      "source": [
        "#### Sintaxis\n",
        "```python\n",
        "if <condicion>:\n",
        "    <statement-1>\n",
        "    <statement-2>\n",
        "    ...\n",
        "else:     #Solo se ejecuta este codigo si es que lo de arriba es falso\n",
        "    <statement-3>\n",
        "    <statement-4>\n",
        "    ...\n",
        "    \n",
        "(Lazy evaluation significa que Python solo ejecuta declaraciones cuando es necesario. Por lo tanto, puede encontrar un error en una parte de un programa después de años, ya que esa parte del programa nunca se ejecutó antes y, por lo tanto, nunca se encontró el error)\n",
        "    \n",
        "```\n",
        "####  Sintaxis Alternativo\n",
        "```python\n",
        "if <condition>: <statement-1>; <statement-2>; ... \n",
        "else: <statement-1>; <statement-2>; ... \n",
        "```"
      ]
    },
    {
      "cell_type": "code",
      "execution_count": null,
      "metadata": {
        "colab": {
          "base_uri": "https://localhost:8080/"
        },
        "id": "X9jzGRU9MQ_B",
        "outputId": "89aee8a8-b2be-4a9d-c956-23a26f966cff"
      },
      "outputs": [
        {
          "output_type": "stream",
          "name": "stdout",
          "text": [
            "integer_1 is greater than 1\n"
          ]
        }
      ],
      "source": [
        "integer_1 = 2\n",
        "if integer_1 > 1:\n",
        "    print(\"integer_1 is greater than 1\")\n",
        "else:\n",
        "    print(\"integer_1 is not greater than 1\")"
      ]
    },
    {
      "cell_type": "code",
      "execution_count": null,
      "metadata": {
        "colab": {
          "base_uri": "https://localhost:8080/"
        },
        "id": "mvivEbfDMQ_C",
        "outputId": "5b600459-c600-43d6-bb50-5df08955484f"
      },
      "outputs": [
        {
          "output_type": "stream",
          "name": "stdout",
          "text": [
            "integer_1 es mayor a  1\n"
          ]
        }
      ],
      "source": [
        "integer_1 = 0\n",
        "if integer_1 < 1:\n",
        "    print(\"integer_1 es mayor a  1\")\n",
        "else:\n",
        "    print(\"integer_1 es menor a  1\")"
      ]
    },
    {
      "cell_type": "code",
      "source": [
        "integer_1 = 'prueba'\n",
        "if integer_1 == 'prueba':\n",
        "    print(\"si\")\n",
        "else:\n",
        "    print(\"no\")"
      ],
      "metadata": {
        "colab": {
          "base_uri": "https://localhost:8080/"
        },
        "id": "HkNWQSnEWDTf",
        "outputId": "c07397cb-f844-41de-93a9-d57898131d95"
      },
      "execution_count": null,
      "outputs": [
        {
          "output_type": "stream",
          "name": "stdout",
          "text": [
            "si\n"
          ]
        }
      ]
    },
    {
      "cell_type": "code",
      "source": [
        "numero = 100\n",
        "if numero < 50:\n",
        "    print(\"integer_1 es mayor a  0\")\n",
        "if numero > 1:\n",
        "    print(\"integer_1 es mayor a  1\")\n",
        "if numero ==100:\n",
        "    print('este no')       \n",
        "else:\n",
        "    print(\"lo que sobra\")"
      ],
      "metadata": {
        "colab": {
          "base_uri": "https://localhost:8080/"
        },
        "id": "3z5GcSl_WWrs",
        "outputId": "732270cc-265c-47fc-9957-3e435708397b"
      },
      "execution_count": null,
      "outputs": [
        {
          "output_type": "stream",
          "name": "stdout",
          "text": [
            "integer_1 es mayor a  1\n",
            "este no\n"
          ]
        }
      ]
    },
    {
      "cell_type": "markdown",
      "metadata": {
        "id": "2Rq-8bKXMQ_F"
      },
      "source": [
        "### Elif condicional"
      ]
    },
    {
      "cell_type": "markdown",
      "metadata": {
        "id": "5oveOllcMQ_H"
      },
      "source": [
        "#### Sintaxis\n",
        "```python\n",
        "if <condicion-1>:\n",
        "    <statement-1>\n",
        "    <statement-2>\n",
        "    ...\n",
        "elif <condition-2>:  # Solo se llega a un elif si todas las demas condiciones han sido falsas\n",
        "    <statement-3>\n",
        "    <statement-4>\n",
        "    ...\n",
        "elif <condition-3>:\n",
        "    <statement-5>\n",
        "    <statement-6>\n",
        "    ...\n",
        "...\n",
        "else:                # SOlo se llega a la clasuala else si es que todas las condiciones son falsas\n",
        "    <statement-7>    \n",
        "    <statement-8>\n",
        "    ...\n",
        "```\n"
      ]
    },
    {
      "cell_type": "markdown",
      "metadata": {
        "id": "ZmBZ4RYMMQ_J"
      },
      "source": [
        "#### Ejemplos"
      ]
    },
    {
      "cell_type": "code",
      "execution_count": null,
      "metadata": {
        "colab": {
          "base_uri": "https://localhost:8080/"
        },
        "id": "bNWwZhxuMQ_K",
        "outputId": "ec8c66a9-1a27-41e8-9789-67828f001992"
      },
      "outputs": [
        {
          "output_type": "stream",
          "name": "stdout",
          "text": [
            "La edad no es 60 ni 61\n"
          ]
        }
      ],
      "source": [
        "edad = 59\n",
        "if edad == 60:\n",
        "    print(\"Edad es 60\")\n",
        "elif edad == 61:\n",
        "    print (\"Edad es 61\")\n",
        "else:\n",
        "    print (\"La edad no es 60 ni 61\")"
      ]
    },
    {
      "cell_type": "code",
      "execution_count": null,
      "metadata": {
        "id": "gq87d1XtMQ_N"
      },
      "outputs": [],
      "source": [
        "integer_1 = 0\n",
        "if integer_1 == 0:\n",
        "    print(\"integer_1 es igual a 0\")\n",
        "elif integer_1 > 1:\n",
        "    print(\"integer_1 es mayor que 1\")\n",
        "else:\n",
        "    print(\"integer_1 no es mayor que 1\")"
      ]
    },
    {
      "cell_type": "markdown",
      "metadata": {
        "id": "mLy_PYHeMQ_P"
      },
      "source": [
        "## bucles For-loop\n",
        "### Los bucles for-loop iteran sobre una secuencia\n",
        "#### Una secuencia puede ser una cadena, una colección (como una lista, una tupla, un diccionario, un conjunto) o un objeto especial (como un objeto de rango, un objeto de enumeración, un objeto zip)\n",
        "#### La diferencia entre las colecciones (y cadenas) y los últimos objetos especiales mencionados es que las colecciones (y cadenas) son secuencias que están completamente almacenadas en la memoria de la computadora. Los objetos range, enumerate y zip son objetos especiales que liberan un valor uno por uno. El almacenamiento que toman estos objetos lo toma una función que genera la secuencia y un estado que describe lo que estaba haciendo el objeto especial en el momento en que entregó un valor.\n",
        "#### Una función normal genera un valor (por ejemplo, una lista) y después de esa generación, toda la función desaparece de la memoria de la computadora. Si se vuelve a llamar es como si se llamara a la función por primera vez\n",
        "#### Un objeto generador permanece en la memoria, como una computadora en hibernación. Si una computadora está en hibernación, simplemente comienza de nuevo donde se quedó, un objeto generador también sabe exactamente dónde estaba cuando se lo vuelve a llamar.\n",
        "#### La ventaja es que solo tiene que almacenar la función que produce los valores y no toda la lista resultante. Esto puede ahorrar mucho espacio en la memoria.\n",
        "#### Técnicamente, esto se hace mediante la declaración de rendimiento. La próxima semana discutiremos las funciones y le mostraremos cómo usar la declaración de rendimiento usted mismo."
      ]
    },
    {
      "cell_type": "markdown",
      "metadata": {
        "id": "OtBsR_BOMQ_Q"
      },
      "source": [
        "#### Sinataxis\n",
        "```python\n",
        "for <name> in <string|list|tuple|set|dictionary|range object|enumerate object|zip object>:\n",
        "    <statement-1>\n",
        "    <statement-2>\n",
        "    ...\n",
        "else:                # condicional else es opcionl     \n",
        "    <statement-3>    # Todos estos statements son ejecutados a menos que haya un break o ser termine el bucle\n",
        "    <statement-4>    \n",
        "    ...\n",
        "<|> : Significa or \n",
        "<statement-1> and <statement-2> pueden ser <break> or <continue>\n",
        "<break> para el bucle and el programa se ejcuta una sola vez\n",
        "<continue> para las iteraciones y ejecuta la siguiente iteracion y se acaba\n",
        "```"
      ]
    },
    {
      "cell_type": "markdown",
      "metadata": {
        "id": "UCnLBEN_MQ_S"
      },
      "source": [
        "### For-loop iterando sobre una cadena o string"
      ]
    },
    {
      "cell_type": "code",
      "source": [
        "string_1 = 'abcdopop'\n",
        "\n",
        "for letra in string_1:\n",
        "        print(letra)\n",
        "        break"
      ],
      "metadata": {
        "colab": {
          "base_uri": "https://localhost:8080/"
        },
        "id": "PQ1tmys7aV54",
        "outputId": "c203daa8-445d-4170-a309-262eaafd6ec5"
      },
      "execution_count": null,
      "outputs": [
        {
          "output_type": "stream",
          "name": "stdout",
          "text": [
            "a\n"
          ]
        }
      ]
    },
    {
      "cell_type": "code",
      "source": [
        "string_1 = 'abcdopop'\n",
        "\n",
        "for letra in string_1:\n",
        "        print(letra)\n",
        "        continue"
      ],
      "metadata": {
        "colab": {
          "base_uri": "https://localhost:8080/"
        },
        "id": "61xbxWEtY-k9",
        "outputId": "c2f8e25a-41d7-44da-f885-4da4ff3deeef"
      },
      "execution_count": null,
      "outputs": [
        {
          "output_type": "stream",
          "name": "stdout",
          "text": [
            "a\n",
            "b\n",
            "c\n",
            "d\n",
            "o\n",
            "p\n",
            "o\n",
            "p\n"
          ]
        }
      ]
    },
    {
      "cell_type": "code",
      "execution_count": null,
      "metadata": {
        "colab": {
          "base_uri": "https://localhost:8080/"
        },
        "id": "YlxoNs2YMQ_T",
        "outputId": "e24e88f2-9119-4d06-a890-b76c717c38c1"
      },
      "outputs": [
        {
          "output_type": "stream",
          "name": "stdout",
          "text": [
            "no encontre\n",
            "Listo\n"
          ]
        }
      ],
      "source": [
        "string_1 = 'abcd'\n",
        "\n",
        "for letra in string_1:\n",
        "    if letra == 'e':\n",
        "        print('encontre')\n",
        "        break\n",
        "else:\n",
        "    print(\"no encontre\")\n",
        "\n",
        "print(\"Listo\")    "
      ]
    },
    {
      "cell_type": "code",
      "execution_count": null,
      "metadata": {
        "colab": {
          "base_uri": "https://localhost:8080/"
        },
        "id": "FO4T_VRbMQ_V",
        "outputId": "7ab64cfc-7111-4801-f287-673e1514a531"
      },
      "outputs": [
        {
          "output_type": "stream",
          "name": "stdout",
          "text": [
            "a\n",
            "Ready\n"
          ]
        }
      ],
      "source": [
        "string_1  =  'abcd'\n",
        "for character in string_1:\n",
        "    print(character)\n",
        "    if character  ==  'b':\n",
        "        print('Found it')\n",
        "    break\n",
        "else:\n",
        "    print('Didn\\'t find it')\n",
        "print('Ready')    "
      ]
    },
    {
      "cell_type": "code",
      "execution_count": null,
      "metadata": {
        "colab": {
          "base_uri": "https://localhost:8080/"
        },
        "id": "vpfDVaLqMQ_W",
        "outputId": "b9ebdeb3-4e70-46f4-ae66-8d04b7aaf437"
      },
      "outputs": [
        {
          "output_type": "stream",
          "name": "stdout",
          "text": [
            "Didn't find it\n",
            "Ready\n"
          ]
        }
      ],
      "source": [
        "string_1  =  'abcd'\n",
        "for character in string_1:\n",
        "    if character  ==  'e':\n",
        "        print('Found it')\n",
        "        break\n",
        "else:\n",
        "    print('Didn\\'t find it')\n",
        "print('Ready')    "
      ]
    },
    {
      "cell_type": "markdown",
      "metadata": {
        "id": "iy-PwLVnMQ_Y"
      },
      "source": [
        "#### For-loop iterando sobre un contenedor (lista, tupla, conjunto, diccionario)\n",
        "#### Tenga en cuenta que iterar sobre un diccionario puede ser un poco confuso:\n",
        "* #### Si solo iteras sobre el diccionario, en realidad iteras sobre las keys\n",
        "* #### Si desea iterar sobre los valores del diccionario, debe usar el método de values()\n",
        "* #### Si desea iterar sobre los elementos del diccionario (las combinaciones de key y valor), debe usar el método items()"
      ]
    },
    {
      "cell_type": "code",
      "execution_count": null,
      "metadata": {
        "colab": {
          "base_uri": "https://localhost:8080/"
        },
        "id": "zg1JOAFzMQ_Z",
        "outputId": "43e0ef0c-b2d2-4b70-e4eb-286e7da29f8f"
      },
      "outputs": [
        {
          "output_type": "stream",
          "name": "stdout",
          "text": [
            "Found it\n",
            "ready\n"
          ]
        }
      ],
      "source": [
        "list_1  =  ['a', 'b', 'c', 'd']\n",
        "for character in list_1:\n",
        "    if character  ==  'b':\n",
        "        print('Found it')\n",
        "        break\n",
        "else:\n",
        "    print('Didn\\'t find it')\n",
        "print('ready')    "
      ]
    },
    {
      "cell_type": "code",
      "execution_count": null,
      "metadata": {
        "id": "HPgG4fP2MQ_b"
      },
      "outputs": [],
      "source": [
        "tuple_1  =  'a', 'b', 'c', 'd'\n",
        "for character in tuple_1:\n",
        "    if character  ==  'e':\n",
        "        print('Found it')\n",
        "        break\n",
        "else:\n",
        "    print('Didn\\'t find it')\n",
        "print('ready')    "
      ]
    },
    {
      "cell_type": "code",
      "execution_count": null,
      "metadata": {
        "colab": {
          "base_uri": "https://localhost:8080/"
        },
        "id": "BIZ5W9JiMQ_c",
        "outputId": "3cf4a7be-bd95-45ef-ef23-dccc0b68d743"
      },
      "outputs": [
        {
          "output_type": "stream",
          "name": "stdout",
          "text": [
            "b\n",
            "a\n",
            "encontrado\n",
            "ready\n"
          ]
        }
      ],
      "source": [
        "set_1  =  {'a', 'b', 'c', 'd'}\n",
        "for character in set_1:\n",
        "    print(character)\n",
        "    if character  ==  'a':\n",
        "        print('encontrado')\n",
        "        break\n",
        "        \n",
        "else:\n",
        "    print('Didn\\'t find it')\n",
        "print('ready')    "
      ]
    },
    {
      "cell_type": "code",
      "source": [
        "dictionary_1  =  {1:'a', 2:'b', 3:'c', 4:'d'}\n",
        "for valores_dict in dictionary_1:\n",
        "  print(valores_dict)"
      ],
      "metadata": {
        "colab": {
          "base_uri": "https://localhost:8080/"
        },
        "id": "KjPSBNv3coxi",
        "outputId": "91a914f9-4f40-48d8-cbd8-5dd1d12d4f16"
      },
      "execution_count": null,
      "outputs": [
        {
          "output_type": "stream",
          "name": "stdout",
          "text": [
            "1\n",
            "2\n",
            "3\n",
            "4\n"
          ]
        }
      ]
    },
    {
      "cell_type": "code",
      "source": [
        "dictionary_1  =  {1:'a', 2:'b', 3:'c', 4:'d'}\n",
        "for valores_dict in dictionary_1.values():\n",
        "  print(valores_dict)"
      ],
      "metadata": {
        "colab": {
          "base_uri": "https://localhost:8080/"
        },
        "id": "jVC8rtPEcVY4",
        "outputId": "c9799cdc-7a46-472d-f3b4-05a4b51c6407"
      },
      "execution_count": null,
      "outputs": [
        {
          "output_type": "stream",
          "name": "stdout",
          "text": [
            "a\n",
            "b\n",
            "c\n",
            "d\n"
          ]
        }
      ]
    },
    {
      "cell_type": "code",
      "source": [
        "dictionary_1=  {1:'a', 2:'b', 3:'c', 4:'d'}\n",
        "dictionary_1.values()\n",
        "dictionary_1.keys()"
      ],
      "metadata": {
        "colab": {
          "base_uri": "https://localhost:8080/"
        },
        "id": "yY0JsNTDcwvx",
        "outputId": "29d472d6-8a76-4a11-c993-fc094db4e8c7"
      },
      "execution_count": null,
      "outputs": [
        {
          "output_type": "execute_result",
          "data": {
            "text/plain": [
              "dict_keys([1, 2, 3, 4])"
            ]
          },
          "metadata": {},
          "execution_count": 48
        }
      ]
    },
    {
      "cell_type": "code",
      "source": [
        "{1:'a', 2:'b', 3:'c', 4:'d'}"
      ],
      "metadata": {
        "colab": {
          "base_uri": "https://localhost:8080/"
        },
        "id": "FiXh01aJc8cl",
        "outputId": "2a3c0eec-5d09-49f2-c38e-972073797c3a"
      },
      "execution_count": null,
      "outputs": [
        {
          "output_type": "execute_result",
          "data": {
            "text/plain": [
              "{1: 'a', 2: 'b', 3: 'c', 4: 'd'}"
            ]
          },
          "metadata": {},
          "execution_count": 45
        }
      ]
    },
    {
      "cell_type": "code",
      "execution_count": null,
      "metadata": {
        "colab": {
          "base_uri": "https://localhost:8080/"
        },
        "id": "f_4IXAxeMQ_e",
        "outputId": "9e96345e-9152-4373-8264-16d40ea59ae3"
      },
      "outputs": [
        {
          "output_type": "stream",
          "name": "stdout",
          "text": [
            "Found it\n",
            "ready\n"
          ]
        }
      ],
      "source": [
        "dictionary_1  =  {1:'a', 2:'b', 3:'c', 4:'d'}\n",
        "for character in dictionary_1:\n",
        "    if character  ==  1:\n",
        "        print('Found it')\n",
        "        break\n",
        "else:\n",
        "    print('dictionary_1idn\\'t find it')\n",
        "print('ready')"
      ]
    },
    {
      "cell_type": "code",
      "execution_count": null,
      "metadata": {
        "colab": {
          "base_uri": "https://localhost:8080/"
        },
        "id": "fVFPaH6hMQ_f",
        "outputId": "7c3a729c-a81e-4498-ba25-785ce79984f9"
      },
      "outputs": [
        {
          "output_type": "stream",
          "name": "stdout",
          "text": [
            "Found it\n",
            "ready\n"
          ]
        }
      ],
      "source": [
        "dictionary_1  =  {1:'a', 2:'b', 3:'c', 4:'d'}\n",
        "for character in dictionary_1.keys():\n",
        "    if character  ==  1:\n",
        "        print('Found it')\n",
        "        break\n",
        "else:\n",
        "    print('dictionary_1idn\\'t find it')\n",
        "print('ready')"
      ]
    },
    {
      "cell_type": "code",
      "source": [
        "dictionary_1  =  {1:'a', 2:'b', 3:'c', 4:'d'}\n",
        "for character in dictionary_1.keys():\n",
        "    print('prueba')"
      ],
      "metadata": {
        "colab": {
          "base_uri": "https://localhost:8080/"
        },
        "id": "_y8hQ1oAeiZN",
        "outputId": "42e0e13b-acad-4eec-bd26-7a9449bb6ff8"
      },
      "execution_count": null,
      "outputs": [
        {
          "output_type": "stream",
          "name": "stdout",
          "text": [
            "prueba\n",
            "prueba\n",
            "prueba\n",
            "prueba\n"
          ]
        }
      ]
    },
    {
      "cell_type": "code",
      "execution_count": null,
      "metadata": {
        "colab": {
          "base_uri": "https://localhost:8080/"
        },
        "id": "FomAVMyzMQ_h",
        "outputId": "eae9cb36-d45a-4dd6-adce-9fa371d9709a"
      },
      "outputs": [
        {
          "output_type": "stream",
          "name": "stdout",
          "text": [
            "dictionary_1idn't find it\n",
            "ready\n"
          ]
        }
      ],
      "source": [
        "dictionary_1  =  {1:'a', 2:'b', 3:'c', 4:'d'}\n",
        "for character in dictionary_1.values():\n",
        "    if character  ==  'e':\n",
        "        print('Found it')\n",
        "        break\n",
        "else:\n",
        "    print('dictionary_1idn\\'t find it')\n",
        "print('ready')"
      ]
    },
    {
      "cell_type": "code",
      "execution_count": null,
      "metadata": {
        "colab": {
          "base_uri": "https://localhost:8080/"
        },
        "id": "LeLG47mdMQ_j",
        "outputId": "8cc3dce0-0146-4a56-9902-b26342ec4c5f"
      },
      "outputs": [
        {
          "output_type": "stream",
          "name": "stdout",
          "text": [
            "Found it, character b has key 2\n",
            "ready\n"
          ]
        }
      ],
      "source": [
        "dictionary_1  =  {1:'a', 2:'b', 3:'c', 4:'d'}\n",
        "for key, character in dictionary_1.items():\n",
        "    if character  ==  'b':\n",
        "        print(f'Found it, character {character} has key {key}')\n",
        "        break\n",
        "else:\n",
        "    print('dictionary_1idn\\'t find it')\n",
        "print('ready')"
      ]
    },
    {
      "cell_type": "code",
      "source": [
        "dictionary_1  =  {1:'a', 2:'b', 3:'c', 4:'d'}\n",
        "for key in dictionary_1.items():\n",
        "  print(dictionary_1)"
      ],
      "metadata": {
        "colab": {
          "base_uri": "https://localhost:8080/"
        },
        "id": "G4mcG9DSgrk0",
        "outputId": "9ee47254-0308-4dbd-ba8b-0c539880cbc9"
      },
      "execution_count": null,
      "outputs": [
        {
          "output_type": "stream",
          "name": "stdout",
          "text": [
            "{1: 'a', 2: 'b', 3: 'c', 4: 'd'}\n",
            "{1: 'a', 2: 'b', 3: 'c', 4: 'd'}\n",
            "{1: 'a', 2: 'b', 3: 'c', 4: 'd'}\n",
            "{1: 'a', 2: 'b', 3: 'c', 4: 'd'}\n"
          ]
        }
      ]
    },
    {
      "cell_type": "markdown",
      "metadata": {
        "id": "FG0TP3spMQ_k"
      },
      "source": [
        "### For loop iterando sobre un rango"
      ]
    },
    {
      "cell_type": "markdown",
      "metadata": {
        "id": "jsfUq2NQMQ_m"
      },
      "source": [
        "#### ¿Qué es un rango?\n",
        "#### Puede comparar un rango con una porción de una lista, como puede ver en los siguientes ejemplos. La diferencia es que una porción de una lista se almacenará completa como un nuevo objeto de lista en la memoria de la computadora, mientras que un objeto de rango no almacena todos los valores a la vez en la memoria, pero cada vez que se usa entregará el siguiente valor."
      ]
    },
    {
      "cell_type": "markdown",
      "metadata": {
        "id": "Q1ZlIrskMQ_n"
      },
      "source": [
        "#### Sintaxis\n",
        "```python\n",
        "for <variable> in range(<start><end><step>):\n",
        "    <statement-1>\n",
        "    <statement-2>\n",
        "    ...\n",
        "else:                    \n",
        "    <statement-3>    \n",
        "    <statement-3>    \n",
        "    ...\n",
        "<start><end><step> funciona exactamente como recortar una cadena o una lista, etc, asi que si quieres revisa otra vez y acuerdate que el valor final no esta incluido. Hay los mismos datos par <empezar> y <step>. Por default el inicio es 0, para step es 1.para el final no hay default asi que un obheto range necesita al menos un valor\n",
        "\n",
        "```"
      ]
    },
    {
      "cell_type": "code",
      "execution_count": null,
      "metadata": {
        "colab": {
          "base_uri": "https://localhost:8080/"
        },
        "id": "7G4Tj1MOMQ_o",
        "outputId": "604024f1-f948-4dba-870b-9d9f9cb17193"
      },
      "outputs": [
        {
          "output_type": "stream",
          "name": "stdout",
          "text": [
            "<class 'range'> range(2, 9, 2)\n"
          ]
        }
      ],
      "source": [
        "range_1 = range(2, 9, 2) \n",
        "print(type(range_1), range_1)"
      ]
    },
    {
      "cell_type": "code",
      "execution_count": null,
      "metadata": {
        "colab": {
          "base_uri": "https://localhost:8080/"
        },
        "id": "JqvKrKE0MQ_q",
        "outputId": "e6816358-703e-4ce6-d141-a7e965ab6e42"
      },
      "outputs": [
        {
          "output_type": "stream",
          "name": "stdout",
          "text": [
            "[2, 4, 6, 8]\n"
          ]
        }
      ],
      "source": [
        "print(list(range_1))"
      ]
    },
    {
      "cell_type": "code",
      "execution_count": null,
      "metadata": {
        "colab": {
          "base_uri": "https://localhost:8080/"
        },
        "id": "vGisZI6HMQ_r",
        "outputId": "97dd6979-cdbe-4831-ec85-97a6d232dde4"
      },
      "outputs": [
        {
          "output_type": "stream",
          "name": "stdout",
          "text": [
            "True\n"
          ]
        }
      ],
      "source": [
        "list_1 = [0, 1, 2, 3, 4, 5, 6, 7, 8, 9, 10]\n",
        "print(list(range(2, 8, 2)) == list_1[2:8:2])"
      ]
    },
    {
      "cell_type": "code",
      "execution_count": null,
      "metadata": {
        "colab": {
          "base_uri": "https://localhost:8080/"
        },
        "id": "PTdsHFQEMQ_u",
        "outputId": "20a83a2f-513f-49bf-8eed-02716ae50c66"
      },
      "outputs": [
        {
          "output_type": "stream",
          "name": "stdout",
          "text": [
            "True\n"
          ]
        }
      ],
      "source": [
        "print(list(range(2, 4, 2)) == [0, 1, 2, 3, 4, 5, 6, 7, 8, 9, 10][2:4:2])"
      ]
    },
    {
      "cell_type": "markdown",
      "metadata": {
        "id": "HPblVP-JMQ_v"
      },
      "source": [
        "#### Puede usar la iteración en un rango si sabe exactamente cuántas veces desea ejecutar el bloque de codificación"
      ]
    },
    {
      "cell_type": "markdown",
      "metadata": {
        "id": "wIU11dADMQ_w"
      },
      "source": [
        "#### Ejemplo-1: puede usar un _ si no necesita el valor\n",
        "#### NB esto es una convención. En Python, se supone que no debe usar nombres que comiencen con uno _, sin embargo, puede hacerlo."
      ]
    },
    {
      "cell_type": "code",
      "execution_count": null,
      "metadata": {
        "colab": {
          "base_uri": "https://localhost:8080/"
        },
        "id": "WuoHZtawMRAT",
        "outputId": "d3cf8202-30c1-4362-d948-d87b8893b596"
      },
      "outputs": [
        {
          "output_type": "stream",
          "name": "stdout",
          "text": [
            "0\n",
            "1\n",
            "2\n",
            "3\n",
            "4\n"
          ]
        }
      ],
      "source": [
        "# Es Pythonic y se ve avanzado pero es muy simple :)\n",
        "for porque in range(5): \n",
        "    print(porque)\n",
        "#porque = 0,1,2,3,4"
      ]
    },
    {
      "cell_type": "code",
      "execution_count": null,
      "metadata": {
        "colab": {
          "base_uri": "https://localhost:8080/"
        },
        "id": "1xWwk0FSMRAU",
        "outputId": "5cc1c803-1fb5-4688-a429-4667449d6dcd"
      },
      "outputs": [
        {
          "output_type": "stream",
          "name": "stdout",
          "text": [
            "0\n",
            "1\n",
            "2\n",
            "3\n",
            "4\n"
          ]
        }
      ],
      "source": [
        "# No tan Pythonic pero funciona \n",
        "for _ in range(5): \n",
        "    print(_)"
      ]
    },
    {
      "cell_type": "markdown",
      "metadata": {
        "id": "hYSIaQyqMRAW"
      },
      "source": [
        "#### Ejemplo-2: usar un nombre que debe ser guardado"
      ]
    },
    {
      "cell_type": "code",
      "execution_count": null,
      "metadata": {
        "colab": {
          "base_uri": "https://localhost:8080/"
        },
        "id": "IgHIehY_MRAX",
        "outputId": "ba80ac18-80ac-4402-81c3-639b6be5d02f"
      },
      "outputs": [
        {
          "output_type": "stream",
          "name": "stdout",
          "text": [
            "0\n",
            "1\n",
            "4\n",
            "9\n",
            "16\n"
          ]
        }
      ],
      "source": [
        "suma_enteros= 0\n",
        "for i in range(5):\n",
        "    print(i**2)\n",
        "    #suma_enteros = suma_enteros + i**2\n",
        "    suma_enteros += i**2\n",
        "\n",
        "\n",
        "#print(sum_of_integers)"
      ]
    },
    {
      "cell_type": "markdown",
      "metadata": {
        "id": "oFEMRMzHMRAZ"
      },
      "source": [
        "### For-loop iterando sobre un objeto enumerado\n",
        "#### Un objeto de enumeración crea un índice para los elementos en una secuencia\n",
        "#### Algunas secuencias como conjuntos y diccionarios no tienen un índice numérico pero desea usar un índice\n",
        "#### A veces desea comenzar el índice con un número diferente, p. 1\n",
        "#### El objeto de enumeración necesita dos parámetros, una secuencia y un índice inicial, cuyo valor predeterminado es 0"
      ]
    },
    {
      "cell_type": "code",
      "execution_count": null,
      "metadata": {
        "scrolled": true,
        "id": "KKRBxS3PMRAa"
      },
      "outputs": [],
      "source": [
        "for index, digit in enumerate([1, 2, 3, 2]) :\n",
        "    print(f\"index is {index}, digit is {digit}\")"
      ]
    },
    {
      "cell_type": "code",
      "execution_count": null,
      "metadata": {
        "scrolled": true,
        "colab": {
          "base_uri": "https://localhost:8080/"
        },
        "id": "OA8YPD_RMRAb",
        "outputId": "f617d36a-8aca-4cb0-a5a5-0a61b411910e"
      },
      "outputs": [
        {
          "output_type": "stream",
          "name": "stdout",
          "text": [
            "index is 1, digit is 1\n",
            "index is 2, digit is 2\n",
            "index is 3, digit is 3\n",
            "index is 4, digit is 2\n"
          ]
        }
      ],
      "source": [
        "for index, digit in enumerate((1, 2, 3, 2), 1):\n",
        "    print(f\"index is {index}, digit is {digit}\")"
      ]
    },
    {
      "cell_type": "code",
      "execution_count": null,
      "metadata": {
        "scrolled": true,
        "colab": {
          "base_uri": "https://localhost:8080/"
        },
        "id": "ljZBNeu-MRAd",
        "outputId": "9058a853-873c-45fa-f4af-2612a25d6060"
      },
      "outputs": [
        {
          "output_type": "stream",
          "name": "stdout",
          "text": [
            "index is 2, digit is 1\n",
            "index is 3, digit is 2\n",
            "index is 4, digit is 3\n"
          ]
        }
      ],
      "source": [
        "for index, digit in enumerate({1, 2, 3, 2}, 2):\n",
        "    print(f\"index is {index}, digit is {digit}\")"
      ]
    },
    {
      "cell_type": "code",
      "execution_count": null,
      "metadata": {
        "scrolled": true,
        "colab": {
          "base_uri": "https://localhost:8080/"
        },
        "id": "_e5CmNj8MRAe",
        "outputId": "27ae5f68-d584-4469-9392-8fb1265a0344"
      },
      "outputs": [
        {
          "output_type": "stream",
          "name": "stdout",
          "text": [
            "index is 3, letter is a\n",
            "index is 4, letter is b\n",
            "index is 5, letter is c\n",
            "index is 6, letter is d\n",
            "index is 7, letter is e\n"
          ]
        }
      ],
      "source": [
        "for index, letter in enumerate('abcde', 3):\n",
        "    print(f\"index is {index}, letter is {letter}\")"
      ]
    },
    {
      "cell_type": "markdown",
      "metadata": {
        "id": "X82XK_MGMRAf"
      },
      "source": [
        "### For-loop iterando sobre un objeto zip \n",
        "#### Un objeto tiene dos o mas objetos juntos"
      ]
    },
    {
      "cell_type": "code",
      "execution_count": null,
      "metadata": {
        "scrolled": true,
        "colab": {
          "base_uri": "https://localhost:8080/"
        },
        "id": "McDSRRv4MRAg",
        "outputId": "fd2e8a11-cd37-430d-9be7-bde18c684251"
      },
      "outputs": [
        {
          "output_type": "stream",
          "name": "stdout",
          "text": [
            "digit is 1,  letter is a\n",
            "digit is 2,  letter is b\n",
            "digit is 3,  letter is c\n"
          ]
        }
      ],
      "source": [
        "for digit,  letter in zip([1, 2, 3], ['a', 'b', 'c']) :\n",
        "    print(f\"digit is {digit},  letter is {letter}\")"
      ]
    },
    {
      "cell_type": "markdown",
      "metadata": {
        "id": "bLTBfQqZMRAi"
      },
      "source": [
        "#### Entonces puede comprimir dos listas juntas, pero en realidad puede comprimir todo tipo de secuencias juntas. Tenga en cuenta que si una de las secuencias es un diccionario, comprima las claves y no los valores"
      ]
    },
    {
      "cell_type": "code",
      "execution_count": null,
      "metadata": {
        "scrolled": true,
        "colab": {
          "base_uri": "https://localhost:8080/"
        },
        "id": "1XLbKuBkMRAj",
        "outputId": "46f1ce2e-ff14-4627-d99f-520342597f5d"
      },
      "outputs": [
        {
          "output_type": "stream",
          "name": "stdout",
          "text": [
            "<zip object at 0x7f3aff31c410>\n",
            "[(1, 'a'), (2, 'b'), (3, 'c')]\n"
          ]
        }
      ],
      "source": [
        "digits_and_letters = zip([1, 2, 3], ['a', 'b', 'c'])\n",
        "print(digits_and_letters)\n",
        "print(list(digits_and_letters))"
      ]
    },
    {
      "cell_type": "code",
      "execution_count": null,
      "metadata": {
        "scrolled": true,
        "colab": {
          "base_uri": "https://localhost:8080/"
        },
        "id": "CzwFaJe2MRAl",
        "outputId": "e8e893a0-f4d9-42fe-f83e-f3132ac3de08"
      },
      "outputs": [
        {
          "output_type": "stream",
          "name": "stdout",
          "text": [
            "[(1, 'a'), (2, 'b'), (3, 'c')]\n"
          ]
        }
      ],
      "source": [
        "digits_and_letters = zip([1, 2, 3], ('a', 'b', 'c'))\n",
        "print(list(digits_and_letters))"
      ]
    },
    {
      "cell_type": "code",
      "execution_count": null,
      "metadata": {
        "scrolled": true,
        "id": "_L6u5Kw3MRAm"
      },
      "outputs": [],
      "source": [
        "digits_and_letters = zip(('1', '2', '3'), {'a', 'b', 'c'})\n",
        "print(list(digits_and_letters))"
      ]
    },
    {
      "cell_type": "code",
      "execution_count": null,
      "metadata": {
        "scrolled": true,
        "colab": {
          "base_uri": "https://localhost:8080/"
        },
        "id": "TH1WecxqMRAn",
        "outputId": "35d4760c-6cba-47a1-e146-feaa4d81e5d4"
      },
      "outputs": [
        {
          "output_type": "stream",
          "name": "stdout",
          "text": [
            "[(1, 'a'), (2, 'b'), (3, 'c')]\n"
          ]
        }
      ],
      "source": [
        "digits_and_letters = zip([1, 2, 3], {1:'a', 2:'b', 3:'c'}.values())\n",
        "print(list(digits_and_letters))"
      ]
    },
    {
      "cell_type": "markdown",
      "metadata": {
        "id": "WGBtr6ApMRAo"
      },
      "source": [
        "#### Puedes comprimir más de 2 secuencias juntas"
      ]
    },
    {
      "cell_type": "code",
      "execution_count": null,
      "metadata": {
        "scrolled": true,
        "colab": {
          "base_uri": "https://localhost:8080/"
        },
        "id": "6dNfj92eMRAp",
        "outputId": "fe36ee0e-e0aa-4a49-bdf1-34fe83b465b2"
      },
      "outputs": [
        {
          "output_type": "stream",
          "name": "stdout",
          "text": [
            "[(1, 'a', 'g'), (2, 'b', 'h'), (3, 'c', 'i')]\n"
          ]
        }
      ],
      "source": [
        "digits_and_letters = zip([1, 2, 3], ('a', 'b', 'c'), 'ghi')\n",
        "print(list(digits_and_letters))"
      ]
    },
    {
      "cell_type": "markdown",
      "metadata": {
        "id": "koJNSlHfMRAq"
      },
      "source": [
        "#### Cuando desea comprimir secuencias de diferentes longitudes, el contenedor con la longitud más corta decide el resultado"
      ]
    },
    {
      "cell_type": "code",
      "execution_count": null,
      "metadata": {
        "scrolled": true,
        "colab": {
          "base_uri": "https://localhost:8080/"
        },
        "id": "T1qPe3-MMRAr",
        "outputId": "118866ee-5006-4525-9c65-1b63c3ded26f"
      },
      "outputs": [
        {
          "output_type": "stream",
          "name": "stdout",
          "text": [
            "[(1, 'a'), (2, 'b'), (3, 'c')]\n"
          ]
        }
      ],
      "source": [
        "digits_and_letters = zip([1,2,3,4,5,6,7,8,9,10], 'abc')\n",
        "print(list(digits_and_letters))"
      ]
    },
    {
      "cell_type": "markdown",
      "metadata": {
        "id": "JipRwCO4MRAt"
      },
      "source": [
        "## While-loop"
      ]
    },
    {
      "cell_type": "markdown",
      "metadata": {
        "id": "GbdMCVjIMRAu"
      },
      "source": [
        "#### Sintaxis\n",
        "```python\n",
        "while <condition-1>:\n",
        "    <statement-1>\n",
        "    <statement-2>\n",
        "    ...\n",
        "else:                   \n",
        "    <statement-3>     \n",
        "    <statement-3>    \n",
        "    ...\n",
        "\n",
        "```"
      ]
    },
    {
      "cell_type": "markdown",
      "metadata": {
        "id": "CnvLQFStMRAw"
      },
      "source": [
        "### El while-loop es el bucle más simple implementado en Python. En estos días, los programadores usan principalmente bucles for-loop, ya que los bucles for-loop son más potentes que los bucles while-loop. Sin embargo, algunas tareas se realizan mejor con un bucle while-loop\n",
        "### En realidad, podría reemplazar todos los bucles for-loops por bucles while-loop, al revés no es posible"
      ]
    },
    {
      "cell_type": "markdown",
      "metadata": {
        "id": "Gj_mq_DxMRAy"
      },
      "source": [
        "#### Ejemplos"
      ]
    },
    {
      "cell_type": "code",
      "source": [
        "print(bool([]))"
      ],
      "metadata": {
        "colab": {
          "base_uri": "https://localhost:8080/"
        },
        "id": "0BtDj4mrr56W",
        "outputId": "dd2ef260-61e4-42cd-d7df-7d77cfb167a0"
      },
      "execution_count": null,
      "outputs": [
        {
          "output_type": "stream",
          "name": "stdout",
          "text": [
            "False\n"
          ]
        }
      ]
    },
    {
      "cell_type": "code",
      "execution_count": null,
      "metadata": {
        "colab": {
          "base_uri": "https://localhost:8080/"
        },
        "id": "-UG82ExWMRAz",
        "outputId": "71658e49-de29-4a91-8611-0576cbda29a9"
      },
      "outputs": [
        {
          "output_type": "stream",
          "name": "stdout",
          "text": [
            "['a', 'b', 'c', 'd']\n",
            "['b', 'c', 'd']\n",
            "['b', 'c', 'd']\n",
            "['c', 'd']\n",
            "['c', 'd']\n",
            "['d']\n",
            "['d']\n",
            "[]\n"
          ]
        }
      ],
      "source": [
        "list_1 = ['a', 'b', 'c', 'd']\n",
        "\n",
        "\n",
        "while list_1:\n",
        "    print(list_1)\n",
        "    list_1.pop(0)\n",
        "    print(list_1)"
      ]
    },
    {
      "cell_type": "code",
      "execution_count": null,
      "metadata": {
        "colab": {
          "base_uri": "https://localhost:8080/"
        },
        "id": "HEEVMBnyMRA3",
        "outputId": "2d4d2e11-2813-4d8c-e414-2cbd5fc9deb1"
      },
      "outputs": [
        {
          "output_type": "stream",
          "name": "stdout",
          "text": [
            "a\n",
            "b\n",
            "Found it\n",
            "ready\n"
          ]
        }
      ],
      "source": [
        "list_1 = ['a', 'b', 'c', 'd']\n",
        "\n",
        "\n",
        "while list_1:\n",
        "    letter = list_1.pop(0)\n",
        "\n",
        "    # El metodo pop lo que hace es que elimina un elemento de una lista y lo imprime\n",
        "    # pop(0) para eliiminar el primer valor\n",
        "    # pop(-1) elimina el ultimo valor\n",
        "    print(letter)\n",
        "    if letter == 'b':\n",
        "        print('Found it')\n",
        "        break\n",
        "else:\n",
        "    print('Didn\\'t find it')\n",
        "print('ready')"
      ]
    },
    {
      "cell_type": "code",
      "execution_count": null,
      "metadata": {
        "scrolled": true,
        "colab": {
          "base_uri": "https://localhost:8080/"
        },
        "id": "3ijaP6thMRA5",
        "outputId": "e51aaeec-4e63-49b5-b513-878aed6120cd"
      },
      "outputs": [
        {
          "output_type": "stream",
          "name": "stdout",
          "text": [
            "d\n",
            "c\n",
            "b\n",
            "a\n",
            "Didn't find it\n",
            "ready\n"
          ]
        }
      ],
      "source": [
        "list_1 = ['a', 'b', 'c', 'd']\n",
        "while list_1:\n",
        "    letter = list_1.pop(-1)\n",
        "    print(letter)\n",
        "    if letter == 'e':\n",
        "        print('Found it')\n",
        "        break\n",
        "else:\n",
        "    print('Didn\\'t find it')\n",
        "print('ready')"
      ]
    },
    {
      "cell_type": "code",
      "execution_count": null,
      "metadata": {
        "scrolled": true,
        "colab": {
          "base_uri": "https://localhost:8080/"
        },
        "id": "JbWy9n3TMRA6",
        "outputId": "efdb0b65-06f8-43ec-e712-4dab2721b210"
      },
      "outputs": [
        {
          "output_type": "stream",
          "name": "stdout",
          "text": [
            "a\n",
            "b\n",
            "c\n",
            "d\n"
          ]
        }
      ],
      "source": [
        "list_1 = ['a', 'b', 'c', 'd']\n",
        "while list_1:\n",
        "    letter = list_1.pop(0)  \n",
        "    print(letter)"
      ]
    },
    {
      "cell_type": "code",
      "execution_count": null,
      "metadata": {
        "scrolled": true,
        "colab": {
          "base_uri": "https://localhost:8080/"
        },
        "id": "tCSaL0SsMRA7",
        "outputId": "163d7ee3-832f-40e0-f6c1-c7ccae18237b"
      },
      "outputs": [
        {
          "output_type": "stream",
          "name": "stdout",
          "text": [
            "d\n",
            "c\n",
            "b\n",
            "a\n"
          ]
        }
      ],
      "source": [
        "list_1 = ['a', 'b', 'c', 'd']\n",
        "while list_1:\n",
        "    letter = list_1.pop(-1)  \n",
        "    print(letter)"
      ]
    },
    {
      "cell_type": "code",
      "execution_count": null,
      "metadata": {
        "scrolled": true,
        "colab": {
          "base_uri": "https://localhost:8080/"
        },
        "id": "W-LV410BMRA8",
        "outputId": "caa56ee2-5dbc-4fa6-c66d-b2258b23aea3"
      },
      "outputs": [
        {
          "output_type": "stream",
          "name": "stdout",
          "text": [
            "d\n",
            "c\n",
            "b\n",
            "a\n"
          ]
        }
      ],
      "source": [
        "list_1 = ['a', 'b', 'c', 'd']\n",
        "while list_1:\n",
        "    letter = list_1.pop(-1)  \n",
        "    print(letter)"
      ]
    },
    {
      "cell_type": "markdown",
      "metadata": {
        "id": "MWWiamPQMRA9"
      },
      "source": [
        "#### Si bien la mayoría de los ejemplos anteriores también se pueden realizar fácilmente con un for-loop, el siguiente se realiza más fácilmente con un while-loop. Esta es una forma estándar en Python de probar la entrada proporcionada por el usuario."
      ]
    },
    {
      "cell_type": "code",
      "source": [
        "edad= input('Que edad tienes?')\n",
        "\n",
        "if int(edad) > 18:\n",
        "   print('mayor de edad')"
      ],
      "metadata": {
        "colab": {
          "base_uri": "https://localhost:8080/"
        },
        "id": "jU1vCPaasvui",
        "outputId": "e6cd7c7b-65e8-496e-b467-c3b52209db9b"
      },
      "execution_count": null,
      "outputs": [
        {
          "output_type": "stream",
          "name": "stdout",
          "text": [
            "Que edad tienes50\n",
            "mayor de edad\n"
          ]
        }
      ]
    },
    {
      "cell_type": "code",
      "execution_count": null,
      "metadata": {
        "scrolled": true,
        "colab": {
          "base_uri": "https://localhost:8080/"
        },
        "id": "U0M1lDeJMRA-",
        "outputId": "41a71bfe-1702-4175-f183-b94ceccf483b"
      },
      "outputs": [
        {
          "output_type": "stream",
          "name": "stdout",
          "text": [
            "Como te llamas?c12c3c\n",
            "Como te llamas?didier\n",
            "Your name is didier\n"
          ]
        }
      ],
      "source": [
        "\n",
        "while True:\n",
        "    name = input('Como te llamas?')\n",
        "    if name != '' and name.isalpha(): #revisa si tu nombre es tu cadena vacia\n",
        "        break\n",
        "print(f\"Your name is {name}\")         "
      ]
    },
    {
      "cell_type": "markdown",
      "metadata": {
        "id": "SQUKOtvgMRBA"
      },
      "source": [
        "#### Al igual que con un for-loop, puede usar la instrucción continuar y romper en un while-loop. Hay una cosa complicada cuando se usa continuar dentro de un while-loop. El bucle se ejecutará sin probar la condición. Puedes verlo por ti mismo en el siguiente ejemplo. Antes de hacer eso, guarde su cuaderno haciendo clic en el primer icono en la tercera fila del cuaderno. Como la condición nunca se probará, creó un bucle infinito. Verá aparecer un asterisco a la izquierda del programa. Para salir del bucle, seleccione Kernel en el menú, seleccione Reiniciar, confirme el reinicio y debería estar listo para comenzar.\n",
        "#### No es una mala idea probar esto. Cada programador entrará en un bucle infinito de vez en cuando, así que es mejor que sepas qué hacer"
      ]
    },
    {
      "cell_type": "code",
      "source": [
        ""
      ],
      "metadata": {
        "id": "rHymqgKAu8Dh"
      },
      "execution_count": null,
      "outputs": []
    },
    {
      "cell_type": "code",
      "execution_count": null,
      "metadata": {
        "colab": {
          "base_uri": "https://localhost:8080/"
        },
        "id": "fJdcYdQCMRBC",
        "outputId": "f7c99598-5c06-4655-bb3e-e3e4ab3fa60f"
      },
      "outputs": [
        {
          "output_type": "stream",
          "name": "stdout",
          "text": [
            "2\n"
          ]
        }
      ],
      "source": [
        "a = 1\n",
        "while a < 12:\n",
        "    a += 1\n",
        "    print(a)\n",
        "    break"
      ]
    },
    {
      "cell_type": "markdown",
      "metadata": {
        "id": "hbrD-InUMRBE"
      },
      "source": [
        "## Atajos"
      ]
    },
    {
      "cell_type": "markdown",
      "metadata": {
        "id": "zbyRNajuMRBF"
      },
      "source": [
        "### Conditional expressions"
      ]
    },
    {
      "cell_type": "markdown",
      "metadata": {
        "id": "kGNWRJL8MRBG"
      },
      "source": [
        "#### Sinatxis de condicionales\n",
        "```python\n",
        "<expression-1> if <condition> else <expression-2>\n",
        "\n",
        "```"
      ]
    },
    {
      "cell_type": "markdown",
      "metadata": {
        "id": "7snOtXadMRBH"
      },
      "source": [
        "#### Este condicional"
      ]
    },
    {
      "cell_type": "code",
      "execution_count": null,
      "metadata": {
        "colab": {
          "base_uri": "https://localhost:8080/"
        },
        "id": "RhVt8EcJMRBJ",
        "outputId": "a9897274-3236-4aa8-be33-d880ecb5c752"
      },
      "outputs": [
        {
          "output_type": "stream",
          "name": "stdout",
          "text": [
            "High\n"
          ]
        }
      ],
      "source": [
        "integer_1 = 3\n",
        "if integer_1 > 2:\n",
        "    result = \"High\"\n",
        "else:\n",
        "    result = \"list_1ow\"\n",
        "print(result)    "
      ]
    },
    {
      "cell_type": "markdown",
      "metadata": {
        "id": "MG5y-6n0MRBK"
      },
      "source": [
        "#### puede ser reemplazado por"
      ]
    },
    {
      "cell_type": "code",
      "execution_count": null,
      "metadata": {
        "id": "XHj7fn8kMRBM"
      },
      "outputs": [],
      "source": [
        "integer_1 = 3\n",
        "result  =  \"High\" if integer_1 > 2 else \"Low\"\n",
        "print(result) "
      ]
    },
    {
      "cell_type": "markdown",
      "metadata": {
        "id": "ABw2aTarMRBN"
      },
      "source": [
        "#### o por esto"
      ]
    },
    {
      "cell_type": "code",
      "execution_count": null,
      "metadata": {
        "colab": {
          "base_uri": "https://localhost:8080/"
        },
        "id": "gX2qWkFPMRBO",
        "outputId": "bcdf0227-6f5c-4874-c74a-449bbde39611"
      },
      "outputs": [
        {
          "output_type": "stream",
          "name": "stdout",
          "text": [
            "Low\n"
          ]
        }
      ],
      "source": [
        "integer_1 = 0\n",
        "print(\"High\" if integer_1 > 2 else \"Low\")"
      ]
    },
    {
      "cell_type": "markdown",
      "metadata": {
        "id": "LdVu-PwKMRBP"
      },
      "source": [
        "### Listas y otras comprensiones"
      ]
    },
    {
      "cell_type": "markdown",
      "metadata": {
        "id": "HCv68N8_MRBQ"
      },
      "source": [
        "#### Sintaxis de comprensiones\n",
        "```python\n",
        "[<expression> for <variable> in <list> if <condition>] # comprensino de lista\n",
        "{<expression-1>:<expression-2> for <variable> in <list> if <condition>} # comprension para diccionario\n",
        "{<expression> for <variable> in <list> if <condition>} # comprension para set \n",
        "(<expression> for <variable> in <list> if <condition>) \n",
        "# la clausula if no es necesaria \n",
        "```"
      ]
    },
    {
      "cell_type": "markdown",
      "metadata": {
        "id": "dWZsBrQ7MRBT"
      },
      "source": [
        "#### This for-loop"
      ]
    },
    {
      "cell_type": "code",
      "source": [
        "print(5%2)"
      ],
      "metadata": {
        "colab": {
          "base_uri": "https://localhost:8080/"
        },
        "id": "uRlf8jPSw_hT",
        "outputId": "132048dc-15cc-444a-d2a6-4f270460b8d0"
      },
      "execution_count": null,
      "outputs": [
        {
          "output_type": "stream",
          "name": "stdout",
          "text": [
            "1\n"
          ]
        }
      ]
    },
    {
      "cell_type": "code",
      "execution_count": null,
      "metadata": {
        "colab": {
          "base_uri": "https://localhost:8080/"
        },
        "id": "YU0xmWifMRBU",
        "outputId": "eb8cc08d-9b0c-49cf-addf-62908b7305f9"
      },
      "outputs": [
        {
          "output_type": "stream",
          "name": "stdout",
          "text": [
            "[4, 16]\n"
          ]
        }
      ],
      "source": [
        "list_1 = [1, 2, 3, 4]\n",
        "result = []\n",
        "for n in list_1:\n",
        "    # el operador % da el residuo de una division\n",
        "    # esto es llamado el modulo 2 \n",
        "    # enronces probamos si es que n es impar\n",
        "    # n % 2 == 1 es verdadero si n es impar \n",
        "    if n % 2 == 0:\n",
        "        # agregamos el resultado a una lista\n",
        "        result.append(n**2)\n",
        "print(result)"
      ]
    },
    {
      "cell_type": "code",
      "source": [
        "print(1/4)"
      ],
      "metadata": {
        "colab": {
          "base_uri": "https://localhost:8080/"
        },
        "id": "IGA42s1Ow3uw",
        "outputId": "2ac5900c-9251-4412-e35f-387b2238f311"
      },
      "execution_count": null,
      "outputs": [
        {
          "output_type": "stream",
          "name": "stdout",
          "text": [
            "0.25\n"
          ]
        }
      ]
    },
    {
      "cell_type": "markdown",
      "metadata": {
        "id": "9yHLT81FMRBW"
      },
      "source": [
        "#### puede ser reemplazado por una comprension de lista"
      ]
    },
    {
      "cell_type": "code",
      "execution_count": null,
      "metadata": {
        "scrolled": true,
        "colab": {
          "base_uri": "https://localhost:8080/"
        },
        "id": "ZWuwupw_MRBX",
        "outputId": "7f5ae6cc-e5d4-4ac1-f330-ed450d8a7ccb"
      },
      "outputs": [
        {
          "output_type": "stream",
          "name": "stdout",
          "text": [
            "[8, 64]\n"
          ]
        }
      ],
      "source": [
        "list_1 = [1, 2, 3, 4]\n",
        "resultado  =  [n ** 3 for n in list_1 if n % 2 == 0] # crea una lista\n",
        "print(resultado)"
      ]
    },
    {
      "cell_type": "markdown",
      "metadata": {
        "id": "uHNMGNy-MRBY"
      },
      "source": [
        "#### Tambien podemos crear un diccionario de esta manera"
      ]
    },
    {
      "cell_type": "code",
      "execution_count": null,
      "metadata": {
        "colab": {
          "base_uri": "https://localhost:8080/"
        },
        "id": "godEx1b1MRBZ",
        "outputId": "733d7e08-2a26-4be5-8e4e-add5fbfc6120"
      },
      "outputs": [
        {
          "output_type": "stream",
          "name": "stdout",
          "text": [
            "{2: 4, 4: 16}\n",
            "[(2, 4), (4, 16)]\n",
            "[2, 4]\n",
            "[4, 16]\n"
          ]
        }
      ],
      "source": [
        "list_1 = [1, 2, 3, 4]\n",
        "result  =  {n:n ** 2 for n in list_1 if n % 2 == 0}\n",
        "print(result)\n",
        "# El metodo items de un diccionario da una lista de tuplas cada una con su key y su valor\n",
        "print(list(result.items()))\n",
        "# lista de keys\n",
        "print(list(result.keys()))\n",
        "# Lista de resultados\n",
        "print(list(result.values()))"
      ]
    },
    {
      "cell_type": "code",
      "execution_count": null,
      "metadata": {
        "colab": {
          "base_uri": "https://localhost:8080/"
        },
        "id": "Zy3zsfqgMRBa",
        "outputId": "8453be33-f2cf-41b8-d43f-3ddf93a7688f"
      },
      "outputs": [
        {
          "output_type": "stream",
          "name": "stdout",
          "text": [
            "{16, 4}\n"
          ]
        }
      ],
      "source": [
        "list_1 = [1, 2, 3, 4]\n",
        "result  =  {n ** 2 for n in list_1 if n % 2 == 0}\n",
        "print(result)"
      ]
    },
    {
      "cell_type": "code",
      "execution_count": null,
      "metadata": {
        "id": "QHETsYLeMRBb",
        "outputId": "de569363-646b-4e48-bc64-a73e47aaea76"
      },
      "outputs": [
        {
          "name": "stdout",
          "output_type": "stream",
          "text": [
            "<generator object <genexpr> at 0x000001F5FB100BA0>\n"
          ]
        }
      ],
      "source": [
        "list_1 = [1, 2, 3, 4]\n",
        "result  =  (n ** 2 for n in list_1 if n % 2 == 0)\n",
        "print(result)\n",
        "# mas parecido a crear un rango "
      ]
    },
    {
      "cell_type": "code",
      "execution_count": null,
      "metadata": {
        "colab": {
          "base_uri": "https://localhost:8080/"
        },
        "id": "umQCAc3HMRBd",
        "outputId": "9152b716-4247-4847-d3ca-b15587279381"
      },
      "outputs": [
        {
          "output_type": "stream",
          "name": "stdout",
          "text": [
            "16\n",
            "4\n"
          ]
        }
      ],
      "source": [
        "for x in result:\n",
        "    print(x)"
      ]
    },
    {
      "cell_type": "markdown",
      "metadata": {
        "id": "Revvg_6fMRBf"
      },
      "source": [
        "### No hay una comprension para una tupla pero esto funciona"
      ]
    },
    {
      "cell_type": "code",
      "execution_count": null,
      "metadata": {
        "colab": {
          "base_uri": "https://localhost:8080/"
        },
        "id": "wvqSPXhAMRBh",
        "outputId": "95ff2e82-c12e-4661-e05a-f831a0ade160"
      },
      "outputs": [
        {
          "output_type": "stream",
          "name": "stdout",
          "text": [
            "(4, 16)\n"
          ]
        }
      ],
      "source": [
        "list_1 = [1, 2, 3, 4]\n",
        "# We construct a generator object \n",
        "result  =  (n ** 2 for n in list_1 if n % 2 == 0)\n",
        "# which we convert into a tuple\n",
        "result = tuple(result)\n",
        "print(result)"
      ]
    },
    {
      "cell_type": "markdown",
      "metadata": {
        "id": "Zb-cSpoSMRBk"
      },
      "source": [
        "### Si quieres saber por qué no hay comprensiones de tuplas? Googlea 'comprensiones de tupla de Python'. Encontrarás como uno de los primeros resultados [https://stackoverflow.com/questions/16940293/why-is-there-no-tuple-comprehension-in-python](https://stackoverflow.com/questions/16940293 /why-is-there-no-tuple-comprehension-in-python), lea las preguntas y respuestas si está interesado y recuerda que si tienes una pregunta un poco difícil googlea, los resultados en [https://stackoverflow ](https://stackoverflow) son realmente los primeros en aparcer. "
      ]
    },
    {
      "cell_type": "markdown",
      "metadata": {
        "id": "RhUNLzctMRBl"
      },
      "source": [
        "# Preguntas "
      ]
    },
    {
      "cell_type": "markdown",
      "metadata": {
        "id": "mIg1HWXhMRBv"
      },
      "source": [
        "## 1 Programa la impresión de una tabla de multiplicar para todos los números entre 1 y 10, usando For-loops\n",
        "## Rendimiento esperado:\n",
        "     1   times  1  =    1\n",
        "     1   times  2  =    2\n",
        "     ...\n",
        "     1   times 10  =   10\n",
        "     ...\n",
        "    10   times 10  =  100  "
      ]
    },
    {
      "cell_type": "code",
      "source": [
        "for x1 in range(1,11,1):\n",
        "  print(\"Tabla de Multiplicar #\",x1)\n",
        "  for n in range(11):\n",
        "    print(x1, \"*\", n, \"=\", x1*n)"
      ],
      "metadata": {
        "colab": {
          "base_uri": "https://localhost:8080/"
        },
        "id": "CKFTSHMuMx4F",
        "outputId": "ae0da968-055f-41e4-fa38-c0e5d5852652"
      },
      "execution_count": 2,
      "outputs": [
        {
          "output_type": "stream",
          "name": "stdout",
          "text": [
            "Tabla de Multiplicar # 1\n",
            "1 * 0 = 0\n",
            "1 * 1 = 1\n",
            "1 * 2 = 2\n",
            "1 * 3 = 3\n",
            "1 * 4 = 4\n",
            "1 * 5 = 5\n",
            "1 * 6 = 6\n",
            "1 * 7 = 7\n",
            "1 * 8 = 8\n",
            "1 * 9 = 9\n",
            "1 * 10 = 10\n",
            "Tabla de Multiplicar # 2\n",
            "2 * 0 = 0\n",
            "2 * 1 = 2\n",
            "2 * 2 = 4\n",
            "2 * 3 = 6\n",
            "2 * 4 = 8\n",
            "2 * 5 = 10\n",
            "2 * 6 = 12\n",
            "2 * 7 = 14\n",
            "2 * 8 = 16\n",
            "2 * 9 = 18\n",
            "2 * 10 = 20\n",
            "Tabla de Multiplicar # 3\n",
            "3 * 0 = 0\n",
            "3 * 1 = 3\n",
            "3 * 2 = 6\n",
            "3 * 3 = 9\n",
            "3 * 4 = 12\n",
            "3 * 5 = 15\n",
            "3 * 6 = 18\n",
            "3 * 7 = 21\n",
            "3 * 8 = 24\n",
            "3 * 9 = 27\n",
            "3 * 10 = 30\n",
            "Tabla de Multiplicar # 4\n",
            "4 * 0 = 0\n",
            "4 * 1 = 4\n",
            "4 * 2 = 8\n",
            "4 * 3 = 12\n",
            "4 * 4 = 16\n",
            "4 * 5 = 20\n",
            "4 * 6 = 24\n",
            "4 * 7 = 28\n",
            "4 * 8 = 32\n",
            "4 * 9 = 36\n",
            "4 * 10 = 40\n",
            "Tabla de Multiplicar # 5\n",
            "5 * 0 = 0\n",
            "5 * 1 = 5\n",
            "5 * 2 = 10\n",
            "5 * 3 = 15\n",
            "5 * 4 = 20\n",
            "5 * 5 = 25\n",
            "5 * 6 = 30\n",
            "5 * 7 = 35\n",
            "5 * 8 = 40\n",
            "5 * 9 = 45\n",
            "5 * 10 = 50\n",
            "Tabla de Multiplicar # 6\n",
            "6 * 0 = 0\n",
            "6 * 1 = 6\n",
            "6 * 2 = 12\n",
            "6 * 3 = 18\n",
            "6 * 4 = 24\n",
            "6 * 5 = 30\n",
            "6 * 6 = 36\n",
            "6 * 7 = 42\n",
            "6 * 8 = 48\n",
            "6 * 9 = 54\n",
            "6 * 10 = 60\n",
            "Tabla de Multiplicar # 7\n",
            "7 * 0 = 0\n",
            "7 * 1 = 7\n",
            "7 * 2 = 14\n",
            "7 * 3 = 21\n",
            "7 * 4 = 28\n",
            "7 * 5 = 35\n",
            "7 * 6 = 42\n",
            "7 * 7 = 49\n",
            "7 * 8 = 56\n",
            "7 * 9 = 63\n",
            "7 * 10 = 70\n",
            "Tabla de Multiplicar # 8\n",
            "8 * 0 = 0\n",
            "8 * 1 = 8\n",
            "8 * 2 = 16\n",
            "8 * 3 = 24\n",
            "8 * 4 = 32\n",
            "8 * 5 = 40\n",
            "8 * 6 = 48\n",
            "8 * 7 = 56\n",
            "8 * 8 = 64\n",
            "8 * 9 = 72\n",
            "8 * 10 = 80\n",
            "Tabla de Multiplicar # 9\n",
            "9 * 0 = 0\n",
            "9 * 1 = 9\n",
            "9 * 2 = 18\n",
            "9 * 3 = 27\n",
            "9 * 4 = 36\n",
            "9 * 5 = 45\n",
            "9 * 6 = 54\n",
            "9 * 7 = 63\n",
            "9 * 8 = 72\n",
            "9 * 9 = 81\n",
            "9 * 10 = 90\n",
            "Tabla de Multiplicar # 10\n",
            "10 * 0 = 0\n",
            "10 * 1 = 10\n",
            "10 * 2 = 20\n",
            "10 * 3 = 30\n",
            "10 * 4 = 40\n",
            "10 * 5 = 50\n",
            "10 * 6 = 60\n",
            "10 * 7 = 70\n",
            "10 * 8 = 80\n",
            "10 * 9 = 90\n",
            "10 * 10 = 100\n"
          ]
        }
      ]
    },
    {
      "cell_type": "markdown",
      "metadata": {
        "id": "GslgyI6JMRBx"
      },
      "source": [
        "## 2 Programe un calendario (para todos los meses) para 2020 usando For-loops\n",
        "## Rendimiento esperado:\n",
        "     January                     \n",
        "     Mon Tue Wed Thu Fri Sat Sun  \n",
        "              1   2   3   4   5\n",
        "      6   7   8   9  10  11  12\n",
        "     13  14  15  16  17  18  19\n",
        "     20  21  22  23  24  25  26\n",
        "     27  28  29  30  31\n",
        "     \n",
        "     February\n",
        "     Mon Tue Wed Thu Fri Sat Sun\n",
        "                           1   2"
      ]
    },
    {
      "cell_type": "code",
      "source": [
        "import calendar\n",
        "\n",
        "Calendario = int(input(\"Año: \"))\n",
        "\n",
        "for x in range(1,13):\n",
        "  print(calendar. month(Calendario,x))"
      ],
      "metadata": {
        "colab": {
          "base_uri": "https://localhost:8080/"
        },
        "id": "kk2_QPe6OY1d",
        "outputId": "996c3508-db4e-4626-d67c-5b666420a777"
      },
      "execution_count": 3,
      "outputs": [
        {
          "output_type": "stream",
          "name": "stdout",
          "text": [
            "Año: 2020\n",
            "    January 2020\n",
            "Mo Tu We Th Fr Sa Su\n",
            "       1  2  3  4  5\n",
            " 6  7  8  9 10 11 12\n",
            "13 14 15 16 17 18 19\n",
            "20 21 22 23 24 25 26\n",
            "27 28 29 30 31\n",
            "\n",
            "   February 2020\n",
            "Mo Tu We Th Fr Sa Su\n",
            "                1  2\n",
            " 3  4  5  6  7  8  9\n",
            "10 11 12 13 14 15 16\n",
            "17 18 19 20 21 22 23\n",
            "24 25 26 27 28 29\n",
            "\n",
            "     March 2020\n",
            "Mo Tu We Th Fr Sa Su\n",
            "                   1\n",
            " 2  3  4  5  6  7  8\n",
            " 9 10 11 12 13 14 15\n",
            "16 17 18 19 20 21 22\n",
            "23 24 25 26 27 28 29\n",
            "30 31\n",
            "\n",
            "     April 2020\n",
            "Mo Tu We Th Fr Sa Su\n",
            "       1  2  3  4  5\n",
            " 6  7  8  9 10 11 12\n",
            "13 14 15 16 17 18 19\n",
            "20 21 22 23 24 25 26\n",
            "27 28 29 30\n",
            "\n",
            "      May 2020\n",
            "Mo Tu We Th Fr Sa Su\n",
            "             1  2  3\n",
            " 4  5  6  7  8  9 10\n",
            "11 12 13 14 15 16 17\n",
            "18 19 20 21 22 23 24\n",
            "25 26 27 28 29 30 31\n",
            "\n",
            "     June 2020\n",
            "Mo Tu We Th Fr Sa Su\n",
            " 1  2  3  4  5  6  7\n",
            " 8  9 10 11 12 13 14\n",
            "15 16 17 18 19 20 21\n",
            "22 23 24 25 26 27 28\n",
            "29 30\n",
            "\n",
            "     July 2020\n",
            "Mo Tu We Th Fr Sa Su\n",
            "       1  2  3  4  5\n",
            " 6  7  8  9 10 11 12\n",
            "13 14 15 16 17 18 19\n",
            "20 21 22 23 24 25 26\n",
            "27 28 29 30 31\n",
            "\n",
            "    August 2020\n",
            "Mo Tu We Th Fr Sa Su\n",
            "                1  2\n",
            " 3  4  5  6  7  8  9\n",
            "10 11 12 13 14 15 16\n",
            "17 18 19 20 21 22 23\n",
            "24 25 26 27 28 29 30\n",
            "31\n",
            "\n",
            "   September 2020\n",
            "Mo Tu We Th Fr Sa Su\n",
            "    1  2  3  4  5  6\n",
            " 7  8  9 10 11 12 13\n",
            "14 15 16 17 18 19 20\n",
            "21 22 23 24 25 26 27\n",
            "28 29 30\n",
            "\n",
            "    October 2020\n",
            "Mo Tu We Th Fr Sa Su\n",
            "          1  2  3  4\n",
            " 5  6  7  8  9 10 11\n",
            "12 13 14 15 16 17 18\n",
            "19 20 21 22 23 24 25\n",
            "26 27 28 29 30 31\n",
            "\n",
            "   November 2020\n",
            "Mo Tu We Th Fr Sa Su\n",
            "                   1\n",
            " 2  3  4  5  6  7  8\n",
            " 9 10 11 12 13 14 15\n",
            "16 17 18 19 20 21 22\n",
            "23 24 25 26 27 28 29\n",
            "30\n",
            "\n",
            "   December 2020\n",
            "Mo Tu We Th Fr Sa Su\n",
            "    1  2  3  4  5  6\n",
            " 7  8  9 10 11 12 13\n",
            "14 15 16 17 18 19 20\n",
            "21 22 23 24 25 26 27\n",
            "28 29 30 31\n",
            "\n"
          ]
        }
      ]
    },
    {
      "cell_type": "markdown",
      "metadata": {
        "id": "CFUhEOK7MRBy"
      },
      "source": [
        "## 3 Programe la siguiente regulación fiscal, usando datos ficticios con declaraciones condicionales, use las tres cláusulas (if, elif, else) al menos una vez\n",
        "Si el valor del paquete es inferior a 20 no tienes que pagar ningún impuesto de importación\n",
        "Si el valor del paquete está entre 20 y 30 pagas 10% de impuesto de importación sobre el valor total\n",
        "Si el valor del paquete está entre 30 y 60, paga un impuesto de importación adicional del 7% sobre el valor superior a 30\n",
        "Si el valor del paquete es superior a 60, paga un impuesto de importación adicional del 3% sobre el valor superior a 60\n",
        "\n",
        "Si el valor del paquete es superior a 10 pagas el 20% de IVA sobre la suma total del valor e impuesto de importación\n",
        "\n",
        "El valor del paquete debe establecerse en una variable y debe probar si su programa funciona para diferentes valores.\n",
        "### Salida esperada (ejemplo):\n",
        "El valor del paquete fue de 25,00, el impuesto de importación es de 2,50, el IVA es de 5,50, el total es de 33,00."
      ]
    },
    {
      "cell_type": "code",
      "source": [
        "val = int(input(\"Ingrese el valor\"))\n",
        "\n",
        "if val > 20 and val < 30:\n",
        "    imp = (((val*10)/100)+val)\n",
        "    tot = val+imp\n",
        "    iva = ((tot*20)/100)\n",
        "    tot1 = round(tot+iva, 2)\n",
        "    \n",
        "    print(\"El valor del paquete es \", val)\n",
        "    print(\"El impuesto de importación es\", imp) \n",
        "    print(\"El IVA es \", iva) \n",
        "    print(\"El total es \", tot1)\n",
        "\n",
        "if val > 30 and val < 60:\n",
        "    imp = (((val*10)/100)+val)\n",
        "    tot = val+imp\n",
        "    iva = ((tot*20)/100)\n",
        "    tot2 = round(tot+iva, 2)\n",
        "    \n",
        "    print(\"El valor del paquete es\", val)\n",
        "    print(\"El impuesto de importación es\", imp) \n",
        "    print(\"El IVA es\", iva) \n",
        "    print(\"El total es\", tot2)\n",
        "\n",
        "elif val > 60:\n",
        "    imp = (((val*10)/100)+val)\n",
        "    tot = val+imp\n",
        "    iva = ((tot*20)/100)\n",
        "    tot3 = round(tot+iva, 2)\n",
        "    \n",
        "    print(\"El valor del paquete es\", val)\n",
        "    print(\"El impuesto de importación es\", imp) \n",
        "    print(\"El IVA es\", iva) \n",
        "    print(\"El total es \", tot3)\n",
        "    \n",
        "\n",
        "else:\n",
        "    result1 = val\n",
        "    imp = 0\n",
        "    tot = val+imp\n",
        "    iva = 0\n",
        "    tot4 = val\n",
        "    \n",
        "    print(\"El valor del paquete es\", val)\n",
        "    print(\"El impuesto de importación es \", imp) \n",
        "    print(\"El IVA es \", iva) \n",
        "    print(\"El total es \", tot4)"
      ],
      "metadata": {
        "colab": {
          "base_uri": "https://localhost:8080/"
        },
        "id": "UBerEPi2bWOf",
        "outputId": "cc69f418-f43a-4270-a5be-022b90362e80"
      },
      "execution_count": 24,
      "outputs": [
        {
          "output_type": "stream",
          "name": "stdout",
          "text": [
            "Ingrese el valor61\n",
            "El valor del paquete es 61\n",
            "El impuesto de importación es 67.1\n",
            "El IVA es 25.62\n",
            "El total es  153.72\n"
          ]
        }
      ]
    },
    {
      "cell_type": "markdown",
      "metadata": {
        "id": "jOEwcYyNMRBz"
      },
      "source": [
        "## 4 Reescribe el siguiente programa reemplazando la declaración condicional con expresiones condicionales"
      ]
    },
    {
      "cell_type": "code",
      "execution_count": 13,
      "metadata": {
        "id": "Yj0xi887MRB6",
        "colab": {
          "base_uri": "https://localhost:8080/"
        },
        "outputId": "b3fc2755-d899-4cf8-a312-c9276a4c2d5c"
      },
      "outputs": [
        {
          "output_type": "stream",
          "name": "stdout",
          "text": [
            "<= 1\n"
          ]
        }
      ],
      "source": [
        "a = -1\n",
        "if a == 0:\n",
        "    result = \"= 0\"\n",
        "elif a>1:\n",
        "    result = \"> 1\"\n",
        "else:\n",
        "    result = \"<= 1\"\n",
        "print(result)    "
      ]
    },
    {
      "cell_type": "code",
      "source": [
        "a = -1\n",
        "result = \"> 1\" if a > 1 else \"<= 1\"\n",
        "print(result)"
      ],
      "metadata": {
        "colab": {
          "base_uri": "https://localhost:8080/"
        },
        "id": "m7OG0EpCP8Ev",
        "outputId": "7efd185d-0a2c-40cf-b81d-6a17db774982"
      },
      "execution_count": 5,
      "outputs": [
        {
          "output_type": "stream",
          "name": "stdout",
          "text": [
            "<= 1\n"
          ]
        }
      ]
    },
    {
      "cell_type": "markdown",
      "metadata": {
        "id": "NoOwve63MRB8"
      },
      "source": [
        "## 5 Reescriba el siguiente programa reemplazando la lista de comprensión con un while-loop"
      ]
    },
    {
      "cell_type": "code",
      "execution_count": 12,
      "metadata": {
        "id": "vxA8Ji9ZMRB9",
        "colab": {
          "base_uri": "https://localhost:8080/"
        },
        "outputId": "574a3604-ca51-49d1-87ac-3769e2b808c3"
      },
      "outputs": [
        {
          "output_type": "stream",
          "name": "stdout",
          "text": [
            "[4, 16]\n"
          ]
        }
      ],
      "source": [
        "list_1 = [1, 2, 3, 4]\n",
        "result  =  [digit ** 2 for digit in list_1 if digit % 2 == 0]\n",
        "print(result)"
      ]
    },
    {
      "cell_type": "code",
      "source": [
        "list_1 = [1, 2, 3, 4]\n",
        "while list_1 :\n",
        "    result  =  [digit ** 2 for digit in list_1 if digit % 2 == 0]\n",
        "    print(result)\n",
        "    break"
      ],
      "metadata": {
        "colab": {
          "base_uri": "https://localhost:8080/"
        },
        "id": "bOQtJDKhQjZP",
        "outputId": "b8991541-3181-4399-a187-19f13654ba69"
      },
      "execution_count": 6,
      "outputs": [
        {
          "output_type": "stream",
          "name": "stdout",
          "text": [
            "[4, 16]\n"
          ]
        }
      ]
    },
    {
      "cell_type": "markdown",
      "metadata": {
        "id": "6VRgMcfrMRB_"
      },
      "source": [
        "## 6 En la clase 1 te mostramos las siguientes afirmaciones:"
      ]
    },
    {
      "cell_type": "code",
      "execution_count": 7,
      "metadata": {
        "id": "3uAgkXloMRCA",
        "outputId": "363b288e-c46d-4a34-c231-4f4404dab955",
        "colab": {
          "base_uri": "https://localhost:8080/"
        }
      },
      "outputs": [
        {
          "output_type": "stream",
          "name": "stdout",
          "text": [
            "True\n",
            "False\n"
          ]
        }
      ],
      "source": [
        "a = 1\n",
        "b = 1\n",
        "print(a is b)\n",
        "\n",
        "a = 1000\n",
        "b = 1000\n",
        "print(a is b)"
      ]
    },
    {
      "cell_type": "markdown",
      "metadata": {
        "id": "AbcWLR0aMRCB"
      },
      "source": [
        "Y, por supuesto, tienes curiosidad por la diferencia. Aprendimos en la clase 1 que los números enteros -5 hasta 255 fueron internados (guardados en disco) cuando comenzó Python, esto significa que los objetos con estos valores ya estaban creados. Ahora deseaamos escribir un programa que nos diga que 256 es de hecho el primer número entero que Python no esta guardado en disco.\n",
        "\n",
        "Escrbimos el siguiente programa y ahora necsitamos explicar por qué este programa imprimirá \"Sorpresa\". ¿No debería romperse mientras se procesa el número entero 256, ya que ese número no está guardado internamente?"
      ]
    },
    {
      "cell_type": "code",
      "execution_count": 15,
      "metadata": {
        "id": "vTqB53-SMRCD",
        "outputId": "8300156d-794c-4bd2-f263-c969547ffb5b",
        "colab": {
          "base_uri": "https://localhost:8080/"
        }
      },
      "outputs": [
        {
          "output_type": "stream",
          "name": "stdout",
          "text": [
            "Surprise\n"
          ]
        }
      ],
      "source": [
        "for x in range(1000):\n",
        "    a = x\n",
        "    b = x\n",
        "    if not (a is b):\n",
        "        print(f\"the highest integer {x-1}\")\n",
        "        break\n",
        "else:\n",
        "    print(\"Surprise\")\n",
        " # Imprime Surprise por que el 256 no esta incluido en los enteros guardados en disco y forma un bucle."
      ]
    },
    {
      "cell_type": "markdown",
      "metadata": {
        "id": "V396tehCMRCF"
      },
      "source": [
        "## 7 Vuelva a escribir la siguiente declaración sin un bucle y solo usando declaraciones condicionales:"
      ]
    },
    {
      "cell_type": "code",
      "execution_count": 11,
      "metadata": {
        "id": "QYDLUzJ3MRCG",
        "colab": {
          "base_uri": "https://localhost:8080/"
        },
        "outputId": "daad091e-f68c-40e2-a337-dfa6b031fa9f"
      },
      "outputs": [
        {
          "output_type": "stream",
          "name": "stdout",
          "text": [
            "1\n",
            "2\n",
            "3\n"
          ]
        }
      ],
      "source": [
        "i = 1\n",
        "while i < 4:\n",
        "    print(i)\n",
        "    i +=1"
      ]
    },
    {
      "cell_type": "code",
      "source": [
        "i = 1\n",
        "while i < 4:\n",
        "    print(i)\n",
        "    print(i+1)\n",
        "    print(i+2)\n",
        "    break\n",
        "\n"
      ],
      "metadata": {
        "colab": {
          "base_uri": "https://localhost:8080/"
        },
        "id": "WBlHO0w3RyCc",
        "outputId": "74b8f6de-2b5b-49d7-812e-cd050b9b53d2"
      },
      "execution_count": 10,
      "outputs": [
        {
          "output_type": "stream",
          "name": "stdout",
          "text": [
            "1\n",
            "2\n",
            "3\n"
          ]
        }
      ]
    }
  ],
  "metadata": {
    "kernelspec": {
      "display_name": "Python 3",
      "language": "python",
      "name": "python3"
    },
    "language_info": {
      "codemirror_mode": {
        "name": "ipython",
        "version": 3
      },
      "file_extension": ".py",
      "mimetype": "text/x-python",
      "name": "python",
      "nbconvert_exporter": "python",
      "pygments_lexer": "ipython3",
      "version": "3.8.5"
    },
    "colab": {
      "name": "clase 2 Guamanarca Didier .ipynb",
      "provenance": []
    }
  },
  "nbformat": 4,
  "nbformat_minor": 0
}