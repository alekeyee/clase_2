{
  "cells": [
    {
      "cell_type": "markdown",
      "source": [
        "Nombre: Stefany Dahari Mendoza Rodriguez"
      ],
      "metadata": {
        "id": "gCsArMB-6-U8"
      }
    },
    {
      "cell_type": "markdown",
      "metadata": {
        "id": "ChCqNidY4VUA"
      },
      "source": [
        "# Clase 2\n",
        "## En la clase 1 discutimos datos, operadores y métodos. Esta semana discutiremos algunas otras habilidades esenciales que le dan el poder de implementar sus ideas con Python:\n",
        "* ### Declaraciones condicionales que permiten controlar el flujo de su programa\n",
        "* ### Bucles que permiten reutilizar instrucciones, sin tener que copiarlas"
      ]
    },
    {
      "cell_type": "markdown",
      "metadata": {
        "id": "XNMtfTPE4VUL"
      },
      "source": [
        "## De ahora en adelante comenzaremos cada lección con un programa de ejemplo. Los programas de ejemplo le mostrarán las nuevas ideas para esa semana.\n",
        "\n",
        "* ### En los cuadernos estos ejemplos se llamarán programas de ejemplo\n",
        "* ### En el programa de ejemplo de esta semana aprenderemos: Cómo leer y escribir archivos\n",
        "  * #### con comandos elementales como open(), close() y write(), mientras lee con un bucle for\n",
        "  * #### Cómo crear, leer y escribir (en) una base de datos, usamos Sqlite para esta tarea. Sqlite es una biblioteca estándar de Python\n",
        "  * #### Hay otras formas de almacenar y recuperar datos, y algunas las veremos en lecciones posteriores, pero ya hacen posible escribir programas serios"
      ]
    },
    {
      "cell_type": "markdown",
      "metadata": {
        "id": "20GOLsd-4VUN"
      },
      "source": [
        "# Literatura para la semana 2\n",
        "* ## La biblioteca random [https://docs.python.org/3/library/random.html](https://docs.python.org/3/library/random.html)\n",
        "* ## Desde [https://docs.python.org/3/tutorial/index.html](https://docs.python.org/3/tutorial/index.html) capítulo 4 hasta 4.5\n",
        "* ## [https://www.w3schools.com/python/python_while_loops.asp](https://www.w3schools.com/python/python_while_loops.asp)\n",
        "* ## [https://www.pythonforbeginners.com/cheatsheet/python-file-handling](https://www.pythonforbeginners.com/cheatsheet/python-file-handling)\n",
        "* ## Sqlite\n",
        "  * ### [https://docs.python.org/3/library/sqlite3.html](https://docs.python.org/3/library/sqlite3.html), hasta 'Ver también'\n",
        "  * ### [https://www.w3schools.com/sql/default.asp](https://www.w3schools.com/sql/default.asp), esta página y mire la columna de la izquierda y estudie las siguientes declaraciones Select, Where, Insert into, Update, Delete, Create DB, Create Table, Drop Table "
      ]
    },
    {
      "cell_type": "markdown",
      "metadata": {
        "id": "DfFr2Fgr4VUO"
      },
      "source": [
        "# Temas para la clase 2\n",
        "* ## Programa de ejemplo: La programación del juego de adivinanzas contiene todos los temas que tratamos esta semana. Dependiendo de lo que funcione mejor para usted, puede estudiar este ejemplo al principio o al final del material de esta semana. Será discutido en un video separado.\n",
        "* ## Declaraciones condicionales\n",
        "  * ### If\n",
        "  * ### else\n",
        "  * ### elif\n",
        "* ## Bucles\n",
        "  * ### For-loops, para iterar sobre una secuencia (por ejemplo, una colección)\n",
        "  * ### while-loops\n",
        "* ## Atajos\n",
        "  * ### Expresiones condicionales, para reemplazar sentencias condicionales\n",
        "  * ### Comprensiones, para reemplazar for-loops"
      ]
    },
    {
      "cell_type": "markdown",
      "metadata": {
        "id": "ZgCbOzPs4VUQ"
      },
      "source": [
        "# Programa de ejemplo: El juego de adivinanzas\n",
        "## Escribiremos un juego que le pida al usuario que adivine un número conocido por la computadora. El programa le dará retroalimentación al usuario, ya sea que el usuario adivinó demasiado, demasiado o exactamente bien. Cuando el usuario acertó, el programa elogia al usuario y se detiene."
      ]
    },
    {
      "cell_type": "code",
      "execution_count": null,
      "metadata": {
        "id": "8vFytBtI4VUR",
        "outputId": "0f9b62d0-a869-4029-f3b7-240b25959ff1"
      },
      "outputs": [
        {
          "name": "stdout",
          "output_type": "stream",
          "text": [
            "Adivina un numero entre 1 y 100040\n"
          ]
        },
        {
          "ename": "TypeError",
          "evalue": "'>' not supported between instances of 'str' and 'int'",
          "output_type": "error",
          "traceback": [
            "\u001b[1;31m---------------------------------------------------------------------------\u001b[0m",
            "\u001b[1;31mTypeError\u001b[0m                                 Traceback (most recent call last)",
            "\u001b[1;32m<ipython-input-1-fbeee3196b94>\u001b[0m in \u001b[0;36m<module>\u001b[1;34m\u001b[0m\n\u001b[0;32m      8\u001b[0m \u001b[0mguesses\u001b[0m \u001b[1;33m+=\u001b[0m \u001b[1;36m1\u001b[0m\u001b[1;33m\u001b[0m\u001b[1;33m\u001b[0m\u001b[0m\n\u001b[0;32m      9\u001b[0m \u001b[1;32mwhile\u001b[0m \u001b[0mguess\u001b[0m \u001b[1;33m!=\u001b[0m \u001b[0mtarget\u001b[0m\u001b[1;33m:\u001b[0m\u001b[1;33m\u001b[0m\u001b[1;33m\u001b[0m\u001b[0m\n\u001b[1;32m---> 10\u001b[1;33m     \u001b[1;32mif\u001b[0m \u001b[0mguess\u001b[0m \u001b[1;33m>\u001b[0m \u001b[0mtarget\u001b[0m\u001b[1;33m:\u001b[0m\u001b[1;33m\u001b[0m\u001b[1;33m\u001b[0m\u001b[0m\n\u001b[0m\u001b[0;32m     11\u001b[0m         \u001b[0mupper_bound\u001b[0m \u001b[1;33m=\u001b[0m \u001b[0mmin\u001b[0m\u001b[1;33m(\u001b[0m\u001b[0mupper_bound\u001b[0m\u001b[1;33m,\u001b[0m \u001b[0mguess\u001b[0m \u001b[1;33m-\u001b[0m \u001b[1;36m1\u001b[0m\u001b[1;33m)\u001b[0m\u001b[1;33m\u001b[0m\u001b[1;33m\u001b[0m\u001b[0m\n\u001b[0;32m     12\u001b[0m         \u001b[0mguess\u001b[0m \u001b[1;33m=\u001b[0m \u001b[0minput\u001b[0m\u001b[1;33m(\u001b[0m\u001b[1;34mf\"Muy alto, por favor intenta otra vez, un numero entre {lower_bound} y {upper_bound}\"\u001b[0m\u001b[1;33m)\u001b[0m\u001b[1;33m\u001b[0m\u001b[1;33m\u001b[0m\u001b[0m\n",
            "\u001b[1;31mTypeError\u001b[0m: '>' not supported between instances of 'str' and 'int'"
          ]
        }
      ],
      "source": [
        "target = 477\n",
        "lower_bound = 1\n",
        "upper_bound = 1000\n",
        "guesses = 0\n",
        "\n",
        "# LA funcion input nos permite dar un numero al codigo que esta siendo ejecutado\n",
        "guess = input(f\"Adivina un numero entre {lower_bound} y {upper_bound}\")\n",
        "guesses += 1\n",
        "while guess != target:\n",
        "    if guess > target:\n",
        "        upper_bound = min(upper_bound, guess - 1)\n",
        "        guess = input(f\"Muy alto, por favor intenta otra vez, un numero entre {lower_bound} y {upper_bound}\")\n",
        "    else:\n",
        "        lower_bound = max(lower_bound, guess + 1)\n",
        "        guess = input(f\"Muy bajo, por favor intenta otra vez, un numero entre  {lower_bound} and {upper_bound}\")\n",
        "    guesses += 1\n",
        "        \n",
        "print(f\"Bien hecho,solo te tomaron {guesses} intentos.\")    "
      ]
    },
    {
      "cell_type": "markdown",
      "metadata": {
        "id": "9rNHbFpG4VUV"
      },
      "source": [
        "### Algo salió mal, al leer el mensaje de error concluiríamos que el objetivo o el intento es una cadena.\n",
        "### Así que ponemos un print statement justo antes de comparar, adivinar y apuntar para ver cuál de los dos es una cadena\n",
        "### Aunque hay algunas formas muy avanzadas de encontrar errores, es bastante común simplemente imprimir valores y tipos"
      ]
    },
    {
      "cell_type": "code",
      "execution_count": null,
      "metadata": {
        "id": "w2lHDDps4VUW",
        "outputId": "5510f286-eff3-467f-a9fc-c20907548714"
      },
      "outputs": [
        {
          "name": "stdout",
          "output_type": "stream",
          "text": [
            "Guess a number between 1 and 100070\n",
            "70 <class 'str'>\n",
            "477 <class 'int'>\n"
          ]
        },
        {
          "ename": "TypeError",
          "evalue": "'>' not supported between instances of 'str' and 'int'",
          "output_type": "error",
          "traceback": [
            "\u001b[1;31m---------------------------------------------------------------------------\u001b[0m",
            "\u001b[1;31mTypeError\u001b[0m                                 Traceback (most recent call last)",
            "\u001b[1;32m<ipython-input-2-6068f82543c9>\u001b[0m in \u001b[0;36m<module>\u001b[1;34m\u001b[0m\n\u001b[0;32m     10\u001b[0m     \u001b[0mprint\u001b[0m\u001b[1;33m(\u001b[0m\u001b[0mguess\u001b[0m\u001b[1;33m,\u001b[0m \u001b[0mtype\u001b[0m\u001b[1;33m(\u001b[0m\u001b[0mguess\u001b[0m\u001b[1;33m)\u001b[0m\u001b[1;33m)\u001b[0m\u001b[1;33m\u001b[0m\u001b[1;33m\u001b[0m\u001b[0m\n\u001b[0;32m     11\u001b[0m     \u001b[0mprint\u001b[0m\u001b[1;33m(\u001b[0m\u001b[0mtarget\u001b[0m\u001b[1;33m,\u001b[0m \u001b[0mtype\u001b[0m\u001b[1;33m(\u001b[0m\u001b[0mtarget\u001b[0m\u001b[1;33m)\u001b[0m\u001b[1;33m)\u001b[0m\u001b[1;33m\u001b[0m\u001b[1;33m\u001b[0m\u001b[0m\n\u001b[1;32m---> 12\u001b[1;33m     \u001b[1;32mif\u001b[0m \u001b[0mguess\u001b[0m \u001b[1;33m>\u001b[0m \u001b[0mtarget\u001b[0m\u001b[1;33m:\u001b[0m\u001b[1;33m\u001b[0m\u001b[1;33m\u001b[0m\u001b[0m\n\u001b[0m\u001b[0;32m     13\u001b[0m         \u001b[0mupper_bound\u001b[0m \u001b[1;33m=\u001b[0m \u001b[0mmin\u001b[0m\u001b[1;33m(\u001b[0m\u001b[0mupper_bound\u001b[0m\u001b[1;33m,\u001b[0m \u001b[0mguess\u001b[0m \u001b[1;33m-\u001b[0m \u001b[1;36m1\u001b[0m\u001b[1;33m)\u001b[0m\u001b[1;33m\u001b[0m\u001b[1;33m\u001b[0m\u001b[0m\n\u001b[0;32m     14\u001b[0m         \u001b[0mguess\u001b[0m \u001b[1;33m=\u001b[0m \u001b[0minput\u001b[0m\u001b[1;33m(\u001b[0m\u001b[1;34mf\"You guessed too high, guess a number between {lower_bound} and {upper_bound}\"\u001b[0m\u001b[1;33m)\u001b[0m\u001b[1;33m\u001b[0m\u001b[1;33m\u001b[0m\u001b[0m\n",
            "\u001b[1;31mTypeError\u001b[0m: '>' not supported between instances of 'str' and 'int'"
          ]
        }
      ],
      "source": [
        "target = 477\n",
        "lower_bound = 1\n",
        "upper_bound = 1000\n",
        "guesses = 0\n",
        "\n",
        "# The input functions puts the parameter on the screen and reguesses what is entered by the user \n",
        "guess = input(f\"Guess a number between {lower_bound} and {upper_bound}\")\n",
        "guesses += 1\n",
        "while guess != target:\n",
        "    print(guess, type(guess))\n",
        "    print(target, type(target))\n",
        "    if guess > target:\n",
        "        upper_bound = min(upper_bound, guess - 1)\n",
        "        guess = input(f\"You guessed too high, guess a number between {lower_bound} and {upper_bound}\")\n",
        "    else:\n",
        "        lower_bound = max(lower_bound, guess + 1)\n",
        "        guess = input(f\"You guessed too low, guess a number between {lower_bound} and {upper_bound}\")\n",
        "    guesses += 1\n",
        "        \n",
        "print(f\"Well done it only took you {guesses} guesses.\")    "
      ]
    },
    {
      "cell_type": "markdown",
      "metadata": {
        "id": "Vz1NuLzC4VUY"
      },
      "source": [
        "### Al parecer el uso de la funcion intut requiere que nuestro objeto sea un entero."
      ]
    },
    {
      "cell_type": "code",
      "execution_count": null,
      "metadata": {
        "id": "uHJ43xXm4VUZ",
        "outputId": "35d18eac-a2e9-422a-c885-0655dbe661f9"
      },
      "outputs": [
        {
          "name": "stdout",
          "output_type": "stream",
          "text": [
            "Guess a number between 1 and 100070\n",
            "You guessed too low, guess a number between 71 and 1000477\n",
            "Well done it only took you 2 guesses.\n"
          ]
        }
      ],
      "source": [
        "target = 477\n",
        "lower_bound = 1\n",
        "upper_bound = 1000\n",
        "guesses = 0\n",
        "\n",
        "# The input functions puts the parameter on the screen and reguesses what is entered by the user \n",
        "guess = int(input(f\"Guess a number between {lower_bound} and {upper_bound}\"))\n",
        "guesses += 1\n",
        "while guess != target:\n",
        "    # We leave the print statements as comments, maybe we need them more often during testing\n",
        "    # As soon as we are 100% sure about our program we delete these debugging statements\n",
        "    # print(guess, type(guess))\n",
        "    # print(target, type(target))\n",
        "\n",
        "    if guess > target:\n",
        "        upper_bound = min(upper_bound, guess - 1)\n",
        "        guess = int(input(f\"You guessed too high, guess a number between {lower_bound} and {upper_bound}\"))\n",
        "    else:\n",
        "        lower_bound= max(lower_bound, guess + 1)\n",
        "        guess = int(input(f\"You guessed too low, guess a number between {lower_bound} and {upper_bound}\"))\n",
        "    guesses += 1\n",
        "    \n",
        "print (f\"Well done it only took you {guesses} guesses.\")    "
      ]
    },
    {
      "cell_type": "markdown",
      "metadata": {
        "id": "Vj4HoaO-4VUa"
      },
      "source": [
        "### Por supuesto, el juego es un poco aburrido si siempre es el mismo número que tienes que adivinar, entonces, ¿qué tal si usas un número aleatorio?\n",
        "### El módulo random debe importarse y luego podemos usarlo para generar un número entero aleatorio"
      ]
    },
    {
      "cell_type": "code",
      "execution_count": null,
      "metadata": {
        "id": "gWPX2PeC4VUa"
      },
      "outputs": [],
      "source": [
        "import random\n",
        "# Vemos el seed the random generator.Al usar esto no importa en donde el numero random sera el mismo siempre\n",
        "\n",
        "random.seed(100)\n",
        "target = random.randint(1, 1000)\n",
        "# Vamos a ayudarnos un poco para no tener que intentar mucho timepo\n",
        "print(target)\n",
        "\n",
        "guesses = 0\n",
        "lower_bound = 1\n",
        "upper_bound = 1000\n",
        "\n",
        " \n",
        "guess = int(input(f\"Guess a number between {lower_bound} and {upper_bound}\"))\n",
        "guesses += 1\n",
        "while guess != target:\n",
        "    # print(guess, type(guess))\n",
        "    # print(target, type(target))\n",
        "\n",
        "    if guess > target:\n",
        "        upper_bound = min(upper_bound, guess - 1)\n",
        "        guess = int(input(f\"You guessed too high, guess a number between {lower_bound} and {upper_bound}\"))\n",
        "    else:\n",
        "        lower_bound= max(lower_bound, guess + 1)\n",
        "        guess = int(input(f\"You guessed too low, guess a number between {lower_bound} and {upper_bound}\"))\n",
        "    guesses += 1\n",
        "\n",
        "print (f\"Well done it only took you {guesses} guesses.\")    "
      ]
    },
    {
      "cell_type": "markdown",
      "metadata": {
        "id": "OEB8p_vA4VUb"
      },
      "source": [
        "###  Sin el random seed"
      ]
    },
    {
      "cell_type": "code",
      "execution_count": null,
      "metadata": {
        "id": "DpmuarZ34VUb"
      },
      "outputs": [],
      "source": [
        "import random\n",
        "\n",
        "# random.seed(100)\n",
        "target = random.randint(1, 1000)\n",
        "\n",
        "print(target)\n",
        "\n",
        "guesses = 0\n",
        "lower_bound = 1\n",
        "upper_bound = 1000\n",
        "\n",
        "\n",
        "guess = int(input(f\"Guess a number between {lower_bound} and {upper_bound}\"))\n",
        "guesses += 1\n",
        "while guess != target:\n",
        "    # print(guess, type(guess))\n",
        "    # print(target, type(target))\n",
        "\n",
        "    if guess > target:\n",
        "        upper_bound = min(upper_bound, guess - 1)\n",
        "        guess = int(input(f\"You guessed too high, guess a number between {lower_bound} and {upper_bound}\"))\n",
        "    else:\n",
        "        lower_bound= max(lower_bound, guess + 1)\n",
        "        guess = int(input(f\"You guessed too low, guess a number between {lower_bound} and {upper_bound}\"))\n",
        "    guesses += 1\n",
        "\n",
        "print (f\"Well done it only took you {guesses} guesses.\")    "
      ]
    },
    {
      "cell_type": "markdown",
      "metadata": {
        "id": "X5ECyaB_4VUc"
      },
      "source": [
        "### Ahora reescribiremos el programa para que un usuario pueda jugar el juego una y otra vez hasta que ingrese -1"
      ]
    },
    {
      "cell_type": "code",
      "execution_count": null,
      "metadata": {
        "id": "MKArQ5zf4VUc"
      },
      "outputs": [],
      "source": [
        "import random\n",
        "guess = 2000\n",
        "while guess != -1:\n",
        "    target = random.randint(1, 1000)\n",
        "    print(target)\n",
        "\n",
        "    guesses = 0\n",
        "    lower_bound = 1\n",
        "    upper_bound = 1000\n",
        "\n",
        "    guess = int(input(f\"Guess a number between {lower_bound} and {upper_bound}\"))\n",
        "    guesses += 1\n",
        "    \n",
        "    while guess != target and guess != -1:\n",
        "         if guess > target:\n",
        "            upper_bound = min(upper_bound, guess - 1)\n",
        "            guess = int(input(f\"You guessed too high, guess a number between {lower_bound} and {upper_bound}\"))\n",
        "        else:\n",
        "            lower_bound= max(lower_bound, guess + 1)\n",
        "            guess = int(input(f\"You guessed too low, guess a number between {lower_bound} and {upper_bound}\"))\n",
        "        guesses += 1\n",
        "    if guess == -1:\n",
        "        break    \n",
        "    print (f\"Well done it only took you {guesses} guesses.\")    \n",
        "\n",
        "print(\"Game ended\")"
      ]
    },
    {
      "cell_type": "markdown",
      "metadata": {
        "id": "jJpJbM4j4VUd"
      },
      "source": [
        "### Última variación, queremos comparar participantes, por lo tanto, sacamos números aleatorios, pero los escribimos en un archivo.\n",
        "### Estos números se utilizarán para todos los participantes, para que podamos compararlos"
      ]
    },
    {
      "cell_type": "code",
      "execution_count": null,
      "metadata": {
        "id": "rDSBEYCy4VUd",
        "outputId": "cf7a40b6-48f1-400f-bc1c-5be8f1056010"
      },
      "outputs": [
        {
          "ename": "TypeError",
          "evalue": "write() argument must be str, not int",
          "output_type": "error",
          "traceback": [
            "\u001b[1;31m---------------------------------------------------------------------------\u001b[0m",
            "\u001b[1;31mTypeError\u001b[0m                                 Traceback (most recent call last)",
            "\u001b[1;32m<ipython-input-4-1cbe31f535bb>\u001b[0m in \u001b[0;36m<module>\u001b[1;34m\u001b[0m\n\u001b[0;32m      4\u001b[0m \u001b[1;32mfor\u001b[0m \u001b[0mi\u001b[0m \u001b[1;32min\u001b[0m \u001b[0mrange\u001b[0m\u001b[1;33m(\u001b[0m\u001b[1;36m5\u001b[0m\u001b[1;33m)\u001b[0m\u001b[1;33m:\u001b[0m\u001b[1;33m\u001b[0m\u001b[1;33m\u001b[0m\u001b[0m\n\u001b[0;32m      5\u001b[0m     \u001b[0mtarget\u001b[0m \u001b[1;33m=\u001b[0m \u001b[0mrandom\u001b[0m\u001b[1;33m.\u001b[0m\u001b[0mrandint\u001b[0m\u001b[1;33m(\u001b[0m\u001b[1;36m1\u001b[0m\u001b[1;33m,\u001b[0m\u001b[1;36m1000\u001b[0m\u001b[1;33m)\u001b[0m\u001b[1;33m\u001b[0m\u001b[1;33m\u001b[0m\u001b[0m\n\u001b[1;32m----> 6\u001b[1;33m     \u001b[0mrandom_numbers\u001b[0m\u001b[1;33m.\u001b[0m\u001b[0mwrite\u001b[0m\u001b[1;33m(\u001b[0m\u001b[0mtarget\u001b[0m\u001b[1;33m)\u001b[0m\u001b[1;33m\u001b[0m\u001b[1;33m\u001b[0m\u001b[0m\n\u001b[0m\u001b[0;32m      7\u001b[0m \u001b[0mrandom_numbers\u001b[0m\u001b[1;33m.\u001b[0m\u001b[0mclose\u001b[0m\u001b[1;33m(\u001b[0m\u001b[1;33m)\u001b[0m\u001b[1;33m\u001b[0m\u001b[1;33m\u001b[0m\u001b[0m\n",
            "\u001b[1;31mTypeError\u001b[0m: write() argument must be str, not int"
          ]
        }
      ],
      "source": [
        "import random\n",
        "random.seed(100)\n",
        "random_numbers= open('random_numbers.txt','w')\n",
        "for i in range(5):\n",
        "    target = random.randint(1,1000)\n",
        "    random_numbers.write(target)\n",
        "random_numbers.close()"
      ]
    },
    {
      "cell_type": "markdown",
      "metadata": {
        "id": "HRIrD07B4VUe"
      },
      "source": [
        "### El metodo write solo puede escribir cadenas(strings)"
      ]
    },
    {
      "cell_type": "code",
      "execution_count": null,
      "metadata": {
        "id": "IJdek8Wk4VUe"
      },
      "outputs": [],
      "source": [
        "import random\n",
        "random.seed(100)\n",
        "random_numbers = open('random_numbers.txt','w')\n",
        "for i in range(0,5):\n",
        "    target = str(random.randint(0,1000)) + \"\\n\"\n",
        "    random_numbers.write(target)"
      ]
    },
    {
      "cell_type": "code",
      "execution_count": null,
      "metadata": {
        "id": "OdwPAtE04VUf",
        "outputId": "6c1cb60b-22c4-486f-fa5b-da7fe698a1cd"
      },
      "outputs": [
        {
          "name": "stdout",
          "output_type": "stream",
          "text": [
            "149\n",
            "Guess a number between 1 and 1000149\n",
            "Well done it only took you 1 guess.\n",
            "470\n",
            "Guess a number between 1 and 1000470\n",
            "Well done it only took you 1 guess.\n",
            "465\n",
            "Guess a number between 1 and 1000465\n",
            "Well done it only took you 1 guess.\n",
            "974\n",
            "Guess a number between 1 and 1000974\n",
            "Well done it only took you 1 guess.\n",
            "789\n",
            "Guess a number between 1 and 1000789\n",
            "Well done it only took you 1 guess.\n",
            "Game ended, you played 5 rounds and it took you in total 5 guesses\n"
          ]
        }
      ],
      "source": [
        "random_numbers = open('random_numbers.txt','r')\n",
        "rounds = 0\n",
        "total_guesses = 0\n",
        "for target in random_numbers:\n",
        "    target = int(target)\n",
        "    print(target)\n",
        "\n",
        "    guesses = 0\n",
        "    lower_bound = 1\n",
        "    upper_bound = 1000\n",
        "\n",
        "    guess = int(input(f\"Guess a number between {lower_bound} and {upper_bound}\"))\n",
        "    guesses += 1\n",
        "    \n",
        "    while guess != target and guess != -1:\n",
        "        if guess > target:\n",
        "            upper_bound = min(upper_bound, guess - 1)\n",
        "            guess = int(input(f\"You guessed too high, guess a number between {lower_bound} and {upper_bound}\"))\n",
        "        else:\n",
        "            lower_bound= max(lower_bound, guess + 1)\n",
        "            guess = int(input(f\"You guessed too low, guess a number between {lower_bound} and {upper_bound}\"))\n",
        "        guesses += 1\n",
        "    if guess == -1:\n",
        "        break\n",
        "    print (f\"Well done it only took you {guesses} {'guesses' if guesses > 1 else 'guess'}.\")\n",
        "    \n",
        "    total_guesses += guesses\n",
        "    rounds += 1\n",
        "print(f\"Game ended, you played {rounds} {'rounds' if rounds > 1 else 'round'} and it took you in total {total_guesses} {'guesses' if total_guesses > 1 else 'guess'}\")\n",
        "# result = 'rounds' if rounds > 1 else 'round' is a shortcut for\n",
        "# if rounds > 1:\n",
        "#     result = 'rounds'\n",
        "# else:\n",
        "#     result = 'round'\n",
        "      \n",
        "random_numbers.close()                             "
      ]
    },
    {
      "cell_type": "markdown",
      "metadata": {
        "id": "W31EC35F4VUf"
      },
      "source": [
        "### Podemos usar sqlite database"
      ]
    },
    {
      "cell_type": "code",
      "execution_count": null,
      "metadata": {
        "id": "GIpvd21W4VUg",
        "outputId": "c6b0a1c3-d850-4981-8a66-e153bf1cd5d1"
      },
      "outputs": [
        {
          "name": "stdout",
          "output_type": "stream",
          "text": [
            "[('1', '149'), ('2', '470'), ('3', '465'), ('4', '974'), ('5', '789')]\n"
          ]
        }
      ],
      "source": [
        "import random\n",
        "random.seed(100)\n",
        "\n",
        "# Here we use a so-called list comprehension, this is a short cut for a for loop in the cell below I will show you\n",
        "# what the for loop would look like that is replaced by the list comprehension\n",
        "random_numbers = [(str(index + 1), str(random.randint(0,1000))) for index in range(5)]\n",
        "print(random_numbers)\n",
        "# This is a short-cut for\n",
        "# random_numbers=[]\n",
        "# for index in range(5):\n",
        "#     random_numbers.append((str(index + 1), str(random.randint(0,1000))))\n",
        "# print(random_numbers)\n",
        "\n",
        "# To use a sqlite3 database you need to import the sqlite3 package\n",
        "import sqlite3\n",
        "\n",
        "# You have to make a connection to the database\n",
        "connection = sqlite3.connect('random numbers.db')\n",
        "\n",
        "# You have to create a cursor object, while with text files you only needed to muse an open function, here you need two functions\n",
        "# the connect function and the cursor function\n",
        "cursor = connection.cursor()\n",
        "\n",
        "# Delete table, I always do this. First I delete the table if it exists and only then I create a table. Creating a table\n",
        "# that already exists always gives errors. In this way avoid that\n",
        "cursor.execute('DROP TABLE IF EXISTS numbers')\n",
        "\n",
        "# Create table, you always have to create tables. While we just could store data in the txt file, you cannot do that \n",
        "# with a database. The data has to be stored in tables inside the database\n",
        "cursor.execute('CREATE TABLE numbers (index_number text, number text)')\n",
        "\n",
        "# fill table with values, the executemany function executes the same statement for all the tuples in the random_numbers list. \n",
        "# The elements inside the tuple replace the question marks\n",
        "cursor.executemany('INSERT INTO numbers VALUES (?, ?)', random_numbers)\n",
        "# This is a short-cut for\n",
        "# for random_number in random_numbers:\n",
        "#     cursor.execute(f'INSERT INTO numbers VALUES ({random_number[0]}, {random_number[1]})')\n",
        "\n",
        "# Save (commit) the changes\n",
        "connection.commit()\n",
        "# Just be sure any changes have been committed or they will be lost.\n",
        "\n",
        "# We can also close the connection if we are done with it.\n",
        "connection.close()"
      ]
    },
    {
      "cell_type": "code",
      "execution_count": null,
      "metadata": {
        "id": "VKYo_WwU4VUi",
        "outputId": "f2f1c630-e8ab-4385-bda2-226cbb3c4e69"
      },
      "outputs": [
        {
          "name": "stdout",
          "output_type": "stream",
          "text": [
            "[('1', '149'), ('2', '470'), ('3', '465'), ('4', '974'), ('5', '789')]\n",
            "[149, 470, 465, 974, 789]\n",
            "149\n",
            "Guess a number between 1 and 1000-1\n",
            "Game ended, you played 0 rounds and it took you in total 0 guesses\n"
          ]
        }
      ],
      "source": [
        "import sqlite3\n",
        "# Make connection\n",
        "#connection = sqlite3.connect(\":memory:\")\n",
        "connection = sqlite3.connect('random numbers.db')\n",
        "# create cursor\n",
        "cursor = connection.cursor()\n",
        "# read table\n",
        "cursor.execute(\"SELECT * FROM numbers\")\n",
        "# Put result in table\n",
        "rows = cursor.fetchall()\n",
        "print (rows)\n",
        "random_numbers = [int(row[1]) for row in rows]\n",
        "print (random_numbers)\n",
        "\n",
        "# We can also close the connection if we are done with it.\n",
        "# Just be sure any changes have been committed or they will be lost.\n",
        "connection.close()\n",
        "\n",
        "rounds = 0\n",
        "total_guesses = 0\n",
        "for target in random_numbers:\n",
        "    target = int(target)\n",
        "    print(target)\n",
        "\n",
        "    guesses = 0\n",
        "    lower_bound = 1\n",
        "    upper_bound = 1000\n",
        "\n",
        "    guess = int(input(f\"Guess a number between {lower_bound} and {upper_bound}\"))\n",
        "    guesses += 1\n",
        "    \n",
        "    while guess != target and guess != -1:\n",
        "        if guess > target:\n",
        "            upper_bound = min(upper_bound, guess - 1)\n",
        "            guess = int(input(f\"You guessed too high, guess a number between {lower_bound} and {upper_bound}\"))\n",
        "        else:\n",
        "            lower_bound= max(lower_bound, guess + 1)\n",
        "            guess = int(input(f\"You guessed too low, guess a number between {lower_bound} and {upper_bound}\"))\n",
        "        guesses += 1\n",
        "    if guess == -1:\n",
        "        break\n",
        "    print (f\"Well done it only took you {guesses} {'guesses' if guesses > 1 else 'guess'}.\")\n",
        "    \n",
        "    total_guesses += guesses\n",
        "    rounds += 1\n",
        "print(f\"Game ended, you played {rounds} rounds and it took you in total {total_guesses} guesses\")\n"
      ]
    },
    {
      "cell_type": "markdown",
      "metadata": {
        "id": "XEFYvV1H4VUj"
      },
      "source": [
        "### Usar una base de datos para almacenar 5 enteros es una exageración, pero si tiene más datos y los datos están relacionados, las bases de datos son una excelente manera. Por ejemplo, un banco podría tener una tabla de clientes y una tabla con cuentas, y como hay una relación entre clientes y cuentas, usar una base de datos es una buena idea."
      ]
    },
    {
      "cell_type": "markdown",
      "metadata": {
        "id": "qvzrJN-E4VUj"
      },
      "source": [
        "# ¿Qué son los condicionales y qué son los bucles?\n",
        "* ## Los condicionales, dirige el orden de ejecución de los codigos en tu programa. Básicamente, hace que la ejecución de un bloque de código sea condicional, y usted le dice a Python a través de su programa bajo qué condiciones debe ejecutar ese bloque de código.\n",
        "* ## Bucles, repite un bloque de código (un conjunto de instrucciones) una y otra vez hasta que se cumpla una determinada condición, y le dices a Python a través de tu programa cuál es esta condición\n",
        "* ## For-loop, la condición es implícita, básicamente le dices al programa que repita un bloque de código siempre que una secuencia produzca (genere) elementos, y le dices al programa qué secuencia usar\n",
        " \n",
        "* ## while-loop, repite un bloque de código siempre que se cumpla una determinada condición, y le dices a Python a través de tu programa cuál es esta condición"
      ]
    },
    {
      "cell_type": "markdown",
      "metadata": {
        "id": "hbaHTIBL4VUk"
      },
      "source": [
        "# Conditionales "
      ]
    },
    {
      "cell_type": "markdown",
      "metadata": {
        "id": "eS6A1Cve4VUk"
      },
      "source": [
        "## If clause     "
      ]
    },
    {
      "cell_type": "markdown",
      "metadata": {
        "id": "KF397ATS4VUk"
      },
      "source": [
        "### Sintaxis\n",
        "```python\n",
        "if <condicion>:\n",
        "    <statement-1>  # En los bloques de código de Python, las declaraciones if tienen que indentados(sangria)\n",
        "    <statement-2>  # Las declaraciones que se ejecutarán secuencialmente deben indentarse exactamente de la misma manera\n",
        "    ...            # Aunque a Python no le importa, es una buena práctica indentar siempre en múltiplos de 4 espacios\n",
        "                   # El uso de tab no es normalmente utilizado , es considerado como un mal uso pero funciona de todas formas\n",
        "                   # En resumen, siempre vaya a la siguiente línea y tome 4 espacios después de dos puntos en una declaración\n",
        "```\n",
        "### Sintaxis Alternativo\n",
        "```python\n",
        "if <condicion>: <statement-1>; <statement-2>; ... \n",
        "```"
      ]
    },
    {
      "cell_type": "code",
      "execution_count": null,
      "metadata": {
        "id": "XVSFeN8t4VUk",
        "outputId": "edca8358-3616-4cf1-cbf2-21a035916c9d"
      },
      "outputs": [
        {
          "name": "stdout",
          "output_type": "stream",
          "text": [
            "integer_1 is greater than 1\n"
          ]
        }
      ],
      "source": [
        "integer_1 = 2\n",
        "if integer_1 > 1:\n",
        "    print(\"integer_1 is greater than 1\")"
      ]
    },
    {
      "cell_type": "code",
      "execution_count": null,
      "metadata": {
        "id": "6QjREvAH4VUl",
        "outputId": "3f880a14-4e1c-4ef5-914a-42e7993e3735"
      },
      "outputs": [
        {
          "name": "stdout",
          "output_type": "stream",
          "text": [
            "integer_1 is greater than 1\n"
          ]
        }
      ],
      "source": [
        "integer_1 = 2\n",
        "if integer_1 > 1:print(\"integer_1 is greater than 1\")"
      ]
    },
    {
      "cell_type": "markdown",
      "metadata": {
        "id": "_dEDcZiT4VUl"
      },
      "source": [
        "### Else condicional"
      ]
    },
    {
      "cell_type": "markdown",
      "metadata": {
        "id": "xveIRqxx4VUm"
      },
      "source": [
        "#### Sintaxis\n",
        "```python\n",
        "if <condicion>:\n",
        "    <statement-1>\n",
        "    <statement-2>\n",
        "    ...\n",
        "else:     #Solo se ejecuta este codigo si es que lo de arriba es falso\n",
        "    <statement-3>\n",
        "    <statement-4>\n",
        "    ...\n",
        "    \n",
        "(Lazy evaluation significa que Python solo ejecuta declaraciones cuando es necesario. Por lo tanto, puede encontrar un error en una parte de un programa después de años, ya que esa parte del programa nunca se ejecutó antes y, por lo tanto, nunca se encontró el error)\n",
        "    \n",
        "```\n",
        "####  Sintaxis Alternativo\n",
        "```python\n",
        "if <condition>: <statement-1>; <statement-2>; ... \n",
        "else: <statement-1>; <statement-2>; ... \n",
        "```"
      ]
    },
    {
      "cell_type": "code",
      "execution_count": null,
      "metadata": {
        "id": "_KhEQCtz4VUn"
      },
      "outputs": [],
      "source": [
        "integer_1 = 2\n",
        "if integer_1 > 1:\n",
        "    print(\"integer_1 is greater than 1\")\n",
        "else:\n",
        "    print(\"integer_1 is not greater than 1\")"
      ]
    },
    {
      "cell_type": "code",
      "execution_count": null,
      "metadata": {
        "id": "aHzIPabV4VUn"
      },
      "outputs": [],
      "source": [
        "integer_1 = 0\n",
        "if integer_1 > 1:\n",
        "    print(\"integer_1 is greater than 1\")\n",
        "else:\n",
        "    print(\"integer_1 is not greater than 1\")"
      ]
    },
    {
      "cell_type": "markdown",
      "metadata": {
        "id": "kYHRWGWY4VUo"
      },
      "source": [
        "### Elif condicional"
      ]
    },
    {
      "cell_type": "markdown",
      "metadata": {
        "id": "HZ6nMi7i4VUo"
      },
      "source": [
        "#### Sintaxis\n",
        "```python\n",
        "if <condicion-1>:\n",
        "    <statement-1>\n",
        "    <statement-2>\n",
        "    ...\n",
        "elif <condition-2>:  # Solo se llega a un elif si todas las demas condiciones han sido falsas\n",
        "    <statement-3>\n",
        "    <statement-4>\n",
        "    ...\n",
        "elif <condition-3>:\n",
        "    <statement-5>\n",
        "    <statement-6>\n",
        "    ...\n",
        "...\n",
        "else:                # SOlo se llega a la clasuala else si es que todas las condiciones son falsas\n",
        "    <statement-7>    \n",
        "    <statement-8>\n",
        "    ...\n",
        "```\n"
      ]
    },
    {
      "cell_type": "markdown",
      "metadata": {
        "id": "cljVvlSA4VUp"
      },
      "source": [
        "#### Ejemplos"
      ]
    },
    {
      "cell_type": "code",
      "execution_count": null,
      "metadata": {
        "id": "9NdoPO5p4VUp",
        "outputId": "1184e6cb-b25e-4865-903a-87a953663b1f"
      },
      "outputs": [
        {
          "name": "stdout",
          "output_type": "stream",
          "text": [
            "La edad no es 60 ni 61\n"
          ]
        }
      ],
      "source": [
        "age = 59\n",
        "if age == 60:\n",
        "    print(\"Edad es 60\")\n",
        "elif age == 61:\n",
        "    print (\"Edad es 61\")\n",
        "else:\n",
        "    print (\"La edad no es 60 ni 61\")"
      ]
    },
    {
      "cell_type": "code",
      "execution_count": null,
      "metadata": {
        "id": "ogPXHNH74VUq"
      },
      "outputs": [],
      "source": [
        "integer_1 = 0\n",
        "if integer_1 == 0:\n",
        "    print(\"integer_1 es igual a 0\")\n",
        "elif integer_1 > 1:\n",
        "    print(\"integer_1 es mayor que 1\")\n",
        "else:\n",
        "    print(\"integer_1 no es mayor que 1\")"
      ]
    },
    {
      "cell_type": "markdown",
      "metadata": {
        "id": "xYW4haWV4VUr"
      },
      "source": [
        "## bucles For-loop\n",
        "### Los bucles for-loop iteran sobre una secuencia\n",
        "#### Una secuencia puede ser una cadena, una colección (como una lista, una tupla, un diccionario, un conjunto) o un objeto especial (como un objeto de rango, un objeto de enumeración, un objeto zip)\n",
        "#### La diferencia entre las colecciones (y cadenas) y los últimos objetos especiales mencionados es que las colecciones (y cadenas) son secuencias que están completamente almacenadas en la memoria de la computadora. Los objetos range, enumerate y zip son objetos especiales que liberan un valor uno por uno. El almacenamiento que toman estos objetos lo toma una función que genera la secuencia y un estado que describe lo que estaba haciendo el objeto especial en el momento en que entregó un valor.\n",
        "#### Una función normal genera un valor (por ejemplo, una lista) y después de esa generación, toda la función desaparece de la memoria de la computadora. Si se vuelve a llamar es como si se llamara a la función por primera vez\n",
        "#### Un objeto generador permanece en la memoria, como una computadora en hibernación. Si una computadora está en hibernación, simplemente comienza de nuevo donde se quedó, un objeto generador también sabe exactamente dónde estaba cuando se lo vuelve a llamar.\n",
        "#### La ventaja es que solo tiene que almacenar la función que produce los valores y no toda la lista resultante. Esto puede ahorrar mucho espacio en la memoria.\n",
        "#### Técnicamente, esto se hace mediante la declaración de rendimiento. La próxima semana discutiremos las funciones y le mostraremos cómo usar la declaración de rendimiento usted mismo."
      ]
    },
    {
      "cell_type": "markdown",
      "metadata": {
        "id": "VDwks89u4VUw"
      },
      "source": [
        "#### Sinataxis\n",
        "```python\n",
        "for <name> in <string|list|tuple|set|dictionary|range object|enumerate object|zip object>:\n",
        "    <statement-1>\n",
        "    <statement-2>\n",
        "    ...\n",
        "else:                # condicional else es opcionl     \n",
        "    <statement-3>    # Todos estos statements son ejecutados a menos que haya un break o ser termine el bucle\n",
        "    <statement-4>    \n",
        "    ...\n",
        "<|> : Significa or \n",
        "<statement-1> and <statement-2> pueden ser <break> or <continue>\n",
        "<break> para el bucle and el programa se ejcuta una sola vez\n",
        "<continue> para las iteraciones y ejecuta la siguiente iteracion y se acaba\n",
        "```"
      ]
    },
    {
      "cell_type": "markdown",
      "metadata": {
        "id": "MHIJeCcn4VUw"
      },
      "source": [
        "### For-loop iterando sobre una cadena o string"
      ]
    },
    {
      "cell_type": "code",
      "execution_count": null,
      "metadata": {
        "id": "wl15OW2B4VUw"
      },
      "outputs": [],
      "source": [
        "string_1 = 'abcd'\n",
        "\n",
        "for character in string_1:\n",
        "    if character == 'e':\n",
        "        print('Found it')\n",
        "        break\n",
        "else:\n",
        "    print(\"Didn\\'t find it\")\n",
        "\n",
        "print(\"Ready\")    "
      ]
    },
    {
      "cell_type": "code",
      "execution_count": null,
      "metadata": {
        "id": "3K1dH4014VUx"
      },
      "outputs": [],
      "source": [
        "string_1  =  'abcd'\n",
        "for character in string_1:\n",
        "    if character  ==  'b':\n",
        "        print('Found it')\n",
        "        break\n",
        "else:\n",
        "    print('Didn\\'t find it')\n",
        "print('Ready')    "
      ]
    },
    {
      "cell_type": "code",
      "execution_count": null,
      "metadata": {
        "id": "bLZdL-6c4VUx"
      },
      "outputs": [],
      "source": [
        "string_1  =  'abcd'\n",
        "for character in string_1:\n",
        "    if character  ==  'e':\n",
        "        print('Found it')\n",
        "        break\n",
        "else:\n",
        "    print('Didn\\'t find it')\n",
        "print('Ready')    "
      ]
    },
    {
      "cell_type": "markdown",
      "metadata": {
        "id": "ukJ1ABJF4VUy"
      },
      "source": [
        "#### For-loop iterando sobre un contenedor (lista, tupla, conjunto, diccionario)\n",
        "#### Tenga en cuenta que iterar sobre un diccionario puede ser un poco confuso:\n",
        "* #### Si solo iteras sobre el diccionario, en realidad iteras sobre las keys\n",
        "* #### Si desea iterar sobre los valores del diccionario, debe usar el método de values()\n",
        "* #### Si desea iterar sobre los elementos del diccionario (las combinaciones de key y valor), debe usar el método items()"
      ]
    },
    {
      "cell_type": "code",
      "execution_count": null,
      "metadata": {
        "id": "MAwcBOOD4VUy"
      },
      "outputs": [],
      "source": [
        "list_1  =  ['a', 'b', 'c', 'd']\n",
        "for character in list_1:\n",
        "    if character  ==  'b':\n",
        "        print('Found it')\n",
        "        break\n",
        "else:\n",
        "    print('Didn\\'t find it')\n",
        "print('ready')    "
      ]
    },
    {
      "cell_type": "code",
      "execution_count": null,
      "metadata": {
        "id": "po1pVq5H4VUz"
      },
      "outputs": [],
      "source": [
        "tuple_1  =  'a', 'b', 'c', 'd'\n",
        "for character in tuple_1:\n",
        "    if character  ==  'e':\n",
        "        print('Found it')\n",
        "        break\n",
        "else:\n",
        "    print('Didn\\'t find it')\n",
        "print('ready')    "
      ]
    },
    {
      "cell_type": "code",
      "execution_count": null,
      "metadata": {
        "id": "jGbKzT9v4VUz"
      },
      "outputs": [],
      "source": [
        "set_1  =  {'a', 'b', 'c', 'd'}\n",
        "for character in set_1:\n",
        "    if character  ==  'a':\n",
        "        print('Found it')\n",
        "        break\n",
        "else:\n",
        "    print('Didn\\'t find it')\n",
        "print('ready')    "
      ]
    },
    {
      "cell_type": "code",
      "execution_count": null,
      "metadata": {
        "id": "qEPJEDJZ4VUz"
      },
      "outputs": [],
      "source": [
        "dictionary_1  =  {1:'a', 2:'b', 3:'c', 4:'d'}\n",
        "for character in dictionary_1:\n",
        "    if character  ==  1:\n",
        "        print('Found it')\n",
        "        break\n",
        "else:\n",
        "    print('dictionary_1idn\\'t find it')\n",
        "print('ready')"
      ]
    },
    {
      "cell_type": "code",
      "execution_count": null,
      "metadata": {
        "id": "cUXOFbsz4VU0"
      },
      "outputs": [],
      "source": [
        "dictionary_1  =  {1:'a', 2:'b', 3:'c', 4:'d'}\n",
        "for character in dictionary_1.keys():\n",
        "    if character  ==  1:\n",
        "        print('Found it')\n",
        "        break\n",
        "else:\n",
        "    print('dictionary_1idn\\'t find it')\n",
        "print('ready')"
      ]
    },
    {
      "cell_type": "code",
      "execution_count": null,
      "metadata": {
        "id": "e_eXq1CJ4VU0"
      },
      "outputs": [],
      "source": [
        "dictionary_1  =  {1:'a', 2:'b', 3:'c', 4:'d'}\n",
        "for character in dictionary_1.values():\n",
        "    if character  ==  'e':\n",
        "        print('Found it')\n",
        "        break\n",
        "else:\n",
        "    print('dictionary_1idn\\'t find it')\n",
        "print('ready')"
      ]
    },
    {
      "cell_type": "code",
      "execution_count": null,
      "metadata": {
        "id": "NBKzPWQM4VU1"
      },
      "outputs": [],
      "source": [
        "dictionary_1  =  {1:'a', 2:'b', 3:'c', 4:'d'}\n",
        "for key, character in dictionary_1.items():\n",
        "    if character  ==  'b':\n",
        "        print(f'Found it, character {character} has key {key}')\n",
        "        break\n",
        "else:\n",
        "    print('dictionary_1idn\\'t find it')\n",
        "print('ready')"
      ]
    },
    {
      "cell_type": "markdown",
      "metadata": {
        "id": "Zbf8PGzr4VU1"
      },
      "source": [
        "### For loop iterando sobre un rango"
      ]
    },
    {
      "cell_type": "markdown",
      "metadata": {
        "id": "YvuAfaXE4VU1"
      },
      "source": [
        "#### ¿Qué es un rango?\n",
        "#### Puede comparar un rango con una porción de una lista, como puede ver en los siguientes ejemplos. La diferencia es que una porción de una lista se almacenará completa como un nuevo objeto de lista en la memoria de la computadora, mientras que un objeto de rango no almacena todos los valores a la vez en la memoria, pero cada vez que se usa entregará el siguiente valor."
      ]
    },
    {
      "cell_type": "markdown",
      "metadata": {
        "id": "Hk7jbKgm4VU2"
      },
      "source": [
        "#### Sintaxis\n",
        "```python\n",
        "for <variable> in range(<start><end><step>):\n",
        "    <statement-1>\n",
        "    <statement-2>\n",
        "    ...\n",
        "else:                    \n",
        "    <statement-3>    \n",
        "    <statement-3>    \n",
        "    ...\n",
        "<start><end><step> funciona exactamente como recortar una cadena o una lista, etc, asi que si quieres revisa otra vez y acuerdate que el valor final no esta incluido. Hay los mismos datos par <empezar> y <step>. Por default el inicio es 0, para step es 1.para el final no hay default asi que un obheto range necesita al menos un valor\n",
        "\n",
        "```"
      ]
    },
    {
      "cell_type": "code",
      "execution_count": null,
      "metadata": {
        "id": "HIcq-0Iz4VU2"
      },
      "outputs": [],
      "source": [
        "range_1 = range(2, 8, 2) \n",
        "print(type(range_1), range_1)"
      ]
    },
    {
      "cell_type": "code",
      "execution_count": null,
      "metadata": {
        "id": "McdTGP0T4VU3"
      },
      "outputs": [],
      "source": [
        "print(list(range_1))"
      ]
    },
    {
      "cell_type": "code",
      "execution_count": null,
      "metadata": {
        "id": "ob44hOfY4VU3"
      },
      "outputs": [],
      "source": [
        "list_1 = [0, 1, 2, 3, 4, 5, 6, 7, 8, 9, 10]\n",
        "print(list(range(2, 8, 2)) == list_1[2:8:2])"
      ]
    },
    {
      "cell_type": "code",
      "execution_count": null,
      "metadata": {
        "id": "C_UIP7VP4VU3"
      },
      "outputs": [],
      "source": [
        "print(list(range(2, 4, 2)) == [0, 1, 2, 3, 4, 5, 6, 7, 8, 9, 10][2:4:2])"
      ]
    },
    {
      "cell_type": "markdown",
      "metadata": {
        "id": "nyS5UjqH4VU4"
      },
      "source": [
        "#### Puede usar la iteración en un rango si sabe exactamente cuántas veces desea ejecutar el bloque de codificación"
      ]
    },
    {
      "cell_type": "markdown",
      "metadata": {
        "id": "bnkIYKtH4VU4"
      },
      "source": [
        "#### Ejemplo-1: puede usar un _ si no necesita el valor\n",
        "#### NB esto es una convención. En Python, se supone que no debe usar nombres que comiencen con uno _, sin embargo, puede hacerlo."
      ]
    },
    {
      "cell_type": "code",
      "execution_count": null,
      "metadata": {
        "id": "BrT_ATAu4VU5",
        "outputId": "d4c65350-af17-461d-d4a5-312e49407d3b"
      },
      "outputs": [
        {
          "name": "stdout",
          "output_type": "stream",
          "text": [
            "1\n",
            "1\n",
            "1\n",
            "1\n",
            "1\n"
          ]
        }
      ],
      "source": [
        "# Es Pythonic y se ve avanzado pero es muy simple :)\n",
        "for _ in range(5): \n",
        "    print(1)"
      ]
    },
    {
      "cell_type": "code",
      "execution_count": null,
      "metadata": {
        "id": "vKQgoPz24VU5",
        "outputId": "3dabcb7f-b2bc-4cb0-ff13-89f4338e2c71"
      },
      "outputs": [
        {
          "name": "stdout",
          "output_type": "stream",
          "text": [
            "0\n",
            "1\n",
            "2\n",
            "3\n",
            "4\n"
          ]
        }
      ],
      "source": [
        "# No tan Pythonic pero funciona \n",
        "for _ in range(5): \n",
        "    print(_)"
      ]
    },
    {
      "cell_type": "markdown",
      "metadata": {
        "id": "9xUMvpIp4VU6"
      },
      "source": [
        "#### Ejemplo-2: usar un nombre que debe ser guardado"
      ]
    },
    {
      "cell_type": "code",
      "execution_count": null,
      "metadata": {
        "id": "42xpGaWe4VU6"
      },
      "outputs": [],
      "source": [
        "sum_of_integers = 0\n",
        "for i in range(5):\n",
        "    sum_of_integers += i**2\n",
        "print(sum_of_integers)"
      ]
    },
    {
      "cell_type": "markdown",
      "metadata": {
        "id": "gBFqcXrQ4VU7"
      },
      "source": [
        "### For-loop iterando sobre un objeto enumerado\n",
        "#### Un objeto de enumeración crea un índice para los elementos en una secuencia\n",
        "#### Algunas secuencias como conjuntos y diccionarios no tienen un índice numérico pero desea usar un índice\n",
        "#### A veces desea comenzar el índice con un número diferente, p. 1\n",
        "#### El objeto de enumeración necesita dos parámetros, una secuencia y un índice inicial, cuyo valor predeterminado es 0"
      ]
    },
    {
      "cell_type": "code",
      "execution_count": null,
      "metadata": {
        "scrolled": true,
        "id": "p95I53u54VU7"
      },
      "outputs": [],
      "source": [
        "for index, digit in enumerate([1, 2, 3, 2]) :\n",
        "    print(f\"index is {index}, digit is {digit}\")"
      ]
    },
    {
      "cell_type": "code",
      "execution_count": null,
      "metadata": {
        "scrolled": true,
        "id": "RrNCmllb4VU8"
      },
      "outputs": [],
      "source": [
        "for index, digit in enumerate((1, 2, 3, 2), 1):\n",
        "    print(f\"index is {index}, digit is {digit}\")"
      ]
    },
    {
      "cell_type": "code",
      "execution_count": null,
      "metadata": {
        "scrolled": true,
        "id": "Glk215xm4VU8"
      },
      "outputs": [],
      "source": [
        "for index, digit in enumerate({1, 2, 3, 2}, 2):\n",
        "    print(f\"index is {index}, digit is {digit}\")"
      ]
    },
    {
      "cell_type": "code",
      "execution_count": null,
      "metadata": {
        "scrolled": true,
        "id": "CJqZNBRN4VU9"
      },
      "outputs": [],
      "source": [
        "for index, letter in enumerate('abcde', 3):\n",
        "    print(f\"index is {index}, letter is {letter}\")"
      ]
    },
    {
      "cell_type": "markdown",
      "metadata": {
        "id": "Jvti05uz4VU9"
      },
      "source": [
        "### For-loop iterando sobre un objeto zip \n",
        "#### Un objeto tiene dos o mas objetos juntos"
      ]
    },
    {
      "cell_type": "code",
      "execution_count": null,
      "metadata": {
        "scrolled": true,
        "id": "i_HzWTDm4VU-"
      },
      "outputs": [],
      "source": [
        "for digit,  letter in zip([1, 2, 3], ['a', 'b', 'c']) :\n",
        "    print(f\"digit is {digit},  letter is {letter}\")"
      ]
    },
    {
      "cell_type": "markdown",
      "metadata": {
        "id": "f90PEkx64VU-"
      },
      "source": [
        "#### Entonces puede comprimir dos listas juntas, pero en realidad puede comprimir todo tipo de secuencias juntas. Tenga en cuenta que si una de las secuencias es un diccionario, comprima las claves y no los valores"
      ]
    },
    {
      "cell_type": "code",
      "execution_count": null,
      "metadata": {
        "scrolled": true,
        "id": "gF6IL6TZ4VU-"
      },
      "outputs": [],
      "source": [
        "digits_and_letters = zip([1, 2, 3], ['a', 'b', 'c'])\n",
        "print(digits_and_letters)\n",
        "print(list(digits_and_letters))"
      ]
    },
    {
      "cell_type": "code",
      "execution_count": null,
      "metadata": {
        "scrolled": true,
        "id": "rH67BOyd4VU_"
      },
      "outputs": [],
      "source": [
        "digits_and_letters = zip([1, 2, 3], ('a', 'b', 'c'))\n",
        "print(list(digits_and_letters))"
      ]
    },
    {
      "cell_type": "code",
      "execution_count": null,
      "metadata": {
        "scrolled": true,
        "id": "o7R_OMXV4VU_"
      },
      "outputs": [],
      "source": [
        "digits_and_letters = zip(('1', '2', '3'), {'a', 'b', 'c'})\n",
        "print(list(digits_and_letters))"
      ]
    },
    {
      "cell_type": "code",
      "execution_count": null,
      "metadata": {
        "scrolled": true,
        "id": "5LIddSyl4VVA"
      },
      "outputs": [],
      "source": [
        "digits_and_letters = zip([1, 2, 3], {1:'a', 2:'b', 3:'c'})\n",
        "print(list(digits_and_letters))"
      ]
    },
    {
      "cell_type": "markdown",
      "metadata": {
        "id": "InUfx4hE4VVA"
      },
      "source": [
        "#### Puedes comprimir más de 2 secuencias juntas"
      ]
    },
    {
      "cell_type": "code",
      "execution_count": null,
      "metadata": {
        "scrolled": true,
        "id": "BFrP_zaO4VVA"
      },
      "outputs": [],
      "source": [
        "digits_and_letters = zip([1, 2, 3], ('a', 'b', 'c'), 'ghi')\n",
        "print(list(digits_and_letters))"
      ]
    },
    {
      "cell_type": "markdown",
      "metadata": {
        "id": "v8wgUlL_4VVB"
      },
      "source": [
        "#### Cuando desea comprimir secuencias de diferentes longitudes, el contenedor con la longitud más corta decide el resultado"
      ]
    },
    {
      "cell_type": "code",
      "execution_count": null,
      "metadata": {
        "scrolled": true,
        "id": "hvw-09E74VVB"
      },
      "outputs": [],
      "source": [
        "digits_and_letters = zip([1,2,3,4,5,6,7,8,9,10], 'abc')\n",
        "print(list(digits_and_letters))"
      ]
    },
    {
      "cell_type": "markdown",
      "metadata": {
        "id": "ibei3O_44VVB"
      },
      "source": [
        "## While-loop"
      ]
    },
    {
      "cell_type": "markdown",
      "metadata": {
        "id": "4jVFgQFr4VVC"
      },
      "source": [
        "#### Sintaxis\n",
        "```python\n",
        "while <condition-1>:\n",
        "    <statement-1>\n",
        "    <statement-2>\n",
        "    ...\n",
        "else:                   \n",
        "    <statement-3>     \n",
        "    <statement-3>    \n",
        "    ...\n",
        "\n",
        "```"
      ]
    },
    {
      "cell_type": "markdown",
      "metadata": {
        "id": "H5V1HJnC4VVC"
      },
      "source": [
        "### El while-loop es el bucle más simple implementado en Python. En estos días, los programadores usan principalmente bucles for-loop, ya que los bucles for-loop son más potentes que los bucles while-loop. Sin embargo, algunas tareas se realizan mejor con un bucle while-loop\n",
        "### En realidad, podría reemplazar todos los bucles for-loops por bucles while-loop, al revés no es posible"
      ]
    },
    {
      "cell_type": "markdown",
      "metadata": {
        "id": "K-T6lf0W4VVC"
      },
      "source": [
        "#### Ejemplos"
      ]
    },
    {
      "cell_type": "code",
      "execution_count": null,
      "metadata": {
        "id": "gjsKtNJq4VVD",
        "outputId": "95eedec9-3c6d-4051-ff40-be949509fe5d"
      },
      "outputs": [
        {
          "name": "stdout",
          "output_type": "stream",
          "text": [
            "1\n",
            "1\n",
            "1\n",
            "1\n"
          ]
        }
      ],
      "source": [
        "list_1 = ['a', 'b', 'c', 'd']\n",
        "\n",
        "\n",
        "while list_1:\n",
        "    #letter = list_1.pop(0)\n",
        "    print('1')"
      ]
    },
    {
      "cell_type": "code",
      "execution_count": null,
      "metadata": {
        "id": "qsZLaA2G4VVD",
        "outputId": "26997277-bf60-4d7b-fc7b-ad03d3246c72"
      },
      "outputs": [
        {
          "name": "stdout",
          "output_type": "stream",
          "text": [
            "a\n",
            "b\n",
            "Found it\n",
            "ready\n"
          ]
        }
      ],
      "source": [
        "list_1 = ['a', 'b', 'c', 'd']\n",
        "\n",
        "\n",
        "while list_1:\n",
        "    letter = list_1.pop(0)\n",
        "\n",
        "    # El metodo pop lo que hace es que elimina un elemento de una lista y lo imprime\n",
        "    # pop(0) para eliiminar el primer valor\n",
        "    # pop(-1) elimina el ultimo valor\n",
        "    print(letter)\n",
        "    if letter == 'b':\n",
        "        print('Found it')\n",
        "        break\n",
        "else:\n",
        "    print('Didn\\'t find it')\n",
        "print('ready')"
      ]
    },
    {
      "cell_type": "code",
      "execution_count": null,
      "metadata": {
        "scrolled": true,
        "id": "yeSLa08i4VVE"
      },
      "outputs": [],
      "source": [
        "list_1 = ['a', 'b', 'c', 'd']\n",
        "while list_1:\n",
        "    letter = list_1.pop(-1)\n",
        "    print(letter)\n",
        "    if letter == 'e':\n",
        "        print('Found it')\n",
        "        break\n",
        "else:\n",
        "    print('Didn\\'t find it')\n",
        "print('ready')"
      ]
    },
    {
      "cell_type": "code",
      "execution_count": null,
      "metadata": {
        "scrolled": true,
        "id": "zzLxVfAG4VVE"
      },
      "outputs": [],
      "source": [
        "list_1 = ['a', 'b', 'c', 'd']\n",
        "while list_1:\n",
        "    letter = list_1.pop(0)  \n",
        "    print(letter)"
      ]
    },
    {
      "cell_type": "code",
      "execution_count": null,
      "metadata": {
        "scrolled": true,
        "id": "0zb_GVnp4VVF"
      },
      "outputs": [],
      "source": [
        "list_1 = ['a', 'b', 'c', 'd']\n",
        "while list_1:\n",
        "    letter = list_1.pop(-1)  \n",
        "    print(letter)"
      ]
    },
    {
      "cell_type": "code",
      "execution_count": null,
      "metadata": {
        "scrolled": true,
        "id": "6eTo798M4VVF"
      },
      "outputs": [],
      "source": [
        "list_1 = ['a', 'b', 'c', 'd']\n",
        "while list_1:\n",
        "    letter = list_1.pop(-1)  \n",
        "    print(letter)"
      ]
    },
    {
      "cell_type": "markdown",
      "metadata": {
        "id": "RI4qleO14VVF"
      },
      "source": [
        "#### Si bien la mayoría de los ejemplos anteriores también se pueden realizar fácilmente con un for-loop, el siguiente se realiza más fácilmente con un while-loop. Esta es una forma estándar en Python de probar la entrada proporcionada por el usuario."
      ]
    },
    {
      "cell_type": "code",
      "execution_count": null,
      "metadata": {
        "scrolled": true,
        "id": "okgabCeP4VVF",
        "outputId": "3743d694-cb99-459c-831d-cca632ed6629"
      },
      "outputs": [
        {
          "name": "stdout",
          "output_type": "stream",
          "text": [
            "What is your name?g\n",
            "Your name is g\n"
          ]
        }
      ],
      "source": [
        "\n",
        "while True:\n",
        "    name = input('What is your name?')\n",
        "    if name != '' and name.isalpha():\n",
        "        break\n",
        "print(f\"Your name is {name}\")         "
      ]
    },
    {
      "cell_type": "markdown",
      "metadata": {
        "id": "qvIs_gXL4VVG"
      },
      "source": [
        "#### Al igual que con un for-loop, puede usar la instrucción continuar y romper en un while-loop. Hay una cosa complicada cuando se usa continuar dentro de un while-loop. El bucle se ejecutará sin probar la condición. Puedes verlo por ti mismo en el siguiente ejemplo. Antes de hacer eso, guarde su cuaderno haciendo clic en el primer icono en la tercera fila del cuaderno. Como la condición nunca se probará, creó un bucle infinito. Verá aparecer un asterisco a la izquierda del programa. Para salir del bucle, seleccione Kernel en el menú, seleccione Reiniciar, confirme el reinicio y debería estar listo para comenzar.\n",
        "#### No es una mala idea probar esto. Cada programador entrará en un bucle infinito de vez en cuando, así que es mejor que sepas qué hacer"
      ]
    },
    {
      "cell_type": "code",
      "execution_count": null,
      "metadata": {
        "id": "iwN1trm84VVG",
        "outputId": "9168b88e-da74-441e-b604-5147b5bb006b"
      },
      "outputs": [
        {
          "ename": "KeyboardInterrupt",
          "evalue": "",
          "output_type": "error",
          "traceback": [
            "\u001b[1;31m---------------------------------------------------------------------------\u001b[0m",
            "\u001b[1;31mKeyboardInterrupt\u001b[0m                         Traceback (most recent call last)",
            "\u001b[1;32m<ipython-input-26-d738685e8963>\u001b[0m in \u001b[0;36m<module>\u001b[1;34m\u001b[0m\n\u001b[0;32m      1\u001b[0m \u001b[0ma\u001b[0m \u001b[1;33m=\u001b[0m \u001b[1;36m1\u001b[0m\u001b[1;33m\u001b[0m\u001b[1;33m\u001b[0m\u001b[0m\n\u001b[1;32m----> 2\u001b[1;33m \u001b[1;32mwhile\u001b[0m \u001b[0ma\u001b[0m \u001b[1;33m<\u001b[0m \u001b[1;36m12\u001b[0m\u001b[1;33m:\u001b[0m\u001b[1;33m\u001b[0m\u001b[1;33m\u001b[0m\u001b[0m\n\u001b[0m\u001b[0;32m      3\u001b[0m     \u001b[1;32mcontinue\u001b[0m\u001b[1;33m\u001b[0m\u001b[1;33m\u001b[0m\u001b[0m\n\u001b[0;32m      4\u001b[0m     \u001b[0ma\u001b[0m \u001b[1;33m+=\u001b[0m \u001b[1;36m1\u001b[0m\u001b[1;33m\u001b[0m\u001b[1;33m\u001b[0m\u001b[0m\n",
            "\u001b[1;31mKeyboardInterrupt\u001b[0m: "
          ]
        }
      ],
      "source": [
        "a = 1\n",
        "while a < 12:\n",
        "    continue\n",
        "    a += 1"
      ]
    },
    {
      "cell_type": "markdown",
      "metadata": {
        "id": "BcRv16l-4VVH"
      },
      "source": [
        "## Atajos"
      ]
    },
    {
      "cell_type": "markdown",
      "metadata": {
        "id": "7QADjF3R4VVI"
      },
      "source": [
        "### Conditional expressions"
      ]
    },
    {
      "cell_type": "markdown",
      "metadata": {
        "id": "GE3vZQUk4VVI"
      },
      "source": [
        "#### Sinatxis de condicionales\n",
        "```python\n",
        "<expression-1> if <condition> else <expression-2>\n",
        "\n",
        "```"
      ]
    },
    {
      "cell_type": "markdown",
      "metadata": {
        "id": "Epzlctdh4VVJ"
      },
      "source": [
        "#### Este condicional"
      ]
    },
    {
      "cell_type": "code",
      "execution_count": null,
      "metadata": {
        "id": "FbSKNrGX4VVJ",
        "outputId": "068403ff-2358-4aaa-d7fd-a91f28f18853"
      },
      "outputs": [
        {
          "name": "stdout",
          "output_type": "stream",
          "text": [
            "High\n"
          ]
        }
      ],
      "source": [
        "integer_1 = 3\n",
        "if integer_1 > 2:\n",
        "    result = \"High\"\n",
        "else:\n",
        "    result = \"list_1ow\"\n",
        "print(result)    "
      ]
    },
    {
      "cell_type": "markdown",
      "metadata": {
        "id": "QFc4qVUN4VVK"
      },
      "source": [
        "#### puede ser reemplazado por"
      ]
    },
    {
      "cell_type": "code",
      "execution_count": null,
      "metadata": {
        "id": "-nRsPvk04VVK"
      },
      "outputs": [],
      "source": [
        "integer_1 = 3\n",
        "result  =  \"High\" if integer_1 > 2 else \"Low\"\n",
        "print(result) "
      ]
    },
    {
      "cell_type": "markdown",
      "metadata": {
        "id": "9uuMWz6X4VVL"
      },
      "source": [
        "#### o por esto"
      ]
    },
    {
      "cell_type": "code",
      "execution_count": null,
      "metadata": {
        "id": "XOnh3lqE4VVL"
      },
      "outputs": [],
      "source": [
        "integer_1 = 0\n",
        "print(\"High\" if integer_1 > 2 else \"Low\")"
      ]
    },
    {
      "cell_type": "markdown",
      "metadata": {
        "id": "syMgkzOa4VVM"
      },
      "source": [
        "### Listas y otras comprensiones"
      ]
    },
    {
      "cell_type": "markdown",
      "metadata": {
        "id": "alQh0TOT4VVM"
      },
      "source": [
        "#### Sintaxis de comprensiones\n",
        "```python\n",
        "[<expression> for <variable> in <list> if <condition>] # comprensino de lista\n",
        "{<expression-1>:<expression-2> for <variable> in <list> if <condition>} # comprension para diccionario\n",
        "{<expression> for <variable> in <list> if <condition>} # comprension para set \n",
        "(<expression> for <variable> in <list> if <condition>) \n",
        "# la clausula if no es necesaria \n",
        "```"
      ]
    },
    {
      "cell_type": "markdown",
      "metadata": {
        "id": "bRB2DVBp4VVM"
      },
      "source": [
        "#### This for-loop"
      ]
    },
    {
      "cell_type": "code",
      "execution_count": null,
      "metadata": {
        "id": "LbYXBQhN4VVM",
        "outputId": "c06c0880-a11f-422e-af40-e52dab80f966"
      },
      "outputs": [
        {
          "name": "stdout",
          "output_type": "stream",
          "text": [
            "[4, 16]\n"
          ]
        }
      ],
      "source": [
        "list_1 = [1, 2, 3, 4]\n",
        "result = []\n",
        "for n in list_1:\n",
        "    # el operador % da el residuo de una division\n",
        "    # esto es llamado el modulo 2 \n",
        "    # enronces probamos si es que n es impar\n",
        "    # n % 2 == 1 es verdadero si n es impar \n",
        "    if n % 2 == 0:\n",
        "        # agregamos el resultado a una lista\n",
        "        result.append(n**2)\n",
        "print(result)"
      ]
    },
    {
      "cell_type": "markdown",
      "metadata": {
        "id": "DADu1mfE4VVN"
      },
      "source": [
        "#### puede ser reemplazado por una comprension de lista"
      ]
    },
    {
      "cell_type": "code",
      "execution_count": null,
      "metadata": {
        "scrolled": true,
        "id": "H14de_tl4VVN",
        "outputId": "e18e73cb-66fe-45b5-c9d7-f535ab608909"
      },
      "outputs": [
        {
          "name": "stdout",
          "output_type": "stream",
          "text": [
            "[4, 16]\n"
          ]
        }
      ],
      "source": [
        "list_1 = [1, 2, 3, 4]\n",
        "result  =  [n ** 2 for n in list_1 if n % 2 == 0] # crea una lista\n",
        "print(result)"
      ]
    },
    {
      "cell_type": "markdown",
      "metadata": {
        "id": "t6zBqVnL4VVN"
      },
      "source": [
        "#### Tambien podemos crear un diccionario de esta manera"
      ]
    },
    {
      "cell_type": "code",
      "execution_count": null,
      "metadata": {
        "id": "7GgLX1Dw4VVO"
      },
      "outputs": [],
      "source": [
        "list_1 = [1, 2, 3, 4]\n",
        "result  =  {n:n ** 2 for n in list_1 if n % 2 == 0}\n",
        "print(result)\n",
        "# El metodo items de un diccionario da una lista de tuplas cada una con su key y su valor\n",
        "print(list(result.items()))\n",
        "# lista de keys\n",
        "print(list(result.keys()))\n",
        "# Lista de resultados\n",
        "print(list(result.values()))"
      ]
    },
    {
      "cell_type": "code",
      "execution_count": null,
      "metadata": {
        "id": "_ofe6d8w4VVO"
      },
      "outputs": [],
      "source": [
        "list_1 = [1, 2, 3, 4]\n",
        "result  =  {n ** 2 for n in list_1 if n % 2 == 0}\n",
        "print(result)"
      ]
    },
    {
      "cell_type": "code",
      "execution_count": null,
      "metadata": {
        "id": "wF6Ukits4VVO",
        "outputId": "0bf06713-9aec-4435-98ef-4b8127525d87"
      },
      "outputs": [
        {
          "name": "stdout",
          "output_type": "stream",
          "text": [
            "<generator object <genexpr> at 0x000001F5FB100BA0>\n"
          ]
        }
      ],
      "source": [
        "list_1 = [1, 2, 3, 4]\n",
        "result  =  (n ** 2 for n in list_1 if n % 2 == 0)\n",
        "print(result)\n",
        "# mas parecido a crear un rango "
      ]
    },
    {
      "cell_type": "code",
      "execution_count": null,
      "metadata": {
        "id": "alqN-CDR4VVT",
        "outputId": "0964696b-2412-4eb4-ba15-5970a166f84d"
      },
      "outputs": [
        {
          "name": "stdout",
          "output_type": "stream",
          "text": [
            "4\n",
            "16\n"
          ]
        }
      ],
      "source": [
        "for x in result:\n",
        "    print(x)"
      ]
    },
    {
      "cell_type": "markdown",
      "metadata": {
        "id": "W8GHYeFS4VVT"
      },
      "source": [
        "### No hay una comprension para una tupla pero esto funciona"
      ]
    },
    {
      "cell_type": "code",
      "execution_count": null,
      "metadata": {
        "id": "3c7FgLT64VVT"
      },
      "outputs": [],
      "source": [
        "list_1 = [1, 2, 3, 4]\n",
        "# We construct a generator object \n",
        "result  =  (n ** 2 for n in list_1 if n % 2 == 0)\n",
        "# which we convert into a tuple\n",
        "result = tuple(result)\n",
        "print(result)"
      ]
    },
    {
      "cell_type": "markdown",
      "metadata": {
        "id": "wJCwQGUJ4VVU"
      },
      "source": [
        "### Si quieres saber por qué no hay comprensiones de tuplas? Googlea 'comprensiones de tupla de Python'. Encontrarás como uno de los primeros resultados [https://stackoverflow.com/questions/16940293/why-is-there-no-tuple-comprehension-in-python](https://stackoverflow.com/questions/16940293 /why-is-there-no-tuple-comprehension-in-python), lea las preguntas y respuestas si está interesado y recuerda que si tienes una pregunta un poco difícil googlea, los resultados en [https://stackoverflow ](https://stackoverflow) son realmente los primeros en aparcer. "
      ]
    },
    {
      "cell_type": "markdown",
      "metadata": {
        "id": "jNBdGAHl4VVU"
      },
      "source": [
        "# Preguntas "
      ]
    },
    {
      "cell_type": "markdown",
      "metadata": {
        "id": "bZ-tDR6i4VVU"
      },
      "source": [
        "## 1 Programa la impresión de una tabla de multiplicar para todos los números entre 1 y 10, usando For-loops\n",
        "## Rendimiento esperado:\n",
        "     1   times  1  =    1\n",
        "     1   times  2  =    2\n",
        "     ...\n",
        "     1   times 10  =   10\n",
        "     ...\n",
        "    10   times 10  =  100  "
      ]
    },
    {
      "cell_type": "markdown",
      "source": [
        "Respuesta"
      ],
      "metadata": {
        "id": "YRGfWtMA4oK0"
      }
    },
    {
      "cell_type": "code",
      "source": [
        "tabla_multiplicar=int(input(\"¿Qué tabla de multiplicar desea?:  \")) # Especifica la table de multiplicar\n",
        "rango = int(input(\"¿Hasta qué valor desea la tabla de multiplicar?: \")) # El rango de la tabla de multiplicar\n",
        "for i in range (1, rango + 1): # Definir el contador de la función\n",
        "    print(f'{tabla_multiplicar}*{i}={i*tabla_multiplicar}')\n",
        "¿Qué tabla de multiplicar desea?:  5\n",
        "¿Hasta qué valor desea la tabla de multiplicar?: 12\n",
        "5*1=5\n",
        "5*2=10\n",
        "5*3=15\n",
        "5*4=20\n",
        "5*5=25\n",
        "5*6=30\n",
        "5*7=35\n",
        "5*8=40\n",
        "5*9=45\n",
        "5*10=50\n",
        "5*11=55\n",
        "5*12=60"
      ],
      "metadata": {
        "id": "D31_nz9T4nPN"
      },
      "execution_count": null,
      "outputs": []
    },
    {
      "cell_type": "markdown",
      "metadata": {
        "id": "soR3HlTI4VVV"
      },
      "source": [
        "## 2 Programe un calendario (para todos los meses) para 2020 usando For-loops\n",
        "## Rendimiento esperado:\n",
        "     January                     \n",
        "     Mon Tue Wed Thu Fri Sat Sun  \n",
        "              1   2   3   4   5\n",
        "      6   7   8   9  10  11  12\n",
        "     13  14  15  16  17  18  19\n",
        "     20  21  22  23  24  25  26\n",
        "     27  28  29  30  31\n",
        "     \n",
        "     February\n",
        "     Mon Tue Wed Thu Fri Sat Sun\n",
        "                           1   2"
      ]
    },
    {
      "cell_type": "markdown",
      "source": [
        "Respuesta"
      ],
      "metadata": {
        "id": "aftndjWf5QBw"
      }
    },
    {
      "cell_type": "code",
      "source": [
        "import calendar  # Función predefinida en Python para crear calendarios\n",
        "calendario= calendar.TextCalendar(calendar.SUNDAY) # Se indica el primer día de la semana\n",
        "print(calendario.formatyear(2020,2,1,1,3))# Función formatyear: ancho (de la columna), una semana por linea y espacio entre columnas de mes\n",
        "                              2020\n",
        "\n",
        "      January               February               March\n",
        "Su Mo Tu We Th Fr Sa  Su Mo Tu We Th Fr Sa  Su Mo Tu We Th Fr Sa\n",
        "          1  2  3  4                     1   1  2  3  4  5  6  7\n",
        " 5  6  7  8  9 10 11   2  3  4  5  6  7  8   8  9 10 11 12 13 14\n",
        "12 13 14 15 16 17 18   9 10 11 12 13 14 15  15 16 17 18 19 20 21\n",
        "19 20 21 22 23 24 25  16 17 18 19 20 21 22  22 23 24 25 26 27 28\n",
        "26 27 28 29 30 31     23 24 25 26 27 28 29  29 30 31\n",
        "\n",
        "       April                  May                   June\n",
        "Su Mo Tu We Th Fr Sa  Su Mo Tu We Th Fr Sa  Su Mo Tu We Th Fr Sa\n",
        "          1  2  3  4                  1  2      1  2  3  4  5  6\n",
        " 5  6  7  8  9 10 11   3  4  5  6  7  8  9   7  8  9 10 11 12 13\n",
        "12 13 14 15 16 17 18  10 11 12 13 14 15 16  14 15 16 17 18 19 20\n",
        "19 20 21 22 23 24 25  17 18 19 20 21 22 23  21 22 23 24 25 26 27\n",
        "26 27 28 29 30        24 25 26 27 28 29 30  28 29 30\n",
        "                      31\n",
        "\n",
        "        July                 August              September\n",
        "Su Mo Tu We Th Fr Sa  Su Mo Tu We Th Fr Sa  Su Mo Tu We Th Fr Sa\n",
        "          1  2  3  4                     1         1  2  3  4  5\n",
        " 5  6  7  8  9 10 11   2  3  4  5  6  7  8   6  7  8  9 10 11 12\n",
        "12 13 14 15 16 17 18   9 10 11 12 13 14 15  13 14 15 16 17 18 19\n",
        "19 20 21 22 23 24 25  16 17 18 19 20 21 22  20 21 22 23 24 25 26\n",
        "26 27 28 29 30 31     23 24 25 26 27 28 29  27 28 29 30\n",
        "                      30 31\n",
        "\n",
        "      October               November              December\n",
        "Su Mo Tu We Th Fr Sa  Su Mo Tu We Th Fr Sa  Su Mo Tu We Th Fr Sa\n",
        "             1  2  3   1  2  3  4  5  6  7         1  2  3  4  5\n",
        " 4  5  6  7  8  9 10   8  9 10 11 12 13 14   6  7  8  9 10 11 12\n",
        "11 12 13 14 15 16 17  15 16 17 18 19 20 21  13 14 15 16 17 18 19\n",
        "18 19 20 21 22 23 24  22 23 24 25 26 27 28  20 21 22 23 24 25 26\n",
        "25 26 27 28 29 30 31  29 30                 27 28 29 30 31"
      ],
      "metadata": {
        "id": "_iJRZxXt5TSA"
      },
      "execution_count": null,
      "outputs": []
    },
    {
      "cell_type": "markdown",
      "metadata": {
        "id": "ia3ZqGx24VVV"
      },
      "source": [
        "## 3 Programe la siguiente regulación fiscal, usando datos ficticios con declaraciones condicionales, use las tres cláusulas (if, elif, else) al menos una vez\n",
        "Si el valor del paquete es inferior a 20 no tienes que pagar ningún impuesto de importación\n",
        "Si el valor del paquete está entre 20 y 30 pagas 10% de impuesto de importación sobre el valor total\n",
        "Si el valor del paquete está entre 30 y 60, paga un impuesto de importación adicional del 7% sobre el valor superior a 30\n",
        "Si el valor del paquete es superior a 60, paga un impuesto de importación adicional del 3% sobre el valor superior a 60\n",
        "\n",
        "Si el valor del paquete es superior a 10 pagas el 20% de IVA sobre la suma total del valor e impuesto de importación\n",
        "\n",
        "El valor del paquete debe establecerse en una variable y debe probar si su programa funciona para diferentes valores.\n",
        "### Salida esperada (ejemplo):\n",
        "El valor del paquete fue de 25,00, el impuesto de importación es de 2,50, el IVA es de 5,50, el total es de 33,00."
      ]
    },
    {
      "cell_type": "markdown",
      "source": [
        "Respuesta"
      ],
      "metadata": {
        "id": "sRsDJvJD5hRJ"
      }
    },
    {
      "cell_type": "code",
      "source": [
        "valor_del_paquete=int(input(\"Ingrese el valor del paquete:\"))\n",
        "# valor del paquete : si es inferior a 20  no paga impuesto, si esta entre 20 y 30 paga 10%, si esta entre 30 y 60 paga 17%\n",
        "# si es superior a 60 paga 20%\n",
        "while valor_del_paquete:\n",
        "    if (valor_del_paquete >10 and valor_del_paquete<20):\n",
        "        print (\"No paga impuesto de importación\")\n",
        "        print(\"Valor del paquete: $\" , valor_del_paquete)\n",
        "        print(\"Impuesto de Importación: $0\")\n",
        "        print(\"IVA: $\",((valor_del_paquete*20)/100))\n",
        "        print(\"Valor Total: $\" ,((valor_del_paquete*20)/100)+valor_del_paquete)\n",
        "        break\n",
        "        \n",
        "    if (valor_del_paquete <20):\n",
        "        print (\"No paga impuesto de importación\")\n",
        "        print(\"Valor del paquete: $\" , valor_del_paquete)\n",
        "        print(\"Impuesto de importación: $0\")\n",
        "        print(\"Valor Total: $\" , valor_del_paquete)\n",
        "        break\n",
        "        \n",
        "    if (valor_del_paquete >=20 and valor_del_paquete<=30):\n",
        "        print (\"Paga el 10% de impuesto de importación\")\n",
        "        print(\"Valor del paquete: $\" ,valor_del_paquete)\n",
        "        print(\"Impuesto de Importación: $\"  ,((valor_del_paquete*10)/100))\n",
        "        print(\"Valor Total: $\" ,(((valor_del_paquete*10)/100)+valor_del_paquete))\n",
        "        break\n",
        "        \n",
        "    if (valor_del_paquete >=30 and valor_del_paquete <=60):\n",
        "        print (\"Paga el 17% de impuesto de importación(paga un impuesto de importación adicional del 7%)\")\n",
        "        print(\"Valor del paquete: $\",valor_del_paquete)\n",
        "        print(\"Impuesto de IMportación: $\"  ,((valor_del_paquete*17)/100))\n",
        "        print(\"Valor Total: $\" ,(((valor_del_paquete*17)/100)+valor_del_paquete))\n",
        "        break\n",
        "        \n",
        "    elif (valor_del_paquete >60):\n",
        "        print(\"Paga el 20% de impuesto de importación(paga un impuesto de importación adicional del 3% sobre el valor superior a 60)\")\n",
        "        print(\"Valor del paquete: $\" , valor_del_paquete)\n",
        "        print(\"Impuesto de Importación: $\" , ((valor_del_paquete*20)/100))\n",
        "        print(\"Valor Total: $\" , (((valor_del_paquete*20)/100)+valor_del_paquete))\n",
        "        break\n",
        "        \n",
        "Ingrese el valor del paquete:50\n",
        "Paga el 17% de impuesto de importación(paga un impuesto de importación adicional del 7%)\n",
        "Valor del paquete: $ 50\n",
        "Impuesto de IMportación: $ 8.5\n",
        "Valor Total: $ 58.5"
      ],
      "metadata": {
        "id": "WthMkZIS5jjO"
      },
      "execution_count": null,
      "outputs": []
    },
    {
      "cell_type": "markdown",
      "metadata": {
        "id": "tCPvzrxX4VVW"
      },
      "source": [
        "## 4 Reescribe el siguiente programa reemplazando la declaración condicional con expresiones condicionales"
      ]
    },
    {
      "cell_type": "code",
      "execution_count": null,
      "metadata": {
        "id": "887Uagfl4VVW"
      },
      "outputs": [],
      "source": [
        "a = -1\n",
        "if a == 0:\n",
        "    result = \"= 0\"\n",
        "elif a>1:\n",
        "    result = \"> 1\"\n",
        "else:\n",
        "    result = \"<= 1\"\n",
        "print(result)    "
      ]
    },
    {
      "cell_type": "markdown",
      "source": [
        "Respuesta"
      ],
      "metadata": {
        "id": "554egNp-5n3f"
      }
    },
    {
      "cell_type": "code",
      "source": [
        "print(result)    \n",
        "<= 1\n",
        "a= -1\n",
        "result= \"= 0\" if a==0  else \"<= 1 \"\n",
        "print(result)\n",
        "<= 1 "
      ],
      "metadata": {
        "id": "hItMImzI5q9A"
      },
      "execution_count": null,
      "outputs": []
    },
    {
      "cell_type": "markdown",
      "metadata": {
        "id": "lG12Gy2v4VVX"
      },
      "source": [
        "## 5 Reescriba el siguiente programa reemplazando la lista de comprensión con un while-loop"
      ]
    },
    {
      "cell_type": "code",
      "execution_count": null,
      "metadata": {
        "id": "1A137uhX4VVX"
      },
      "outputs": [],
      "source": [
        "list_1 = [1, 2, 3, 4]\n",
        "result  =  [digit ** 2 for digit in list_1 if digit % 2 == 0]\n",
        "print(result)"
      ]
    },
    {
      "cell_type": "markdown",
      "source": [
        "Respuesta"
      ],
      "metadata": {
        "id": "2ze95dui6B_Q"
      }
    },
    {
      "cell_type": "code",
      "source": [
        "[4, 16]\n",
        "list_1 = [1, 2, 3, 4]\n",
        "i = 0\n",
        "while list_1:\n",
        "    if list_1(i) % 2 == 0:\n",
        "        x = list_1(i)**2\n",
        "        print(x)\n",
        "    i+=1\n",
        "    break\n",
        "---------------------------------------------------------------------------\n",
        "TypeError                                 Traceback (most recent call last)\n",
        "Input In [26], in <cell line: 3>()\n",
        "      2 i = 0\n",
        "      3 while list_1:\n",
        "----> 4     if list_1(i) % 2 == 0:\n",
        "      5         x = list_1(i)**2\n",
        "      6         print(x)\n",
        "\n",
        "TypeError: 'list' object is not callable"
      ],
      "metadata": {
        "id": "1cytjsIm6EuD"
      },
      "execution_count": null,
      "outputs": []
    },
    {
      "cell_type": "markdown",
      "metadata": {
        "id": "GezGKhmj4VVY"
      },
      "source": [
        "## 6 En la clase 1 te mostramos las siguientes afirmaciones:"
      ]
    },
    {
      "cell_type": "code",
      "execution_count": null,
      "metadata": {
        "id": "OHWOKeVo4VVY",
        "outputId": "6845c71e-8fb3-4330-b957-979d7e5fcf0f"
      },
      "outputs": [
        {
          "name": "stdout",
          "output_type": "stream",
          "text": [
            "True\n",
            "False\n"
          ]
        }
      ],
      "source": [
        "a = 1\n",
        "b = 1\n",
        "print(a is b)\n",
        "\n",
        "a = 1000\n",
        "b = 1000\n",
        "print(a is b)"
      ]
    },
    {
      "cell_type": "markdown",
      "metadata": {
        "id": "TsfKMj9y4VVZ"
      },
      "source": [
        "Y, por supuesto, tienes curiosidad por la diferencia. Aprendimos en la clase 1 que los números enteros -5 hasta 255 fueron internados (guardados en disco) cuando comenzó Python, esto significa que los objetos con estos valores ya estaban creados. Ahora deseaamos escribir un programa que nos diga que 256 es de hecho el primer número entero que Python no esta guardado en disco.\n",
        "\n",
        "Escrbimos el siguiente programa y ahora necsitamos explicar por qué este programa imprimirá \"Sorpresa\". ¿No debería romperse mientras se procesa el número entero 256, ya que ese número no está guardado internamente?"
      ]
    },
    {
      "cell_type": "code",
      "execution_count": null,
      "metadata": {
        "id": "IdncV6j54VVZ",
        "outputId": "59d80b82-c9c5-4662-cec2-d172f55bbd0c"
      },
      "outputs": [
        {
          "name": "stdout",
          "output_type": "stream",
          "text": [
            "Surprise\n"
          ]
        }
      ],
      "source": [
        "for x in range(1000):\n",
        "    a = x\n",
        "    b = x\n",
        "    if not (a is b):\n",
        "        print(f\"the highest integer {x-1}\")\n",
        "        break\n",
        "else:\n",
        "    print(\"Surprise\")"
      ]
    },
    {
      "cell_type": "markdown",
      "source": [
        "Respuesta"
      ],
      "metadata": {
        "id": "SK_AFads6eZC"
      }
    },
    {
      "cell_type": "code",
      "source": [
        "For  sirve como contador, entonces no cumple la regla"
      ],
      "metadata": {
        "id": "zkwKVX--6gq2"
      },
      "execution_count": null,
      "outputs": []
    },
    {
      "cell_type": "markdown",
      "metadata": {
        "id": "lKE1Hwso4VVa"
      },
      "source": [
        "## 7 Vuelva a escribir la siguiente declaración sin un bucle y solo usando declaraciones condicionales:"
      ]
    },
    {
      "cell_type": "code",
      "execution_count": null,
      "metadata": {
        "id": "3PIeDbht4VVa"
      },
      "outputs": [],
      "source": [
        "i = 1\n",
        "while i < 4:\n",
        "    print(i)\n",
        "    i +=1"
      ]
    },
    {
      "cell_type": "markdown",
      "source": [
        "Respuesta"
      ],
      "metadata": {
        "id": "8BthEdhZ6u8a"
      }
    },
    {
      "cell_type": "code",
      "source": [
        "1\n",
        "2\n",
        "3\n",
        "i = 1\n",
        "if i < 4:\n",
        "        print(i)\n",
        "        i +=1\n",
        "if i <=4:\n",
        "    print(i)\n",
        "    i +=1\n",
        "if i <= 4:\n",
        "    print(i)\n",
        "    i +=1\n",
        "1\n",
        "2\n",
        "3"
      ],
      "metadata": {
        "id": "01U_M5056xHx"
      },
      "execution_count": null,
      "outputs": []
    }
  ],
  "metadata": {
    "kernelspec": {
      "display_name": "Python 3",
      "language": "python",
      "name": "python3"
    },
    "language_info": {
      "codemirror_mode": {
        "name": "ipython",
        "version": 3
      },
      "file_extension": ".py",
      "mimetype": "text/x-python",
      "name": "python",
      "nbconvert_exporter": "python",
      "pygments_lexer": "ipython3",
      "version": "3.8.5"
    },
    "colab": {
      "name": "clase 2.ipynb",
      "provenance": []
    }
  },
  "nbformat": 4,
  "nbformat_minor": 0
}